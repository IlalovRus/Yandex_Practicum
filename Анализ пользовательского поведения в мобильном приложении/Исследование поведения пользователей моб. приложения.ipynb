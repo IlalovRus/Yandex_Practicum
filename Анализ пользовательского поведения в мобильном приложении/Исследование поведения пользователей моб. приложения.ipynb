{
 "cells": [
  {
   "cell_type": "markdown",
   "metadata": {},
   "source": [
    "# Изучение пользовательского поведения в мобильном приложении по продаже продуктов питания"
   ]
  },
  {
   "cell_type": "markdown",
   "metadata": {},
   "source": [
    "**Цель:** \n",
    "Проанализировать, повлияет ли изменение шрифта в приложении на поведение пользователей\n",
    "\n",
    "**Задачи:**  \n",
    "1. изучить логи пользователей;\n",
    "2. составить и изучить воронку событий;\n",
    "3. провести A/A и A/B-тесты.\n",
    "\n",
    "**Описание данных:** \n",
    "Файл с логами (`logs_exp.csv`):\n",
    "- **`EventName`** — название события;\n",
    "- **`DeviceIDHash`** — уникальный идентификатор пользователя;\n",
    "- **`EventTimestamp`** — время события;\n",
    "- **`ExpId`** — номер эксперимента: `246` и `247` — контрольные группы, а `248` — экспериментальная."
   ]
  },
  {
   "cell_type": "markdown",
   "metadata": {},
   "source": [
    "**Импорт необходимых библиотек**"
   ]
  },
  {
   "cell_type": "code",
   "execution_count": 1,
   "metadata": {},
   "outputs": [],
   "source": [
    "import numpy as np\n",
    "import pandas as pd\n",
    "import seaborn as sns\n",
    "import matplotlib\n",
    "import matplotlib.pyplot as plt\n",
    "from IPython.display import Image\n",
    "import scipy.stats as st\n",
    "import datetime as dt\n",
    "import warnings\n",
    "warnings.filterwarnings('ignore')\n",
    "import os\n",
    "import re\n",
    "import math as mth"
   ]
  },
  {
   "cell_type": "markdown",
   "metadata": {},
   "source": [
    "**Функции**"
   ]
  },
  {
   "cell_type": "markdown",
   "metadata": {},
   "source": [
    "**Функция для анализа датафреймов**"
   ]
  },
  {
   "cell_type": "code",
   "execution_count": 2,
   "metadata": {},
   "outputs": [],
   "source": [
    "def get_df_info(df):\n",
    "    print('Первые 7 строк датафрейма:')\n",
    "    display(df.head(7))\n",
    "    print('')\n",
    "    print('Размер датафрейма:')\n",
    "    print('Количество строк: {}\\nКоличество столбцов: {}\\n'.format(df.shape[0], df.shape[1]))\n",
    "    print('Типы данных в слотбцах датафрейма:')\n",
    "    display(df.dtypes)\n",
    "    print('Количество явных дубликатов в датафрейме: {} \\n'.format(df.duplicated().sum()))\n",
    "    print('Количество пропусков в датафрейме: \\n{}'.format(df.isna().sum().sort_values(ascending=False)))"
   ]
  },
  {
   "cell_type": "markdown",
   "metadata": {},
   "source": [
    "**Функция для отрисовки столбчатой диаграммы по видам событий**"
   ]
  },
  {
   "cell_type": "code",
   "execution_count": 3,
   "metadata": {},
   "outputs": [],
   "source": [
    "def get_barh(parameter):\n",
    "    ax = logs_types.sort_values(parameter).plot(y=parameter, \n",
    "                                                kind='barh', \n",
    "                                                ec='black', \n",
    "                                                color=sns.color_palette('husl', 1),\n",
    "                                                figsize=(15,5))\n",
    "    ax.set_facecolor('seashell')\n",
    "    if parameter == 'count_events':\n",
    "        ax.set_title('Количество событий по видам, шт.')\n",
    "    elif parameter == 'count_users':\n",
    "        ax.set_title('Количество пользователей, совершивших событие,чел.')\n",
    "    ax.set_ylabel('Вид события')\n",
    "    ax.set_xlabel('Количество')\n",
    "\n",
    "    for column in ax.patches:\n",
    "        width = column.get_width()\n",
    "        if width > ax.patches[4].get_width() * 0.09:\n",
    "            ax.text(x=width / 2, \n",
    "                    y=column.get_y() + (column.get_height() / 3), \n",
    "                    s='{}'.format(width), \n",
    "                    ha='center', \n",
    "                    fontsize=12, \n",
    "                    fontweight='bold')\n",
    "        else:\n",
    "            ax.text(x=width + width * 0.05, \n",
    "                    y=column.get_y() + (column.get_height() / 3), \n",
    "                    s='{}'.format(width), \n",
    "                    ha='left', \n",
    "                    fontsize=12, \n",
    "                    fontweight='bold')\n",
    "    plt.axvline(x=logs_types[parameter].mean(), linewidth=1, color='r', linestyle='--')\n",
    "    ax.text(logs_types[parameter].mean() + logs_types[parameter].mean() * 0.01, \n",
    "            1, \n",
    "            '{0:.2f}'.format(logs_types[parameter].mean()), \n",
    "            ha='left', \n",
    "            color='r', \n",
    "            fontweight='bold', \n",
    "            fontsize='large')\n",
    "    plt.legend([], frameon=False)   \n",
    "    plt.show()"
   ]
  },
  {
   "cell_type": "markdown",
   "metadata": {},
   "source": [
    "**Функция для проверки разницы между долями генеральной выборки** "
   ]
  },
  {
   "cell_type": "markdown",
   "metadata": {},
   "source": [
    "![Z](https://pictures.s3.yandex.net/resources/Screenshot_2019-09-30_at_21.06.40_1569866809.png)"
   ]
  },
  {
   "cell_type": "code",
   "execution_count": 4,
   "metadata": {},
   "outputs": [],
   "source": [
    "def hypotheses_test_result(group1, group2, parameter='all', bonferrony=1):\n",
    "    if bonferrony != 0:\n",
    "        alpha = 0.05 / bonferrony # критический уровень статистической значимости\n",
    "        print('alpha: {}'.format(alpha))\n",
    "        if parameter != 'all':\n",
    "            p1 = (int(group_users.loc[group_users['group'] == group1][parameter]) / \n",
    "                  int(group_users.loc[group_users['group'] == group1]['count_users'])) \n",
    "            p2 = (int(group_users.loc[group_users['group'] == group2][parameter]) / \n",
    "                  int(group_users.loc[group_users['group'] == group2]['count_users'])) \n",
    "            p_combined = ((int(group_users.loc[group_users['group'] == group1][parameter]) + \n",
    "                           int(group_users.loc[group_users['group'] == group2][parameter])) /\n",
    "                          (int(group_users.loc[group_users['group'] == group1]['count_users']) +\n",
    "                           int(group_users.loc[group_users['group'] == group2]['count_users'])))\n",
    "            difference = p1 - p2\n",
    "    \n",
    "            z_value = (difference / \n",
    "                       mth.sqrt(p_combined * (1 - p_combined) * (1 / int(group_users.loc[group_users['group'] == group1]['count_users']) + 1 \n",
    "                                                                 / int(group_users.loc[group_users['group'] == group2]['count_users'])\n",
    "                                                                )\n",
    "                               )\n",
    "                      )\n",
    "            distr = st.norm(0, 1)\n",
    "            p_value = round((1 - distr.cdf(abs(z_value))) * 2, 4)\n",
    "            print('По доле {}'.format(parameter))\n",
    "            print('p-значение: ', p_value)\n",
    "\n",
    "            if p_value < alpha:\n",
    "                print('Отвергаем нулевую гипотезу: между долями есть значимая разница \\n')\n",
    "            else:\n",
    "                print('Не получилось отвергнуть нулевую гипотезу, нет оснований считать доли разными \\n')\n",
    "    \n",
    "    \n",
    "        else:\n",
    "            list_of_parameters = ['MainScreenAppear', 'OffersScreenAppear', 'CartScreenAppear', 'PaymentScreenSuccessful', 'Tutorial']\n",
    "            for i in list_of_parameters:\n",
    "                p1 = (int(group_users.loc[group_users['group'] == group1][i]) / \n",
    "                      int(group_users.loc[group_users['group'] == group1]['count_users'])) \n",
    "                p2 = (int(group_users.loc[group_users['group'] == group2][i]) / \n",
    "                      int(group_users.loc[group_users['group'] == group2]['count_users'])) \n",
    "                p_combined = ((int(group_users.loc[group_users['group'] == group1][i]) + \n",
    "                               int(group_users.loc[group_users['group'] == group2][i])) /\n",
    "                              (int(group_users.loc[group_users['group'] == group1]['count_users']) +\n",
    "                               int(group_users.loc[group_users['group'] == group2]['count_users'])))\n",
    "                difference = p1 - p2\n",
    "    \n",
    "                z_value = (difference / \n",
    "                           mth.sqrt(p_combined * (1 - p_combined) * (1 / int(group_users.loc[group_users['group'] == group1]['count_users']) + 1 \n",
    "                                                                    / int(group_users.loc[group_users['group'] == group2]['count_users'])\n",
    "                                                                    )\n",
    "                                   )\n",
    "                          )\n",
    "                distr = st.norm(0, 1)\n",
    "                p_value = round((1 - distr.cdf(abs(z_value))) * 2, 4)\n",
    "                print('По доле {}'.format(i))\n",
    "                print('p-значение: ', p_value)\n",
    "\n",
    "                if p_value < alpha:\n",
    "                    print('Отвергаем нулевую гипотезу: между долями есть значимая разница \\n')\n",
    "                else:\n",
    "                    print('Не получилось отвергнуть нулевую гипотезу, нет оснований считать доли разными \\n')\n",
    "    else:\n",
    "            print('Значение bonferrony не может равняться нулю')                       "
   ]
  },
  {
   "cell_type": "markdown",
   "metadata": {},
   "source": [
    "## Загрузка данных"
   ]
  },
  {
   "cell_type": "code",
   "execution_count": 5,
   "metadata": {},
   "outputs": [],
   "source": [
    "this_is_the_way = '/datasets/logs_exp.csv'\n",
    "\n",
    "if os.path.exists(this_is_the_way):\n",
    "    logs = pd.read_csv(this_is_the_way, sep='\\t')\n",
    "else:\n",
    "    logs = pd.read_csv('https://***/***/***.csv', sep='\\t')"
   ]
  },
  {
   "cell_type": "markdown",
   "metadata": {},
   "source": [
    "## Подготовка данных к анализу"
   ]
  },
  {
   "cell_type": "code",
   "execution_count": 6,
   "metadata": {
    "scrolled": false
   },
   "outputs": [
    {
     "name": "stdout",
     "output_type": "stream",
     "text": [
      "Первые 7 строк датафрейма:\n"
     ]
    },
    {
     "data": {
      "text/html": [
       "<div>\n",
       "<style scoped>\n",
       "    .dataframe tbody tr th:only-of-type {\n",
       "        vertical-align: middle;\n",
       "    }\n",
       "\n",
       "    .dataframe tbody tr th {\n",
       "        vertical-align: top;\n",
       "    }\n",
       "\n",
       "    .dataframe thead th {\n",
       "        text-align: right;\n",
       "    }\n",
       "</style>\n",
       "<table border=\"1\" class=\"dataframe\">\n",
       "  <thead>\n",
       "    <tr style=\"text-align: right;\">\n",
       "      <th></th>\n",
       "      <th>EventName</th>\n",
       "      <th>DeviceIDHash</th>\n",
       "      <th>EventTimestamp</th>\n",
       "      <th>ExpId</th>\n",
       "    </tr>\n",
       "  </thead>\n",
       "  <tbody>\n",
       "    <tr>\n",
       "      <th>0</th>\n",
       "      <td>MainScreenAppear</td>\n",
       "      <td>4575588528974610257</td>\n",
       "      <td>1564029816</td>\n",
       "      <td>246</td>\n",
       "    </tr>\n",
       "    <tr>\n",
       "      <th>1</th>\n",
       "      <td>MainScreenAppear</td>\n",
       "      <td>7416695313311560658</td>\n",
       "      <td>1564053102</td>\n",
       "      <td>246</td>\n",
       "    </tr>\n",
       "    <tr>\n",
       "      <th>2</th>\n",
       "      <td>PaymentScreenSuccessful</td>\n",
       "      <td>3518123091307005509</td>\n",
       "      <td>1564054127</td>\n",
       "      <td>248</td>\n",
       "    </tr>\n",
       "    <tr>\n",
       "      <th>3</th>\n",
       "      <td>CartScreenAppear</td>\n",
       "      <td>3518123091307005509</td>\n",
       "      <td>1564054127</td>\n",
       "      <td>248</td>\n",
       "    </tr>\n",
       "    <tr>\n",
       "      <th>4</th>\n",
       "      <td>PaymentScreenSuccessful</td>\n",
       "      <td>6217807653094995999</td>\n",
       "      <td>1564055322</td>\n",
       "      <td>248</td>\n",
       "    </tr>\n",
       "    <tr>\n",
       "      <th>5</th>\n",
       "      <td>CartScreenAppear</td>\n",
       "      <td>6217807653094995999</td>\n",
       "      <td>1564055323</td>\n",
       "      <td>248</td>\n",
       "    </tr>\n",
       "    <tr>\n",
       "      <th>6</th>\n",
       "      <td>OffersScreenAppear</td>\n",
       "      <td>8351860793733343758</td>\n",
       "      <td>1564066242</td>\n",
       "      <td>246</td>\n",
       "    </tr>\n",
       "  </tbody>\n",
       "</table>\n",
       "</div>"
      ],
      "text/plain": [
       "                 EventName         DeviceIDHash  EventTimestamp  ExpId\n",
       "0         MainScreenAppear  4575588528974610257      1564029816    246\n",
       "1         MainScreenAppear  7416695313311560658      1564053102    246\n",
       "2  PaymentScreenSuccessful  3518123091307005509      1564054127    248\n",
       "3         CartScreenAppear  3518123091307005509      1564054127    248\n",
       "4  PaymentScreenSuccessful  6217807653094995999      1564055322    248\n",
       "5         CartScreenAppear  6217807653094995999      1564055323    248\n",
       "6       OffersScreenAppear  8351860793733343758      1564066242    246"
      ]
     },
     "metadata": {},
     "output_type": "display_data"
    },
    {
     "name": "stdout",
     "output_type": "stream",
     "text": [
      "\n",
      "Размер датафрейма:\n",
      "Количество строк: 244126\n",
      "Количество столбцов: 4\n",
      "\n",
      "Типы данных в слотбцах датафрейма:\n"
     ]
    },
    {
     "data": {
      "text/plain": [
       "EventName         object\n",
       "DeviceIDHash       int64\n",
       "EventTimestamp     int64\n",
       "ExpId              int64\n",
       "dtype: object"
      ]
     },
     "metadata": {},
     "output_type": "display_data"
    },
    {
     "name": "stdout",
     "output_type": "stream",
     "text": [
      "Количество явных дубликатов в датафрейме: 413 \n",
      "\n",
      "Количество пропусков в датафрейме: \n",
      "EventName         0\n",
      "DeviceIDHash      0\n",
      "EventTimestamp    0\n",
      "ExpId             0\n",
      "dtype: int64\n"
     ]
    }
   ],
   "source": [
    "get_df_info(logs)"
   ]
  },
  {
   "cell_type": "code",
   "execution_count": 7,
   "metadata": {
    "scrolled": true
   },
   "outputs": [
    {
     "name": "stdout",
     "output_type": "stream",
     "text": [
      "Процент дубликатов: 0.17%\n"
     ]
    }
   ],
   "source": [
    "# процент дублированных данных\n",
    "print('Процент дубликатов: {:.2%}'.format(logs.duplicated().sum() / len(logs)))"
   ]
  },
  {
   "cell_type": "markdown",
   "metadata": {},
   "source": [
    "**В датафрейме хранится информация о практически 245 тысячах событий, произошедших в приложении. Однако среди логов есть 413 явных дубликатов, что составляет меньше процента. Хоть такое количество никак не скажется на результатах исследования, поскольку мы их нашли, то удалим. Также сразу бросается в глаза, что тип данных в поле с датой и временем указан неверно. Пропусков в датафрейме нет.**"
   ]
  },
  {
   "cell_type": "markdown",
   "metadata": {},
   "source": [
    "### Замена названий полей"
   ]
  },
  {
   "cell_type": "code",
   "execution_count": 8,
   "metadata": {},
   "outputs": [
    {
     "data": {
      "text/plain": [
       "['event_name', 'user_id', 'event_date_time', 'exp_id']"
      ]
     },
     "execution_count": 8,
     "metadata": {},
     "output_type": "execute_result"
    }
   ],
   "source": [
    "# переименуем столбцы\n",
    "logs.columns=['event_name', 'user_id', 'event_date_time', 'exp_id']\n",
    "list(logs.columns)"
   ]
  },
  {
   "cell_type": "markdown",
   "metadata": {},
   "source": [
    "### Изменение типов данных "
   ]
  },
  {
   "cell_type": "code",
   "execution_count": 9,
   "metadata": {},
   "outputs": [
    {
     "data": {
      "text/plain": [
       "event_name                 object\n",
       "user_id                     int64\n",
       "event_date_time    datetime64[ns]\n",
       "exp_id                      int64\n",
       "dtype: object"
      ]
     },
     "metadata": {},
     "output_type": "display_data"
    },
    {
     "data": {
      "text/html": [
       "<div>\n",
       "<style scoped>\n",
       "    .dataframe tbody tr th:only-of-type {\n",
       "        vertical-align: middle;\n",
       "    }\n",
       "\n",
       "    .dataframe tbody tr th {\n",
       "        vertical-align: top;\n",
       "    }\n",
       "\n",
       "    .dataframe thead th {\n",
       "        text-align: right;\n",
       "    }\n",
       "</style>\n",
       "<table border=\"1\" class=\"dataframe\">\n",
       "  <thead>\n",
       "    <tr style=\"text-align: right;\">\n",
       "      <th></th>\n",
       "      <th>event_name</th>\n",
       "      <th>user_id</th>\n",
       "      <th>event_date_time</th>\n",
       "      <th>exp_id</th>\n",
       "    </tr>\n",
       "  </thead>\n",
       "  <tbody>\n",
       "    <tr>\n",
       "      <th>0</th>\n",
       "      <td>MainScreenAppear</td>\n",
       "      <td>4575588528974610257</td>\n",
       "      <td>2019-07-25 04:43:36</td>\n",
       "      <td>246</td>\n",
       "    </tr>\n",
       "  </tbody>\n",
       "</table>\n",
       "</div>"
      ],
      "text/plain": [
       "         event_name              user_id     event_date_time  exp_id\n",
       "0  MainScreenAppear  4575588528974610257 2019-07-25 04:43:36     246"
      ]
     },
     "execution_count": 9,
     "metadata": {},
     "output_type": "execute_result"
    }
   ],
   "source": [
    "# изменим тип данных в поле с временем и датой\n",
    "logs['event_date_time'] = pd.to_datetime(logs['event_date_time'], unit='s')\n",
    "display(logs.dtypes)\n",
    "logs.head(1)"
   ]
  },
  {
   "cell_type": "markdown",
   "metadata": {},
   "source": [
    "### Удаление явных дубликатов"
   ]
  },
  {
   "cell_type": "code",
   "execution_count": 10,
   "metadata": {},
   "outputs": [
    {
     "name": "stdout",
     "output_type": "stream",
     "text": [
      "Оставшееся количество дубликатов: 0\n"
     ]
    }
   ],
   "source": [
    "# удалим явные дубликаты\n",
    "logs = logs.drop_duplicates()\n",
    "print('Оставшееся количество дубликатов: {}'.format(logs.duplicated().sum()))"
   ]
  },
  {
   "cell_type": "markdown",
   "metadata": {},
   "source": [
    "### Добавление поля с датой события"
   ]
  },
  {
   "cell_type": "code",
   "execution_count": 11,
   "metadata": {},
   "outputs": [
    {
     "data": {
      "text/html": [
       "<div>\n",
       "<style scoped>\n",
       "    .dataframe tbody tr th:only-of-type {\n",
       "        vertical-align: middle;\n",
       "    }\n",
       "\n",
       "    .dataframe tbody tr th {\n",
       "        vertical-align: top;\n",
       "    }\n",
       "\n",
       "    .dataframe thead th {\n",
       "        text-align: right;\n",
       "    }\n",
       "</style>\n",
       "<table border=\"1\" class=\"dataframe\">\n",
       "  <thead>\n",
       "    <tr style=\"text-align: right;\">\n",
       "      <th></th>\n",
       "      <th>event_name</th>\n",
       "      <th>user_id</th>\n",
       "      <th>event_date_time</th>\n",
       "      <th>exp_id</th>\n",
       "      <th>event_date</th>\n",
       "    </tr>\n",
       "  </thead>\n",
       "  <tbody>\n",
       "    <tr>\n",
       "      <th>244123</th>\n",
       "      <td>MainScreenAppear</td>\n",
       "      <td>5746969938801999050</td>\n",
       "      <td>2019-08-07 21:14:43</td>\n",
       "      <td>246</td>\n",
       "      <td>2019-08-07</td>\n",
       "    </tr>\n",
       "    <tr>\n",
       "      <th>244124</th>\n",
       "      <td>MainScreenAppear</td>\n",
       "      <td>5746969938801999050</td>\n",
       "      <td>2019-08-07 21:14:58</td>\n",
       "      <td>246</td>\n",
       "      <td>2019-08-07</td>\n",
       "    </tr>\n",
       "    <tr>\n",
       "      <th>244125</th>\n",
       "      <td>OffersScreenAppear</td>\n",
       "      <td>5746969938801999050</td>\n",
       "      <td>2019-08-07 21:15:17</td>\n",
       "      <td>246</td>\n",
       "      <td>2019-08-07</td>\n",
       "    </tr>\n",
       "  </tbody>\n",
       "</table>\n",
       "</div>"
      ],
      "text/plain": [
       "                event_name              user_id     event_date_time  exp_id  \\\n",
       "244123    MainScreenAppear  5746969938801999050 2019-08-07 21:14:43     246   \n",
       "244124    MainScreenAppear  5746969938801999050 2019-08-07 21:14:58     246   \n",
       "244125  OffersScreenAppear  5746969938801999050 2019-08-07 21:15:17     246   \n",
       "\n",
       "       event_date  \n",
       "244123 2019-08-07  \n",
       "244124 2019-08-07  \n",
       "244125 2019-08-07  "
      ]
     },
     "execution_count": 11,
     "metadata": {},
     "output_type": "execute_result"
    }
   ],
   "source": [
    "# отдельный столбец с датой\n",
    "logs['event_date'] = logs['event_date_time'].dt.date.astype(\"datetime64[ns]\")\n",
    "logs.tail(3)"
   ]
  },
  {
   "cell_type": "markdown",
   "metadata": {},
   "source": [
    "## Изучение и проверка данных"
   ]
  },
  {
   "cell_type": "markdown",
   "metadata": {},
   "source": [
    "### Количество событий в логах"
   ]
  },
  {
   "cell_type": "code",
   "execution_count": 12,
   "metadata": {},
   "outputs": [
    {
     "name": "stdout",
     "output_type": "stream",
     "text": [
      "Всего событий в логах: 243713\n",
      "Всего уникальных событий: 5\n"
     ]
    }
   ],
   "source": [
    "print('Всего событий в логах: {}\\nВсего уникальных событий: {}'.format(len(logs),\n",
    "                                                                       logs['event_name'].nunique()\n",
    "                                                                      )\n",
    "     )"
   ]
  },
  {
   "cell_type": "markdown",
   "metadata": {},
   "source": [
    "### Количество пользователей в логах"
   ]
  },
  {
   "cell_type": "code",
   "execution_count": 13,
   "metadata": {},
   "outputs": [
    {
     "name": "stdout",
     "output_type": "stream",
     "text": [
      "Количество пользователей в логах: 7551\n"
     ]
    }
   ],
   "source": [
    "print('Количество пользователей в логах: {}'.format(logs['user_id'].nunique()))"
   ]
  },
  {
   "cell_type": "markdown",
   "metadata": {},
   "source": [
    "### Среднее количество событий на пользователя"
   ]
  },
  {
   "cell_type": "code",
   "execution_count": 14,
   "metadata": {},
   "outputs": [
    {
     "name": "stdout",
     "output_type": "stream",
     "text": [
      "Среднее количество событий на пользователя: 32.28\n"
     ]
    }
   ],
   "source": [
    "print('Среднее количество событий на пользователя: {}'.format(round(logs\n",
    "                                                                    .groupby('user_id')['event_name']\n",
    "                                                                    .count()\n",
    "                                                                    .mean(), 2)))"
   ]
  },
  {
   "cell_type": "code",
   "execution_count": 15,
   "metadata": {},
   "outputs": [
    {
     "data": {
      "image/png": "[encoded data removed]",
      "text/plain": [
       "<Figure size 500x500 with 1 Axes>"
      ]
     },
     "metadata": {},
     "output_type": "display_data"
    }
   ],
   "source": [
    "logs.groupby('user_id')['event_name'].count().plot.box(figsize=(5, 5))\n",
    "plt.ylim(0, 100)\n",
    "plt.show()"
   ]
  },
  {
   "cell_type": "code",
   "execution_count": 16,
   "metadata": {},
   "outputs": [
    {
     "data": {
      "text/plain": [
       "count    7551.000000\n",
       "mean       32.275593\n",
       "std        65.154219\n",
       "min         1.000000\n",
       "25%         9.000000\n",
       "50%        20.000000\n",
       "75%        37.000000\n",
       "max      2307.000000\n",
       "Name: event_name, dtype: float64"
      ]
     },
     "execution_count": 16,
     "metadata": {},
     "output_type": "execute_result"
    }
   ],
   "source": [
    "logs.groupby('user_id')['event_name'].count().describe()"
   ]
  },
  {
   "cell_type": "markdown",
   "metadata": {},
   "source": [
    "<font color=blue>**Среднее арифметическое количество событий на пользователя - 32, а медиана - 19. При этом по диаграмме размаха все значения, больше 80 считаются аномальными.**</font>"
   ]
  },
  {
   "cell_type": "markdown",
   "metadata": {},
   "source": [
    "### Период исследования"
   ]
  },
  {
   "cell_type": "code",
   "execution_count": 17,
   "metadata": {},
   "outputs": [
    {
     "name": "stdout",
     "output_type": "stream",
     "text": [
      "Минимальная дата логов: 2019-07-25 00:00:00\n",
      "Максимальная дата логов: 2019-08-07 00:00:00\n"
     ]
    }
   ],
   "source": [
    "# максимальная и минимальная даты\n",
    "print('Минимальная дата логов: {}\\nМаксимальная дата логов: {}'.format(logs['event_date'].min(),\n",
    "                                                                       logs['event_date'].max()))"
   ]
  },
  {
   "cell_type": "code",
   "execution_count": 18,
   "metadata": {},
   "outputs": [
    {
     "data": {
      "image/png": "[encoded data removed]",
      "text/plain": [
       "<Figure size 1500x500 with 2 Axes>"
      ]
     },
     "metadata": {},
     "output_type": "display_data"
    }
   ],
   "source": [
    "fig, axes = plt.subplots(1, 2)\n",
    "axes[0].hist(logs['event_date_time'], bins=14, ec='black') \n",
    "axes[0].set_title('Количество логов по датам (за весь имеющийся период)')\n",
    "axes[0].set_xlabel('Дата')\n",
    "axes[0].set_ylabel('Количество логов')\n",
    "\n",
    "axes[1].hist(logs[logs['event_date_time'] < '2019-08-01']['event_date_time'], bins=7, ec='black') \n",
    "axes[1].set_title('Количество логов по датам (за июль 2019)')\n",
    "axes[1].set_xlabel('Дата')\n",
    "axes[1].set_ylabel('Количество логов')\n",
    "\n",
    "fig.autofmt_xdate(rotation=45)\n",
    "fig.set_figwidth(15)\n",
    "fig.set_figheight(5)\n",
    "\n",
    "plt.show()"
   ]
  },
  {
   "cell_type": "markdown",
   "metadata": {},
   "source": [
    "**Судя по гистограмме: либо мы в конце июля 2019 только запустили приложение, и через недельку дела пошли очень хорошо (с 2 тысяч событий в день до 30-35 тысяч), либо, что более вероятно, мы располагаем не всеми данными за период наблюдений. Учитывая резкий скачок значений с 31 июля на 1 августа и отсутствие сильных колебаний в дальнейшем, можно сделать вывод, что наиболее полные данные у нас только за первую неделю августа 2019 года.**"
   ]
  },
  {
   "cell_type": "markdown",
   "metadata": {},
   "source": [
    "### Изучение масштабов потерь при удалении неполных данных по дням"
   ]
  },
  {
   "cell_type": "code",
   "execution_count": 19,
   "metadata": {},
   "outputs": [
    {
     "name": "stdout",
     "output_type": "stream",
     "text": [
      "Количество событий до 1 августа 2019 года: 2826\n",
      "Всего событий в датафрейме: 243713\n",
      "Процент потерь событий при удалении данных за период до 1 августа 2019 года: 1.16%\n"
     ]
    }
   ],
   "source": [
    "# проверка по событиям\n",
    "date_threshold = pd.to_datetime('2019-08-01', format='%Y-%m-%d') # пороговая дата\n",
    "print('Количество событий до 1 августа 2019 года: {}'.format(len(logs[logs['event_date'] < date_threshold])))\n",
    "print('Всего событий в датафрейме: {}'.format(len(logs)))\n",
    "\n",
    "print('Процент потерь событий при удалении данных за период до 1 августа 2019 года: {:.2%}'.format(len(logs[logs['event_date'] < date_threshold])\n",
    "                                                                                           / len(logs)))"
   ]
  },
  {
   "cell_type": "code",
   "execution_count": 20,
   "metadata": {},
   "outputs": [
    {
     "name": "stdout",
     "output_type": "stream",
     "text": [
      "Количество \"потерянных\" пользователей при удалении данных за период до 1 августа 2019 года: 17\n",
      "Всего унакальных пользователей: 7551\n",
      "Процент потерь пользователей при удалении данных за период до 1 августа 2019 года: 0.23%\n"
     ]
    }
   ],
   "source": [
    "# проверка по пользователям \n",
    "users_before_2019_08_01 = list(logs[logs['event_date'] < date_threshold]['user_id'].unique()) # уникальные пользователи до 1 августа 2019\n",
    "users_after_2019_08_01 = list(logs[logs['event_date'] >= date_threshold]['user_id'].unique()) # уникальные пользователи после 1 августа 2019\n",
    "lost_users = list(set(users_before_2019_08_01) - set(users_after_2019_08_01)) # уникальные \"потерянные\" пользователи \n",
    "print('Количество \"потерянных\" пользователей при удалении данных за период до 1 августа 2019 года: {}'.format(len(lost_users)))\n",
    "print('Всего унакальных пользователей: {}'.format(logs['user_id'].nunique()))\n",
    "print('Процент потерь пользователей при удалении данных за период до 1 августа 2019 года: {:.2%}'.format(len(lost_users) \n",
    "                                                                                                     / logs['user_id'].nunique()))"
   ]
  },
  {
   "cell_type": "markdown",
   "metadata": {},
   "source": [
    "**Если мы для дальнейшего анализа оставим только данные с первого августа 2019 года, то потери будут незначительны: около 3 тысяч событий (при общем их числе 243 тысячи), что составляет 1% от общего их числа, и 17 пользователей (в то время как всего их было 7,5 тысяч), или около 0,2%.**"
   ]
  },
  {
   "cell_type": "code",
   "execution_count": 21,
   "metadata": {},
   "outputs": [
    {
     "data": {
      "text/plain": [
       "first    2019-08-01 00:00:00\n",
       "last     2019-08-07 00:00:00\n",
       "Name: event_date, dtype: object"
      ]
     },
     "execution_count": 21,
     "metadata": {},
     "output_type": "execute_result"
    }
   ],
   "source": [
    "logs = logs[logs['event_date'] >= date_threshold]\n",
    "logs['event_date'].describe()[4:6]"
   ]
  },
  {
   "cell_type": "markdown",
   "metadata": {},
   "source": [
    "<a id='count_users'></a>"
   ]
  },
  {
   "cell_type": "markdown",
   "metadata": {},
   "source": [
    " ### Количество пользователей в каждой группе"
   ]
  },
  {
   "cell_type": "code",
   "execution_count": 22,
   "metadata": {
    "scrolled": true
   },
   "outputs": [
    {
     "data": {
      "text/html": [
       "<div>\n",
       "<style scoped>\n",
       "    .dataframe tbody tr th:only-of-type {\n",
       "        vertical-align: middle;\n",
       "    }\n",
       "\n",
       "    .dataframe tbody tr th {\n",
       "        vertical-align: top;\n",
       "    }\n",
       "\n",
       "    .dataframe thead th {\n",
       "        text-align: right;\n",
       "    }\n",
       "</style>\n",
       "<table border=\"1\" class=\"dataframe\">\n",
       "  <thead>\n",
       "    <tr style=\"text-align: right;\">\n",
       "      <th></th>\n",
       "      <th>group</th>\n",
       "      <th>count_users</th>\n",
       "    </tr>\n",
       "  </thead>\n",
       "  <tbody>\n",
       "    <tr>\n",
       "      <th>0</th>\n",
       "      <td>246</td>\n",
       "      <td>2484</td>\n",
       "    </tr>\n",
       "    <tr>\n",
       "      <th>1</th>\n",
       "      <td>247</td>\n",
       "      <td>2513</td>\n",
       "    </tr>\n",
       "    <tr>\n",
       "      <th>2</th>\n",
       "      <td>248</td>\n",
       "      <td>2537</td>\n",
       "    </tr>\n",
       "  </tbody>\n",
       "</table>\n",
       "</div>"
      ],
      "text/plain": [
       "   group  count_users\n",
       "0    246         2484\n",
       "1    247         2513\n",
       "2    248         2537"
      ]
     },
     "execution_count": 22,
     "metadata": {},
     "output_type": "execute_result"
    }
   ],
   "source": [
    "group_users = logs.groupby('exp_id').agg({'user_id': 'nunique'}).reset_index().rename(columns={'exp_id': 'group', \n",
    "                                                                                               'user_id': 'count_users'})\n",
    "group_users"
   ]
  },
  {
   "cell_type": "markdown",
   "metadata": {},
   "source": [
    "**Проверим, не случилось ли так, что пользователь попал в несколько групп сразу**"
   ]
  },
  {
   "cell_type": "code",
   "execution_count": 23,
   "metadata": {},
   "outputs": [
    {
     "name": "stdout",
     "output_type": "stream",
     "text": [
      "Количество уникальных пользователей после удалений: 7534\n",
      "Сумма пользователей по группам: 7534\n"
     ]
    }
   ],
   "source": [
    "print('Количество уникальных пользователей после удалений: ' + str(logs['user_id'].nunique()))\n",
    "print('Сумма пользователей по группам: ' + str(group_users['count_users'].sum()))"
   ]
  },
  {
   "cell_type": "code",
   "execution_count": 24,
   "metadata": {},
   "outputs": [
    {
     "data": {
      "text/plain": [
       "user_id\n",
       "6888746892508752       1\n",
       "6204944347213293942    1\n",
       "6215559225876063378    1\n",
       "6215162890135937308    1\n",
       "6213626876710715478    1\n",
       "6213410662941116891    1\n",
       "6212635085994550838    1\n",
       "6212165738952028637    1\n",
       "6212099346929060015    1\n",
       "6210257982556180997    1\n",
       "Name: exp_id, dtype: int64"
      ]
     },
     "execution_count": 24,
     "metadata": {},
     "output_type": "execute_result"
    }
   ],
   "source": [
    "# второй способ проверки\n",
    "logs.groupby('user_id')['exp_id'].nunique().sort_values(ascending=False).head(10)"
   ]
  },
  {
   "cell_type": "markdown",
   "metadata": {},
   "source": [
    "**В каждой группе примерно равное количество пользователей. \n",
    "Также в датафрейме отсутствуют пользователи, попавшие в несколько групп.**"
   ]
  },
  {
   "cell_type": "markdown",
   "metadata": {},
   "source": [
    "<font color=blue>**В датафрейме хранятся логи о 243 713 событиях, совершенных в период с 25 июля по 7 августа 2019 года. Каждое событие относится к одному из 5 видов: показ главного экрана, экран товара, корзина, экран оплаты и обучение. Логи собраны о 7 551 пользователе. В среднем на каждого пользователя приходится порядка 32 событий, однако, в данных присутствует довольно много выбросов, поэтому медианное значение равное 19, будет лучше отражать действительность. Учитывая, что данные распределены во времени неравномерно, так, например, в июле максимальное количество событий в день не превышало 2 тысяч, в то время, как за август этот показатель не опускался ниже отметки в 30 тысяч, было принято решение не учитывать в дальнейшем анализе июльские логи. Каждый из пользователей попал в одну из групп: контрольные (`246` и `247`) или экспериментальная (`248`). В каждой группе от 2 484 до 2 537 пользователей.**</font>"
   ]
  },
  {
   "cell_type": "markdown",
   "metadata": {},
   "source": [
    "## Изучение воронки событий"
   ]
  },
  {
   "cell_type": "markdown",
   "metadata": {},
   "source": [
    "### Виды событий в логах"
   ]
  },
  {
   "cell_type": "code",
   "execution_count": 25,
   "metadata": {},
   "outputs": [
    {
     "name": "stdout",
     "output_type": "stream",
     "text": [
      "['Tutorial', 'MainScreenAppear', 'OffersScreenAppear', 'CartScreenAppear', 'PaymentScreenSuccessful']\n"
     ]
    }
   ],
   "source": [
    "# виды событий: \n",
    "print(list(logs['event_name'].unique()))"
   ]
  },
  {
   "cell_type": "markdown",
   "metadata": {},
   "source": [
    "**В датафрейме логи 5 видов событий:**\n",
    "1. **`MainScreenAppear`** - появление главного экрана;\n",
    "2. **`Tutorial`** - обучение использованию приложения;\n",
    "3. **`OffersScreenAppear`** - окно с товаром;\n",
    "4. **`CartScreenAppear`** - добавление(или открытие) в корзину;\n",
    "5. **`PaymentScreenSuccessful`** - экран успешной оплаты заказа."
   ]
  },
  {
   "cell_type": "code",
   "execution_count": 26,
   "metadata": {},
   "outputs": [
    {
     "data": {
      "text/html": [
       "<div>\n",
       "<style scoped>\n",
       "    .dataframe tbody tr th:only-of-type {\n",
       "        vertical-align: middle;\n",
       "    }\n",
       "\n",
       "    .dataframe tbody tr th {\n",
       "        vertical-align: top;\n",
       "    }\n",
       "\n",
       "    .dataframe thead th {\n",
       "        text-align: right;\n",
       "    }\n",
       "</style>\n",
       "<table border=\"1\" class=\"dataframe\">\n",
       "  <thead>\n",
       "    <tr style=\"text-align: right;\">\n",
       "      <th></th>\n",
       "      <th>count_events</th>\n",
       "    </tr>\n",
       "  </thead>\n",
       "  <tbody>\n",
       "    <tr>\n",
       "      <th>MainScreenAppear</th>\n",
       "      <td>117328</td>\n",
       "    </tr>\n",
       "    <tr>\n",
       "      <th>OffersScreenAppear</th>\n",
       "      <td>46333</td>\n",
       "    </tr>\n",
       "    <tr>\n",
       "      <th>CartScreenAppear</th>\n",
       "      <td>42303</td>\n",
       "    </tr>\n",
       "    <tr>\n",
       "      <th>PaymentScreenSuccessful</th>\n",
       "      <td>33918</td>\n",
       "    </tr>\n",
       "    <tr>\n",
       "      <th>Tutorial</th>\n",
       "      <td>1005</td>\n",
       "    </tr>\n",
       "  </tbody>\n",
       "</table>\n",
       "</div>"
      ],
      "text/plain": [
       "                         count_events\n",
       "MainScreenAppear               117328\n",
       "OffersScreenAppear              46333\n",
       "CartScreenAppear                42303\n",
       "PaymentScreenSuccessful         33918\n",
       "Tutorial                         1005"
      ]
     },
     "execution_count": 26,
     "metadata": {},
     "output_type": "execute_result"
    }
   ],
   "source": [
    "# количество событий каждого вида: \n",
    "logs_types = (logs['event_name']\n",
    "              .value_counts()\n",
    "              .sort_values(ascending=False)\n",
    "              .to_frame()\n",
    "              .rename(columns={'event_name': 'count_events'}))\n",
    "logs_types "
   ]
  },
  {
   "cell_type": "code",
   "execution_count": 27,
   "metadata": {},
   "outputs": [
    {
     "data": {
      "image/png": "[encoded data removed]",
      "text/plain": [
       "<Figure size 1500x500 with 1 Axes>"
      ]
     },
     "metadata": {},
     "output_type": "display_data"
    }
   ],
   "source": [
    "get_barh('count_events')"
   ]
  },
  {
   "cell_type": "markdown",
   "metadata": {},
   "source": [
    "**Наиболее частое событие - показ главного экрана приложения, самое редкое - обучение.** "
   ]
  },
  {
   "cell_type": "markdown",
   "metadata": {},
   "source": [
    "### Анализ видов событий"
   ]
  },
  {
   "cell_type": "markdown",
   "metadata": {},
   "source": [
    "#### Количество пользователей, совершавших каждое из событий"
   ]
  },
  {
   "cell_type": "code",
   "execution_count": 28,
   "metadata": {},
   "outputs": [
    {
     "data": {
      "text/html": [
       "<div>\n",
       "<style scoped>\n",
       "    .dataframe tbody tr th:only-of-type {\n",
       "        vertical-align: middle;\n",
       "    }\n",
       "\n",
       "    .dataframe tbody tr th {\n",
       "        vertical-align: top;\n",
       "    }\n",
       "\n",
       "    .dataframe thead th {\n",
       "        text-align: right;\n",
       "    }\n",
       "</style>\n",
       "<table border=\"1\" class=\"dataframe\">\n",
       "  <thead>\n",
       "    <tr style=\"text-align: right;\">\n",
       "      <th></th>\n",
       "      <th>count_events</th>\n",
       "      <th>count_users</th>\n",
       "    </tr>\n",
       "  </thead>\n",
       "  <tbody>\n",
       "    <tr>\n",
       "      <th>MainScreenAppear</th>\n",
       "      <td>117328</td>\n",
       "      <td>7419</td>\n",
       "    </tr>\n",
       "    <tr>\n",
       "      <th>OffersScreenAppear</th>\n",
       "      <td>46333</td>\n",
       "      <td>4593</td>\n",
       "    </tr>\n",
       "    <tr>\n",
       "      <th>CartScreenAppear</th>\n",
       "      <td>42303</td>\n",
       "      <td>3734</td>\n",
       "    </tr>\n",
       "    <tr>\n",
       "      <th>PaymentScreenSuccessful</th>\n",
       "      <td>33918</td>\n",
       "      <td>3539</td>\n",
       "    </tr>\n",
       "    <tr>\n",
       "      <th>Tutorial</th>\n",
       "      <td>1005</td>\n",
       "      <td>840</td>\n",
       "    </tr>\n",
       "  </tbody>\n",
       "</table>\n",
       "</div>"
      ],
      "text/plain": [
       "                         count_events  count_users\n",
       "MainScreenAppear               117328         7419\n",
       "OffersScreenAppear              46333         4593\n",
       "CartScreenAppear                42303         3734\n",
       "PaymentScreenSuccessful         33918         3539\n",
       "Tutorial                         1005          840"
      ]
     },
     "execution_count": 28,
     "metadata": {},
     "output_type": "execute_result"
    }
   ],
   "source": [
    "logs_types['count_users'] = logs.groupby('event_name')['user_id'].nunique()\n",
    "logs_types"
   ]
  },
  {
   "cell_type": "code",
   "execution_count": 29,
   "metadata": {},
   "outputs": [
    {
     "data": {
      "image/png": "[encoded data removed]",
      "text/plain": [
       "<Figure size 1500x500 with 1 Axes>"
      ]
     },
     "metadata": {},
     "output_type": "display_data"
    }
   ],
   "source": [
    "get_barh('count_users')"
   ]
  },
  {
   "cell_type": "markdown",
   "metadata": {},
   "source": [
    "#### Доля пользователей, которые хоть раз совершали событие"
   ]
  },
  {
   "cell_type": "code",
   "execution_count": 30,
   "metadata": {},
   "outputs": [
    {
     "data": {
      "text/html": [
       "<div>\n",
       "<style scoped>\n",
       "    .dataframe tbody tr th:only-of-type {\n",
       "        vertical-align: middle;\n",
       "    }\n",
       "\n",
       "    .dataframe tbody tr th {\n",
       "        vertical-align: top;\n",
       "    }\n",
       "\n",
       "    .dataframe thead th {\n",
       "        text-align: right;\n",
       "    }\n",
       "</style>\n",
       "<table border=\"1\" class=\"dataframe\">\n",
       "  <thead>\n",
       "    <tr style=\"text-align: right;\">\n",
       "      <th></th>\n",
       "      <th>count_events</th>\n",
       "      <th>count_users</th>\n",
       "      <th>share_of_all_unique_users</th>\n",
       "    </tr>\n",
       "  </thead>\n",
       "  <tbody>\n",
       "    <tr>\n",
       "      <th>MainScreenAppear</th>\n",
       "      <td>117328</td>\n",
       "      <td>7419</td>\n",
       "      <td>0.9847</td>\n",
       "    </tr>\n",
       "    <tr>\n",
       "      <th>OffersScreenAppear</th>\n",
       "      <td>46333</td>\n",
       "      <td>4593</td>\n",
       "      <td>0.6096</td>\n",
       "    </tr>\n",
       "    <tr>\n",
       "      <th>CartScreenAppear</th>\n",
       "      <td>42303</td>\n",
       "      <td>3734</td>\n",
       "      <td>0.4956</td>\n",
       "    </tr>\n",
       "    <tr>\n",
       "      <th>PaymentScreenSuccessful</th>\n",
       "      <td>33918</td>\n",
       "      <td>3539</td>\n",
       "      <td>0.4697</td>\n",
       "    </tr>\n",
       "    <tr>\n",
       "      <th>Tutorial</th>\n",
       "      <td>1005</td>\n",
       "      <td>840</td>\n",
       "      <td>0.1115</td>\n",
       "    </tr>\n",
       "  </tbody>\n",
       "</table>\n",
       "</div>"
      ],
      "text/plain": [
       "                         count_events  count_users  share_of_all_unique_users\n",
       "MainScreenAppear               117328         7419                     0.9847\n",
       "OffersScreenAppear              46333         4593                     0.6096\n",
       "CartScreenAppear                42303         3734                     0.4956\n",
       "PaymentScreenSuccessful         33918         3539                     0.4697\n",
       "Tutorial                         1005          840                     0.1115"
      ]
     },
     "execution_count": 30,
     "metadata": {},
     "output_type": "execute_result"
    }
   ],
   "source": [
    "logs_types['share_of_all_unique_users'] = round(logs_types['count_users'] / logs['user_id'].nunique(), 4)\n",
    "logs_types.sort_values('share_of_all_unique_users', ascending=False)"
   ]
  },
  {
   "cell_type": "markdown",
   "metadata": {},
   "source": [
    "**Удивительно, что ни в однов из видов событий мы не получили единицу, в частности на этапе с `главным экраном`. Возможно, это связано с тем, что часть логов мы отсеяли ранее. Или же приложение устроено так, что можно его (главный экран) миновать, перейдя по прямой ссылке сразу в корзину или к карточке товара.**"
   ]
  },
  {
   "cell_type": "markdown",
   "metadata": {},
   "source": [
    "### Порядок событий"
   ]
  },
  {
   "cell_type": "markdown",
   "metadata": {},
   "source": [
    "События происходят в следующем порядке:\n",
    "\n",
    "1. MainScreenAppear - главный экран;\n",
    "2. Tutorial - обучение;\n",
    "3. OffersScreenAppear - предложение о товаре (экран с товаром);\n",
    "4. CartScreenAppear - добавление/переход в корзину;\n",
    "5. PaymentScreenSuccessful - экран успешной оплаты заказа.\n",
    "\n",
    "Прохождение обучения сильно выбивается из этой цепочки. Судя по всему, его можно отложить или пропустить, поскольку довольно маленький процент пользователей его прошел, при этом это нисколько не помешало им двигаться дальше.  \n",
    "В дальнейших расчетах этот пункт учитывать не будем."
   ]
  },
  {
   "cell_type": "code",
   "execution_count": 31,
   "metadata": {
    "scrolled": true
   },
   "outputs": [
    {
     "data": {
      "text/html": [
       "<div>\n",
       "<style scoped>\n",
       "    .dataframe tbody tr th:only-of-type {\n",
       "        vertical-align: middle;\n",
       "    }\n",
       "\n",
       "    .dataframe tbody tr th {\n",
       "        vertical-align: top;\n",
       "    }\n",
       "\n",
       "    .dataframe thead th {\n",
       "        text-align: right;\n",
       "    }\n",
       "</style>\n",
       "<table border=\"1\" class=\"dataframe\">\n",
       "  <thead>\n",
       "    <tr style=\"text-align: right;\">\n",
       "      <th></th>\n",
       "      <th>count_events</th>\n",
       "      <th>count_users</th>\n",
       "      <th>share_of_all_unique_users</th>\n",
       "    </tr>\n",
       "  </thead>\n",
       "  <tbody>\n",
       "    <tr>\n",
       "      <th>MainScreenAppear</th>\n",
       "      <td>117328</td>\n",
       "      <td>7419</td>\n",
       "      <td>0.9847</td>\n",
       "    </tr>\n",
       "    <tr>\n",
       "      <th>OffersScreenAppear</th>\n",
       "      <td>46333</td>\n",
       "      <td>4593</td>\n",
       "      <td>0.6096</td>\n",
       "    </tr>\n",
       "    <tr>\n",
       "      <th>CartScreenAppear</th>\n",
       "      <td>42303</td>\n",
       "      <td>3734</td>\n",
       "      <td>0.4956</td>\n",
       "    </tr>\n",
       "    <tr>\n",
       "      <th>PaymentScreenSuccessful</th>\n",
       "      <td>33918</td>\n",
       "      <td>3539</td>\n",
       "      <td>0.4697</td>\n",
       "    </tr>\n",
       "  </tbody>\n",
       "</table>\n",
       "</div>"
      ],
      "text/plain": [
       "                         count_events  count_users  share_of_all_unique_users\n",
       "MainScreenAppear               117328         7419                     0.9847\n",
       "OffersScreenAppear              46333         4593                     0.6096\n",
       "CartScreenAppear                42303         3734                     0.4956\n",
       "PaymentScreenSuccessful         33918         3539                     0.4697"
      ]
     },
     "execution_count": 31,
     "metadata": {},
     "output_type": "execute_result"
    }
   ],
   "source": [
    "logs_types_without_tutorial = logs_types.drop(['Tutorial'])\n",
    "logs_types_without_tutorial"
   ]
  },
  {
   "cell_type": "markdown",
   "metadata": {},
   "source": [
    "### Воронка событий"
   ]
  },
  {
   "cell_type": "code",
   "execution_count": 32,
   "metadata": {},
   "outputs": [
    {
     "data": {
      "text/html": [
       "<div>\n",
       "<style scoped>\n",
       "    .dataframe tbody tr th:only-of-type {\n",
       "        vertical-align: middle;\n",
       "    }\n",
       "\n",
       "    .dataframe tbody tr th {\n",
       "        vertical-align: top;\n",
       "    }\n",
       "\n",
       "    .dataframe thead th {\n",
       "        text-align: right;\n",
       "    }\n",
       "</style>\n",
       "<table border=\"1\" class=\"dataframe\">\n",
       "  <thead>\n",
       "    <tr style=\"text-align: right;\">\n",
       "      <th></th>\n",
       "      <th>count_events</th>\n",
       "      <th>count_users</th>\n",
       "      <th>share_of_all_unique_users</th>\n",
       "      <th>conversion</th>\n",
       "    </tr>\n",
       "  </thead>\n",
       "  <tbody>\n",
       "    <tr>\n",
       "      <th>MainScreenAppear</th>\n",
       "      <td>117328</td>\n",
       "      <td>7419</td>\n",
       "      <td>0.9847</td>\n",
       "      <td>1.00</td>\n",
       "    </tr>\n",
       "    <tr>\n",
       "      <th>OffersScreenAppear</th>\n",
       "      <td>46333</td>\n",
       "      <td>4593</td>\n",
       "      <td>0.6096</td>\n",
       "      <td>0.62</td>\n",
       "    </tr>\n",
       "    <tr>\n",
       "      <th>CartScreenAppear</th>\n",
       "      <td>42303</td>\n",
       "      <td>3734</td>\n",
       "      <td>0.4956</td>\n",
       "      <td>0.81</td>\n",
       "    </tr>\n",
       "    <tr>\n",
       "      <th>PaymentScreenSuccessful</th>\n",
       "      <td>33918</td>\n",
       "      <td>3539</td>\n",
       "      <td>0.4697</td>\n",
       "      <td>0.95</td>\n",
       "    </tr>\n",
       "  </tbody>\n",
       "</table>\n",
       "</div>"
      ],
      "text/plain": [
       "                         count_events  count_users  share_of_all_unique_users  \\\n",
       "MainScreenAppear               117328         7419                     0.9847   \n",
       "OffersScreenAppear              46333         4593                     0.6096   \n",
       "CartScreenAppear                42303         3734                     0.4956   \n",
       "PaymentScreenSuccessful         33918         3539                     0.4697   \n",
       "\n",
       "                         conversion  \n",
       "MainScreenAppear               1.00  \n",
       "OffersScreenAppear             0.62  \n",
       "CartScreenAppear               0.81  \n",
       "PaymentScreenSuccessful        0.95  "
      ]
     },
     "execution_count": 32,
     "metadata": {},
     "output_type": "execute_result"
    }
   ],
   "source": [
    "# конверсия \n",
    "logs_types_without_tutorial['conversion'] = 1\n",
    "for i in range(1, len(logs_types_without_tutorial)):\n",
    "    logs_types_without_tutorial['conversion'].iloc[i] = round(logs_types_without_tutorial['count_users'].iloc[i] /\n",
    "                                                              logs_types_without_tutorial['count_users'].iloc[i-1], 2)\n",
    "logs_types_without_tutorial"
   ]
  },
  {
   "cell_type": "code",
   "execution_count": 33,
   "metadata": {},
   "outputs": [
    {
     "data": {
      "image/png": "[encoded data removed]",
      "text/plain": [
       "<Figure size 1200x600 with 1 Axes>"
      ]
     },
     "metadata": {},
     "output_type": "display_data"
    }
   ],
   "source": [
    "y = [4,3,2,1]\n",
    "x = [90,83,68,52]\n",
    "x_labels = list(logs_types_without_tutorial['count_users'])\n",
    "x_conversion = list(logs_types_without_tutorial['conversion'])\n",
    "labels = list(logs_types_without_tutorial.index)\n",
    "x_max = 100\n",
    "x_min = 0\n",
    "x_range = x_max - x_min\n",
    "fig, ax = plt.subplots(1, figsize=(12,6))\n",
    "for idx, val in enumerate(x):\n",
    "    left = (x_range - val)/2\n",
    "    plt.barh(y[idx], x[idx], left = left, \n",
    "             color='#90EE90', height=.8)\n",
    "    # label\n",
    "    plt.text(50, y[idx]+0.1, labels[idx], ha='center',\n",
    "              fontsize=16, color='#2A2A2A')\n",
    "    # value\n",
    "    if idx == 0:\n",
    "        plt.text(50, y[idx]-0.3, '{} - {:.2%}'.format(x_labels[idx], x_conversion[idx]), ha='center',\n",
    "              fontsize=16, color='#4169E1')\n",
    "    else:\n",
    "        plt.text(50, y[idx]-0.3, '{} - {:.2%} of previous phase'.format(x_labels[idx], x_conversion[idx]), ha='center',\n",
    "              fontsize=16, color='#4169E1')\n",
    "    \n",
    "    if idx != len(x)-1:\n",
    "        next_left = (x_range - x[idx+1])/2\n",
    "        shadow_x = [left, next_left, \n",
    "                    100-next_left, 100-left, left]\n",
    "        \n",
    "        shadow_y = [y[idx]-0.4, y[idx+1]+0.4, \n",
    "                    y[idx+1]+0.4, y[idx]-0.4, y[idx]-0.4]\n",
    "        plt.fill(shadow_x, shadow_y, color='grey', alpha=0.6)\n",
    "plt.xlim(x_min, x_max)\n",
    "plt.axis('off')\n",
    "plt.title('Воронка событий', loc='center', fontsize=24, color='#2A2A2A')\n",
    "plt.show()"
   ]
  },
  {
   "cell_type": "markdown",
   "metadata": {},
   "source": [
    "**Разультаты вполне реальные: лишь треть всех пользователей переходит на экран товара, 80% из них добавляют что-то в корзину, а если уж в корзине что-то есть, то только 5% не доходят до заветного \"оплата проведена успешно\".** "
   ]
  },
  {
   "cell_type": "markdown",
   "metadata": {},
   "source": [
    "### \"Наибольшие потери в конверсии\""
   ]
  },
  {
   "cell_type": "code",
   "execution_count": 34,
   "metadata": {},
   "outputs": [
    {
     "data": {
      "text/html": [
       "<div>\n",
       "<style scoped>\n",
       "    .dataframe tbody tr th:only-of-type {\n",
       "        vertical-align: middle;\n",
       "    }\n",
       "\n",
       "    .dataframe tbody tr th {\n",
       "        vertical-align: top;\n",
       "    }\n",
       "\n",
       "    .dataframe thead th {\n",
       "        text-align: right;\n",
       "    }\n",
       "</style>\n",
       "<table border=\"1\" class=\"dataframe\">\n",
       "  <thead>\n",
       "    <tr style=\"text-align: right;\">\n",
       "      <th></th>\n",
       "      <th>event_type</th>\n",
       "      <th>conversion</th>\n",
       "      <th>conversion_losses</th>\n",
       "    </tr>\n",
       "  </thead>\n",
       "  <tbody>\n",
       "    <tr>\n",
       "      <th>0</th>\n",
       "      <td>MainScreenAppear</td>\n",
       "      <td>1.00</td>\n",
       "      <td>1.00</td>\n",
       "    </tr>\n",
       "    <tr>\n",
       "      <th>1</th>\n",
       "      <td>OffersScreenAppear</td>\n",
       "      <td>0.62</td>\n",
       "      <td>-0.38</td>\n",
       "    </tr>\n",
       "    <tr>\n",
       "      <th>2</th>\n",
       "      <td>CartScreenAppear</td>\n",
       "      <td>0.81</td>\n",
       "      <td>-0.19</td>\n",
       "    </tr>\n",
       "    <tr>\n",
       "      <th>3</th>\n",
       "      <td>PaymentScreenSuccessful</td>\n",
       "      <td>0.95</td>\n",
       "      <td>-0.05</td>\n",
       "    </tr>\n",
       "  </tbody>\n",
       "</table>\n",
       "</div>"
      ],
      "text/plain": [
       "                event_type  conversion  conversion_losses\n",
       "0         MainScreenAppear        1.00               1.00\n",
       "1       OffersScreenAppear        0.62              -0.38\n",
       "2         CartScreenAppear        0.81              -0.19\n",
       "3  PaymentScreenSuccessful        0.95              -0.05"
      ]
     },
     "execution_count": 34,
     "metadata": {},
     "output_type": "execute_result"
    }
   ],
   "source": [
    "conv_losses = (logs_types_without_tutorial.reset_index()\n",
    "                                          .rename(columns={'index': 'event_type'})\n",
    "                                          .copy()\n",
    "           )\n",
    "conv_losses['conversion_losses'] = 1\n",
    "for i in range(1, len(conv_losses)):\n",
    "    conv_losses['conversion_losses'].iloc[i] = round(conv_losses['conversion'].iloc[i] - 1, 2)\n",
    "conv_losses = conv_losses[['event_type', 'conversion', 'conversion_losses']]\n",
    "conv_losses"
   ]
  },
  {
   "cell_type": "markdown",
   "metadata": {},
   "source": [
    "**Больше всего пользователи \"отваливаются\" при переходе от главного экрана к экрану с товаром - 38%. Закономерное явление: большинство  заходит без конкретной цели, просто посмотреть. Однако, если пользователель перешел на экран с товаром, то скорее всего он дойдет до покупки: после просмотра экрана с товаром \"отваливаются\" только 19% пользователей, а уж если добавили товар в корзину, то купят его 95% пользователей. Такие относительно хорошие цифры на последних этапах перед покупкой могут быть связаны со спецификой приложения - продукты питания: стоимость на такая большая, как, например, у вещей, а потребность высокая. Нет смысла добавлять в корзину и ждать скидок, распродаж или просто зарплаты =)**"
   ]
  },
  {
   "cell_type": "markdown",
   "metadata": {},
   "source": [
    "### Доля пользователей, которые доходят от первого события до оплаты"
   ]
  },
  {
   "cell_type": "code",
   "execution_count": 35,
   "metadata": {},
   "outputs": [
    {
     "name": "stdout",
     "output_type": "stream",
     "text": [
      "Доля пользователей, которые доходят от первого события до оплаты: 0.4697\n"
     ]
    }
   ],
   "source": [
    "print('Доля пользователей, которые доходят от первого события до оплаты: {}'.format(round(logs_types_without_tutorial.loc['PaymentScreenSuccessful', 'count_users'] / logs['user_id'].nunique(), 4)))"
   ]
  },
  {
   "cell_type": "markdown",
   "metadata": {},
   "source": [
    "## Изучение результатов эксперимента"
   ]
  },
  {
   "cell_type": "markdown",
   "metadata": {},
   "source": [
    "### Количество пользователей в каждой (одной) экспериментальной группе"
   ]
  },
  {
   "cell_type": "markdown",
   "metadata": {},
   "source": [
    "<div style=\"border:solid blue 3px; padding: 20px\">\n",
    "<div class=\"alert alert-info\">\n",
    "    Такое уже просили вот тут 👇\n",
    "</div>\n",
    "</div>"
   ]
  },
  {
   "cell_type": "markdown",
   "metadata": {},
   "source": [
    "[<font color='red'>Количество пользователей в группе</font>](#count_users)"
   ]
  },
  {
   "cell_type": "code",
   "execution_count": 36,
   "metadata": {},
   "outputs": [
    {
     "data": {
      "text/html": [
       "<div>\n",
       "<style scoped>\n",
       "    .dataframe tbody tr th:only-of-type {\n",
       "        vertical-align: middle;\n",
       "    }\n",
       "\n",
       "    .dataframe tbody tr th {\n",
       "        vertical-align: top;\n",
       "    }\n",
       "\n",
       "    .dataframe thead th {\n",
       "        text-align: right;\n",
       "    }\n",
       "</style>\n",
       "<table border=\"1\" class=\"dataframe\">\n",
       "  <thead>\n",
       "    <tr style=\"text-align: right;\">\n",
       "      <th></th>\n",
       "      <th>group</th>\n",
       "      <th>count_users</th>\n",
       "    </tr>\n",
       "  </thead>\n",
       "  <tbody>\n",
       "    <tr>\n",
       "      <th>0</th>\n",
       "      <td>246</td>\n",
       "      <td>2484</td>\n",
       "    </tr>\n",
       "    <tr>\n",
       "      <th>1</th>\n",
       "      <td>247</td>\n",
       "      <td>2513</td>\n",
       "    </tr>\n",
       "    <tr>\n",
       "      <th>2</th>\n",
       "      <td>248</td>\n",
       "      <td>2537</td>\n",
       "    </tr>\n",
       "  </tbody>\n",
       "</table>\n",
       "</div>"
      ],
      "text/plain": [
       "   group  count_users\n",
       "0    246         2484\n",
       "1    247         2513\n",
       "2    248         2537"
      ]
     },
     "execution_count": 36,
     "metadata": {},
     "output_type": "execute_result"
    }
   ],
   "source": [
    "group_users"
   ]
  },
  {
   "cell_type": "markdown",
   "metadata": {},
   "source": [
    "### Проверка гипотезы о равенстве долей"
   ]
  },
  {
   "cell_type": "markdown",
   "metadata": {},
   "source": [
    "Для проверки гипотезы о равенстве долей двух контрольных групп (`246` и `247`) воспользуемся Z-тестом: разница между пропорциями, наблюдаемыми на выборках, будет нашей статистикой. Можно доказать, что она распределена нормально:"
   ]
  },
  {
   "cell_type": "markdown",
   "metadata": {},
   "source": [
    "![Z](https://pictures.s3.yandex.net/resources/Screenshot_2019-09-30_at_21.06.40_1569866809.png)"
   ]
  },
  {
   "cell_type": "markdown",
   "metadata": {},
   "source": [
    "где, \n",
    "`величина Z` — стандартная для критерия со стандартным нормальным распределением: со средним, равным нулю, и стандартным отклонением, равным единице. Это указано в правой части формулы после ～ знака, который говорит, что выражение распределено как N(0,1); \n",
    "\n",
    "`n₁` и `n₂` — размеры двух сравниваемых выборок, то есть количество наблюдений в них; \n",
    "\n",
    "`P₁`, `P₂` — пропорции, наблюдаемые в выборках; \n",
    "\n",
    "`P` — пропорция в выборке, скомбинированной из двух наблюдаемых; \n",
    "\n",
    "`π₁`, `π₂` — настоящие пропорции в сравниваемой генеральной совокупности (`π₁ - π₂ = 0`)."
   ]
  },
  {
   "cell_type": "markdown",
   "metadata": {},
   "source": [
    "Для применения формулы нам не хватает некоторых данных, а именно: \n",
    "1. `P₁`, `P₂`\n",
    "2. `P`"
   ]
  },
  {
   "cell_type": "markdown",
   "metadata": {},
   "source": [
    "Одним из критериев успешного A/A-теста является то, что количество пользователей в различных группах различается не более, чем на 1%. Проверим:"
   ]
  },
  {
   "cell_type": "code",
   "execution_count": 37,
   "metadata": {},
   "outputs": [
    {
     "name": "stdout",
     "output_type": "stream",
     "text": [
      "Различие в количестве пользователей групп 246 и 247: 1.17%\n"
     ]
    }
   ],
   "source": [
    "print('Различие в количестве пользователей групп 246 и 247: {:.2%}'.format(round(group_users.loc[1, 'count_users'] /\n",
    "                                                                       group_users.loc[0, 'count_users'] - 1, 4)))"
   ]
  },
  {
   "cell_type": "markdown",
   "metadata": {},
   "source": [
    "**Чуть больше процента, но работаем с тем, что есть.**"
   ]
  },
  {
   "cell_type": "markdown",
   "metadata": {},
   "source": [
    "Гипотеза $H_{0}$ (нулевая): между долями нет значимой разницы.  \n",
    "Гипотеза $H_{1}$ (альтернативная): между долями значимая разница есть.   \n",
    "Уровень статистической значимости `alpha`: 0.05"
   ]
  },
  {
   "cell_type": "code",
   "execution_count": 38,
   "metadata": {},
   "outputs": [
    {
     "data": {
      "text/html": [
       "<div>\n",
       "<style scoped>\n",
       "    .dataframe tbody tr th:only-of-type {\n",
       "        vertical-align: middle;\n",
       "    }\n",
       "\n",
       "    .dataframe tbody tr th {\n",
       "        vertical-align: top;\n",
       "    }\n",
       "\n",
       "    .dataframe thead th {\n",
       "        text-align: right;\n",
       "    }\n",
       "</style>\n",
       "<table border=\"1\" class=\"dataframe\">\n",
       "  <thead>\n",
       "    <tr style=\"text-align: right;\">\n",
       "      <th></th>\n",
       "      <th>group</th>\n",
       "      <th>count_users</th>\n",
       "      <th>CartScreenAppear</th>\n",
       "      <th>MainScreenAppear</th>\n",
       "      <th>OffersScreenAppear</th>\n",
       "      <th>PaymentScreenSuccessful</th>\n",
       "      <th>Tutorial</th>\n",
       "    </tr>\n",
       "  </thead>\n",
       "  <tbody>\n",
       "    <tr>\n",
       "      <th>0</th>\n",
       "      <td>246</td>\n",
       "      <td>2484</td>\n",
       "      <td>1266</td>\n",
       "      <td>2450</td>\n",
       "      <td>1542</td>\n",
       "      <td>1200</td>\n",
       "      <td>278</td>\n",
       "    </tr>\n",
       "    <tr>\n",
       "      <th>1</th>\n",
       "      <td>247</td>\n",
       "      <td>2513</td>\n",
       "      <td>1238</td>\n",
       "      <td>2476</td>\n",
       "      <td>1520</td>\n",
       "      <td>1158</td>\n",
       "      <td>283</td>\n",
       "    </tr>\n",
       "    <tr>\n",
       "      <th>2</th>\n",
       "      <td>248</td>\n",
       "      <td>2537</td>\n",
       "      <td>1230</td>\n",
       "      <td>2493</td>\n",
       "      <td>1531</td>\n",
       "      <td>1181</td>\n",
       "      <td>279</td>\n",
       "    </tr>\n",
       "  </tbody>\n",
       "</table>\n",
       "</div>"
      ],
      "text/plain": [
       "   group  count_users  CartScreenAppear  MainScreenAppear  OffersScreenAppear  \\\n",
       "0    246         2484              1266              2450                1542   \n",
       "1    247         2513              1238              2476                1520   \n",
       "2    248         2537              1230              2493                1531   \n",
       "\n",
       "   PaymentScreenSuccessful  Tutorial  \n",
       "0                     1200       278  \n",
       "1                     1158       283  \n",
       "2                     1181       279  "
      ]
     },
     "execution_count": 38,
     "metadata": {},
     "output_type": "execute_result"
    }
   ],
   "source": [
    "group_users = group_users.merge(logs.pivot_table(index='exp_id', \n",
    "                                                 columns='event_name', \n",
    "                                                 values='user_id', \n",
    "                                                 aggfunc='nunique'), \n",
    "                                left_on='group', \n",
    "                                right_on='exp_id', \n",
    "                                how='left')\n",
    "group_users"
   ]
  },
  {
   "cell_type": "code",
   "execution_count": 39,
   "metadata": {},
   "outputs": [
    {
     "name": "stdout",
     "output_type": "stream",
     "text": [
      "alpha: 0.05\n",
      "По доле MainScreenAppear\n",
      "p-значение:  0.7571\n",
      "Не получилось отвергнуть нулевую гипотезу, нет оснований считать доли разными \n",
      "\n",
      "По доле OffersScreenAppear\n",
      "p-значение:  0.2481\n",
      "Не получилось отвергнуть нулевую гипотезу, нет оснований считать доли разными \n",
      "\n",
      "По доле CartScreenAppear\n",
      "p-значение:  0.2288\n",
      "Не получилось отвергнуть нулевую гипотезу, нет оснований считать доли разными \n",
      "\n",
      "По доле PaymentScreenSuccessful\n",
      "p-значение:  0.1146\n",
      "Не получилось отвергнуть нулевую гипотезу, нет оснований считать доли разными \n",
      "\n",
      "По доле Tutorial\n",
      "p-значение:  0.9377\n",
      "Не получилось отвергнуть нулевую гипотезу, нет оснований считать доли разными \n",
      "\n"
     ]
    }
   ],
   "source": [
    "hypotheses_test_result(246, 247)"
   ]
  },
  {
   "cell_type": "markdown",
   "metadata": {},
   "source": [
    "<font color=blue>Главная цель А/А-теста — показать, можно ли доверять результатам эксперимента, который будет запущен в тех же условиях, но уже для контрольной и эксперименталой группы - с измененным шрифтом. Он позволяет убедиться, что на результат не влияют аномалии и выбросы в генеральной совокупности, что инструмент \"деления\" трафика работает безошибочно и что данные отправляются в системы аналитики корректно. В общем и целом, А/А-тестирование - способ проверить корректность работы механизма A/B-тестирования: если в ходе А/А-теста победителя выявить не удалось, можно запускать А/В-тест. В противном случае придется проверить настройки сервиса и однородность выборки. Поскольку ни один из A/A-тестов не выявил значимых различий в показателях двух контрольных групп, можно сделать вывод, что выборка у нас однородна и система, в которой мы проводим эксперимент, работает правильно, следовательно, при дальнейшем проведении А/В-тестов их результатам можно будет доверять.</font>"
   ]
  },
  {
   "cell_type": "markdown",
   "metadata": {},
   "source": [
    "Поскольку мы проводим несколько сравнений на одних и тех же данных, с каждой новой проверкой гипотезы растёт вероятность ошибки первого рода. Это групповая вероятность ошибки первого рода, или FWER.\n",
    "![Ошибки](https://pictures.s3.yandex.net/resources/vernaya_gipoteza-75f710d1-b38b-4f78-b135-da6f7eea0b0f_1569200659.jpg)\n",
    "Чтобы снизить вероятность ложнопозитивного результата при множественном тестировании гипотез, применяют разные методы корректировки уровня значимости для уменьшения FWER.  \n",
    "В функцию заложена самая распространенная и, в то же время, самая грубая поправка к требуемым уровням значимости - поправка Бонферрони: уровни значимости в каждом из m сравнений в m раз меньше, чем уровень значимости, требуемый при единственном сравнении. Проще говоря, необходимо разделить уровень значимости ɑ на число гипотез. Однако, в нашем случае нет смысла ее использовать, поскольку ни один тест итак не дал возможность отвергнуть нулевую гипотезу (поправка уменьшает p-value). "
   ]
  },
  {
   "cell_type": "markdown",
   "metadata": {},
   "source": [
    "**Значимых отличий между двумя А-группами не обнаружено.**"
   ]
  },
  {
   "cell_type": "markdown",
   "metadata": {},
   "source": [
    "### Самое популярное событие"
   ]
  },
  {
   "cell_type": "code",
   "execution_count": 40,
   "metadata": {},
   "outputs": [
    {
     "data": {
      "text/plain": [
       "MainScreenAppear           7419\n",
       "OffersScreenAppear         4593\n",
       "CartScreenAppear           3734\n",
       "PaymentScreenSuccessful    3539\n",
       "Tutorial                    840\n",
       "dtype: int64"
      ]
     },
     "execution_count": 40,
     "metadata": {},
     "output_type": "execute_result"
    }
   ],
   "source": [
    "group_users.apply({'MainScreenAppear': 'sum', \n",
    "                                    'OffersScreenAppear': 'sum', \n",
    "                                    'CartScreenAppear': 'sum',\n",
    "                                    'PaymentScreenSuccessful': 'sum', \n",
    "                                    'Tutorial': 'sum'}).sort_values(ascending=False)"
   ]
  },
  {
   "cell_type": "markdown",
   "metadata": {},
   "source": [
    "**Как ни странно, но самое популярное событие - это главный экран, меньше тысячи человек прошли обучение (сначала ломаем, потом смотрим инструкцию, все правильно =))**"
   ]
  },
  {
   "cell_type": "code",
   "execution_count": 41,
   "metadata": {},
   "outputs": [
    {
     "data": {
      "text/html": [
       "<div>\n",
       "<style scoped>\n",
       "    .dataframe tbody tr th:only-of-type {\n",
       "        vertical-align: middle;\n",
       "    }\n",
       "\n",
       "    .dataframe tbody tr th {\n",
       "        vertical-align: top;\n",
       "    }\n",
       "\n",
       "    .dataframe thead th {\n",
       "        text-align: right;\n",
       "    }\n",
       "</style>\n",
       "<table border=\"1\" class=\"dataframe\">\n",
       "  <thead>\n",
       "    <tr style=\"text-align: right;\">\n",
       "      <th></th>\n",
       "      <th>group</th>\n",
       "      <th>MainScreenAppear</th>\n",
       "      <th>share</th>\n",
       "    </tr>\n",
       "  </thead>\n",
       "  <tbody>\n",
       "    <tr>\n",
       "      <th>0</th>\n",
       "      <td>246</td>\n",
       "      <td>2450</td>\n",
       "      <td>0.3252</td>\n",
       "    </tr>\n",
       "    <tr>\n",
       "      <th>1</th>\n",
       "      <td>247</td>\n",
       "      <td>2476</td>\n",
       "      <td>0.3286</td>\n",
       "    </tr>\n",
       "    <tr>\n",
       "      <th>2</th>\n",
       "      <td>248</td>\n",
       "      <td>2493</td>\n",
       "      <td>0.3309</td>\n",
       "    </tr>\n",
       "  </tbody>\n",
       "</table>\n",
       "</div>"
      ],
      "text/plain": [
       "   group  MainScreenAppear   share\n",
       "0    246              2450  0.3252\n",
       "1    247              2476  0.3286\n",
       "2    248              2493  0.3309"
      ]
     },
     "execution_count": 41,
     "metadata": {},
     "output_type": "execute_result"
    }
   ],
   "source": [
    "# число пользователей, совершивших самое популярное событие по группам (и доля)\n",
    "popular_event = group_users.loc[:, ['group', 'MainScreenAppear']]\n",
    "popular_event['share'] = round(popular_event['MainScreenAppear'] / logs['user_id'].nunique(), 4)\n",
    "popular_event"
   ]
  },
  {
   "cell_type": "markdown",
   "metadata": {},
   "source": [
    "### А/В-тесты"
   ]
  },
  {
   "cell_type": "code",
   "execution_count": 42,
   "metadata": {},
   "outputs": [
    {
     "name": "stdout",
     "output_type": "stream",
     "text": [
      "alpha: 0.05\n",
      "По доле MainScreenAppear\n",
      "p-значение:  0.295\n",
      "Не получилось отвергнуть нулевую гипотезу, нет оснований считать доли разными \n",
      "\n",
      "По доле OffersScreenAppear\n",
      "p-значение:  0.2084\n",
      "Не получилось отвергнуть нулевую гипотезу, нет оснований считать доли разными \n",
      "\n",
      "По доле CartScreenAppear\n",
      "p-значение:  0.0784\n",
      "Не получилось отвергнуть нулевую гипотезу, нет оснований считать доли разными \n",
      "\n",
      "По доле PaymentScreenSuccessful\n",
      "p-значение:  0.2123\n",
      "Не получилось отвергнуть нулевую гипотезу, нет оснований считать доли разными \n",
      "\n",
      "По доле Tutorial\n",
      "p-значение:  0.8264\n",
      "Не получилось отвергнуть нулевую гипотезу, нет оснований считать доли разными \n",
      "\n"
     ]
    }
   ],
   "source": [
    "# проверка групп 246 и 248\n",
    "hypotheses_test_result(246, 248)"
   ]
  },
  {
   "cell_type": "code",
   "execution_count": 43,
   "metadata": {},
   "outputs": [
    {
     "name": "stdout",
     "output_type": "stream",
     "text": [
      "alpha: 0.05\n",
      "По доле MainScreenAppear\n",
      "p-значение:  0.4587\n",
      "Не получилось отвергнуть нулевую гипотезу, нет оснований считать доли разными \n",
      "\n",
      "По доле OffersScreenAppear\n",
      "p-значение:  0.9198\n",
      "Не получилось отвергнуть нулевую гипотезу, нет оснований считать доли разными \n",
      "\n",
      "По доле CartScreenAppear\n",
      "p-значение:  0.5786\n",
      "Не получилось отвергнуть нулевую гипотезу, нет оснований считать доли разными \n",
      "\n",
      "По доле PaymentScreenSuccessful\n",
      "p-значение:  0.7373\n",
      "Не получилось отвергнуть нулевую гипотезу, нет оснований считать доли разными \n",
      "\n",
      "По доле Tutorial\n",
      "p-значение:  0.7653\n",
      "Не получилось отвергнуть нулевую гипотезу, нет оснований считать доли разными \n",
      "\n"
     ]
    }
   ],
   "source": [
    "# проверка групп 247 и 248\n",
    "hypotheses_test_result(247, 248)"
   ]
  },
  {
   "cell_type": "markdown",
   "metadata": {},
   "source": [
    "Для проверки экспериментальной группы с объединенной контрольной группой сначала добавим все необходимые данные в таблицу."
   ]
  },
  {
   "cell_type": "code",
   "execution_count": 44,
   "metadata": {},
   "outputs": [
    {
     "data": {
      "text/html": [
       "<div>\n",
       "<style scoped>\n",
       "    .dataframe tbody tr th:only-of-type {\n",
       "        vertical-align: middle;\n",
       "    }\n",
       "\n",
       "    .dataframe tbody tr th {\n",
       "        vertical-align: top;\n",
       "    }\n",
       "\n",
       "    .dataframe thead th {\n",
       "        text-align: right;\n",
       "    }\n",
       "</style>\n",
       "<table border=\"1\" class=\"dataframe\">\n",
       "  <thead>\n",
       "    <tr style=\"text-align: right;\">\n",
       "      <th></th>\n",
       "      <th>group</th>\n",
       "      <th>count_users</th>\n",
       "      <th>CartScreenAppear</th>\n",
       "      <th>MainScreenAppear</th>\n",
       "      <th>OffersScreenAppear</th>\n",
       "      <th>PaymentScreenSuccessful</th>\n",
       "      <th>Tutorial</th>\n",
       "    </tr>\n",
       "  </thead>\n",
       "  <tbody>\n",
       "    <tr>\n",
       "      <th>0</th>\n",
       "      <td>246</td>\n",
       "      <td>2484</td>\n",
       "      <td>1266</td>\n",
       "      <td>2450</td>\n",
       "      <td>1542</td>\n",
       "      <td>1200</td>\n",
       "      <td>278</td>\n",
       "    </tr>\n",
       "    <tr>\n",
       "      <th>1</th>\n",
       "      <td>247</td>\n",
       "      <td>2513</td>\n",
       "      <td>1238</td>\n",
       "      <td>2476</td>\n",
       "      <td>1520</td>\n",
       "      <td>1158</td>\n",
       "      <td>283</td>\n",
       "    </tr>\n",
       "    <tr>\n",
       "      <th>2</th>\n",
       "      <td>248</td>\n",
       "      <td>2537</td>\n",
       "      <td>1230</td>\n",
       "      <td>2493</td>\n",
       "      <td>1531</td>\n",
       "      <td>1181</td>\n",
       "      <td>279</td>\n",
       "    </tr>\n",
       "  </tbody>\n",
       "</table>\n",
       "</div>"
      ],
      "text/plain": [
       "   group  count_users  CartScreenAppear  MainScreenAppear  OffersScreenAppear  \\\n",
       "0    246         2484              1266              2450                1542   \n",
       "1    247         2513              1238              2476                1520   \n",
       "2    248         2537              1230              2493                1531   \n",
       "\n",
       "   PaymentScreenSuccessful  Tutorial  \n",
       "0                     1200       278  \n",
       "1                     1158       283  \n",
       "2                     1181       279  "
      ]
     },
     "execution_count": 44,
     "metadata": {},
     "output_type": "execute_result"
    }
   ],
   "source": [
    "group_users"
   ]
  },
  {
   "cell_type": "code",
   "execution_count": 45,
   "metadata": {
    "scrolled": true
   },
   "outputs": [
    {
     "data": {
      "text/html": [
       "<div>\n",
       "<style scoped>\n",
       "    .dataframe tbody tr th:only-of-type {\n",
       "        vertical-align: middle;\n",
       "    }\n",
       "\n",
       "    .dataframe tbody tr th {\n",
       "        vertical-align: top;\n",
       "    }\n",
       "\n",
       "    .dataframe thead th {\n",
       "        text-align: right;\n",
       "    }\n",
       "</style>\n",
       "<table border=\"1\" class=\"dataframe\">\n",
       "  <thead>\n",
       "    <tr style=\"text-align: right;\">\n",
       "      <th></th>\n",
       "      <th>group</th>\n",
       "      <th>count_users</th>\n",
       "      <th>CartScreenAppear</th>\n",
       "      <th>MainScreenAppear</th>\n",
       "      <th>OffersScreenAppear</th>\n",
       "      <th>PaymentScreenSuccessful</th>\n",
       "      <th>Tutorial</th>\n",
       "    </tr>\n",
       "  </thead>\n",
       "  <tbody>\n",
       "    <tr>\n",
       "      <th>0</th>\n",
       "      <td>246</td>\n",
       "      <td>2484</td>\n",
       "      <td>1266</td>\n",
       "      <td>2450</td>\n",
       "      <td>1542</td>\n",
       "      <td>1200</td>\n",
       "      <td>278</td>\n",
       "    </tr>\n",
       "    <tr>\n",
       "      <th>1</th>\n",
       "      <td>247</td>\n",
       "      <td>2513</td>\n",
       "      <td>1238</td>\n",
       "      <td>2476</td>\n",
       "      <td>1520</td>\n",
       "      <td>1158</td>\n",
       "      <td>283</td>\n",
       "    </tr>\n",
       "    <tr>\n",
       "      <th>2</th>\n",
       "      <td>248</td>\n",
       "      <td>2537</td>\n",
       "      <td>1230</td>\n",
       "      <td>2493</td>\n",
       "      <td>1531</td>\n",
       "      <td>1181</td>\n",
       "      <td>279</td>\n",
       "    </tr>\n",
       "    <tr>\n",
       "      <th>246+247</th>\n",
       "      <td>249</td>\n",
       "      <td>4997</td>\n",
       "      <td>2504</td>\n",
       "      <td>4926</td>\n",
       "      <td>3062</td>\n",
       "      <td>2358</td>\n",
       "      <td>561</td>\n",
       "    </tr>\n",
       "  </tbody>\n",
       "</table>\n",
       "</div>"
      ],
      "text/plain": [
       "         group  count_users  CartScreenAppear  MainScreenAppear  \\\n",
       "0          246         2484              1266              2450   \n",
       "1          247         2513              1238              2476   \n",
       "2          248         2537              1230              2493   \n",
       "246+247    249         4997              2504              4926   \n",
       "\n",
       "         OffersScreenAppear  PaymentScreenSuccessful  Tutorial  \n",
       "0                      1542                     1200       278  \n",
       "1                      1520                     1158       283  \n",
       "2                      1531                     1181       279  \n",
       "246+247                3062                     2358       561  "
      ]
     },
     "execution_count": 45,
     "metadata": {},
     "output_type": "execute_result"
    }
   ],
   "source": [
    "new_row = group_users.loc[0] + group_users.loc[1]\n",
    "new_row.name = '246+247'\n",
    "group_users.loc['246+247'] = new_row\n",
    "group_users.reset_index(drop=True)\n",
    "group_users.loc['246+247', 'group'] = 249\n",
    "group_users"
   ]
  },
  {
   "cell_type": "code",
   "execution_count": 46,
   "metadata": {},
   "outputs": [
    {
     "name": "stdout",
     "output_type": "stream",
     "text": [
      "alpha: 0.05\n",
      "По доле MainScreenAppear\n",
      "p-значение:  0.2942\n",
      "Не получилось отвергнуть нулевую гипотезу, нет оснований считать доли разными \n",
      "\n",
      "По доле OffersScreenAppear\n",
      "p-значение:  0.4343\n",
      "Не получилось отвергнуть нулевую гипотезу, нет оснований считать доли разными \n",
      "\n",
      "По доле CartScreenAppear\n",
      "p-значение:  0.1818\n",
      "Не получилось отвергнуть нулевую гипотезу, нет оснований считать доли разными \n",
      "\n",
      "По доле PaymentScreenSuccessful\n",
      "p-значение:  0.6004\n",
      "Не получилось отвергнуть нулевую гипотезу, нет оснований считать доли разными \n",
      "\n",
      "По доле Tutorial\n",
      "p-значение:  0.7649\n",
      "Не получилось отвергнуть нулевую гипотезу, нет оснований считать доли разными \n",
      "\n"
     ]
    }
   ],
   "source": [
    "# проверка объединенной контрольной группы и 248\n",
    "hypotheses_test_result(249, 248)"
   ]
  },
  {
   "cell_type": "markdown",
   "metadata": {},
   "source": [
    "**Изменение шрифта в приложении никак не сказалось на поведении пользователей: ни одна из метрик существенно не изменилась, следовательно, введение нового шрифта с точки зрения изменения UX никак не повлияет на бизнес.**"
   ]
  },
  {
   "cell_type": "markdown",
   "metadata": {},
   "source": [
    "### Поправка при расчетах "
   ]
  },
  {
   "cell_type": "markdown",
   "metadata": {},
   "source": [
    "При проверке статистических гипотез мы установили статистическую значимость на уровне 0,05. \n",
    "Количество проведенных проверок - 20 (5 - $A_{1}$ / $A_{2}$; 5 - $A_{1}$ / B; 5 - $A_{2}$ / B; 5 - $A_{12}$ / B). В принципе, как я уже писал выше, надобности в поправке нет, поскольку лишь в одном тесте (`группы 246 и 248 CartScreenAppear`) p-value приблизилось к отметке 0,05. А поправка еще сильнее уменьшит `alpha-значение`. Посмотрим на одном примере, что параметр в функции работает исправно. Для этого, правда, придется использовать нереалистичные данные."
   ]
  },
  {
   "cell_type": "code",
   "execution_count": 47,
   "metadata": {},
   "outputs": [
    {
     "name": "stdout",
     "output_type": "stream",
     "text": [
      "alpha: 0.5\n",
      "По доле MainScreenAppear\n",
      "p-значение:  0.295\n",
      "Отвергаем нулевую гипотезу: между долями есть значимая разница \n",
      "\n",
      "По доле OffersScreenAppear\n",
      "p-значение:  0.2084\n",
      "Отвергаем нулевую гипотезу: между долями есть значимая разница \n",
      "\n",
      "По доле CartScreenAppear\n",
      "p-значение:  0.0784\n",
      "Отвергаем нулевую гипотезу: между долями есть значимая разница \n",
      "\n",
      "По доле PaymentScreenSuccessful\n",
      "p-значение:  0.2123\n",
      "Отвергаем нулевую гипотезу: между долями есть значимая разница \n",
      "\n",
      "По доле Tutorial\n",
      "p-значение:  0.8264\n",
      "Не получилось отвергнуть нулевую гипотезу, нет оснований считать доли разными \n",
      "\n"
     ]
    }
   ],
   "source": [
    "hypotheses_test_result(246, 248, bonferrony=0.1) # чтобы получить уровень статистической значимости 0,5"
   ]
  },
  {
   "cell_type": "markdown",
   "metadata": {},
   "source": [
    "Как мы можем видеть, поправка работает: p-value равное 0,2084 позволяет нам отвергнуть нулевую гипотезу, а 0,8264 - нет. "
   ]
  },
  {
   "cell_type": "markdown",
   "metadata": {},
   "source": [
    "**Выводы: проведя А/А-тест, мы убедились, что статистически значимых различий между A-группами (`246 и 247`) нет, следовательно, \"система тестирования\" настроена правильно и дальнейшим A/B-тестам можно доверять. В ходе A/B тестов статистически значимых различий выявить тоже не удалось, это говорит о том, что изменение шрифта в приложении никак не скажется на поведении пользователей, а значит, его изменение не навредит бизнесу.\n",
    "Несмотря на то, что период исследования включал в себя только одну неделю, учитывая полученные значения p-value, ожидать того, что ситуация кардинально изменится с увеличением срока наблюдения не приходится. Так как на пользователей изменение шрифта не повлияет, стоит рассмотреть этот вопрос и с других точек зрения: трудоемкость, стоимость.**"
   ]
  }
 ],
 "metadata": {
  "ExecuteTimeLog": [
   {
    "duration": 1442,
    "start_time": "2023-04-14T19:54:30.833Z"
   },
   {
    "duration": 4,
    "start_time": "2023-04-14T19:54:32.278Z"
   },
   {
    "duration": 20,
    "start_time": "2023-04-14T19:54:32.283Z"
   },
   {
    "duration": 12,
    "start_time": "2023-04-14T19:54:32.305Z"
   },
   {
    "duration": 681,
    "start_time": "2023-04-14T19:54:32.319Z"
   },
   {
    "duration": 98,
    "start_time": "2023-04-14T19:54:33.001Z"
   },
   {
    "duration": 77,
    "start_time": "2023-04-14T19:54:33.100Z"
   },
   {
    "duration": 5,
    "start_time": "2023-04-14T19:54:33.179Z"
   },
   {
    "duration": 21,
    "start_time": "2023-04-14T19:54:33.186Z"
   },
   {
    "duration": 143,
    "start_time": "2023-04-14T19:54:33.210Z"
   },
   {
    "duration": 129,
    "start_time": "2023-04-14T19:54:33.356Z"
   },
   {
    "duration": 29,
    "start_time": "2023-04-14T19:54:33.487Z"
   },
   {
    "duration": 7,
    "start_time": "2023-04-14T19:54:33.518Z"
   },
   {
    "duration": 37,
    "start_time": "2023-04-14T19:54:33.527Z"
   },
   {
    "duration": 6,
    "start_time": "2023-04-14T19:54:33.565Z"
   },
   {
    "duration": 527,
    "start_time": "2023-04-14T19:54:33.573Z"
   },
   {
    "duration": 10,
    "start_time": "2023-04-14T19:54:34.102Z"
   },
   {
    "duration": 51,
    "start_time": "2023-04-14T19:54:34.114Z"
   },
   {
    "duration": 21,
    "start_time": "2023-04-14T19:54:34.167Z"
   },
   {
    "duration": 39,
    "start_time": "2023-04-14T19:54:34.190Z"
   },
   {
    "duration": 27,
    "start_time": "2023-04-14T19:54:34.231Z"
   },
   {
    "duration": 38,
    "start_time": "2023-04-14T19:54:34.259Z"
   },
   {
    "duration": 17,
    "start_time": "2023-04-14T19:54:34.298Z"
   },
   {
    "duration": 44,
    "start_time": "2023-04-14T19:54:34.317Z"
   },
   {
    "duration": 353,
    "start_time": "2023-04-14T19:54:34.363Z"
   },
   {
    "duration": 68,
    "start_time": "2023-04-14T19:54:34.718Z"
   },
   {
    "duration": 299,
    "start_time": "2023-04-14T19:54:34.788Z"
   },
   {
    "duration": 16,
    "start_time": "2023-04-14T19:54:35.090Z"
   },
   {
    "duration": 11,
    "start_time": "2023-04-14T19:54:35.108Z"
   },
   {
    "duration": 36,
    "start_time": "2023-04-14T19:54:35.121Z"
   },
   {
    "duration": 153,
    "start_time": "2023-04-14T19:54:35.159Z"
   },
   {
    "duration": 16,
    "start_time": "2023-04-14T19:54:35.314Z"
   },
   {
    "duration": 8,
    "start_time": "2023-04-14T19:54:35.332Z"
   },
   {
    "duration": 7,
    "start_time": "2023-04-14T19:54:35.357Z"
   },
   {
    "duration": 5,
    "start_time": "2023-04-14T19:54:35.366Z"
   },
   {
    "duration": 113,
    "start_time": "2023-04-14T19:54:35.373Z"
   },
   {
    "duration": 41,
    "start_time": "2023-04-14T19:54:35.487Z"
   },
   {
    "duration": 27,
    "start_time": "2023-04-14T19:54:35.530Z"
   },
   {
    "duration": 30,
    "start_time": "2023-04-14T19:54:35.558Z"
   },
   {
    "duration": 38,
    "start_time": "2023-04-14T19:54:35.590Z"
   },
   {
    "duration": 55,
    "start_time": "2023-04-14T19:54:35.630Z"
   },
   {
    "duration": 9,
    "start_time": "2023-04-14T19:54:35.686Z"
   },
   {
    "duration": 29,
    "start_time": "2023-04-14T19:54:35.697Z"
   },
   {
    "duration": 68,
    "start_time": "2023-04-14T19:54:35.728Z"
   },
   {
    "duration": 44,
    "start_time": "2023-04-14T19:54:35.798Z"
   },
   {
    "duration": 1597,
    "start_time": "2023-04-15T06:25:50.153Z"
   },
   {
    "duration": 6,
    "start_time": "2023-04-15T06:25:51.753Z"
   },
   {
    "duration": 125,
    "start_time": "2023-04-15T06:25:51.760Z"
   },
   {
    "duration": 48,
    "start_time": "2023-04-15T06:25:51.887Z"
   },
   {
    "duration": 590,
    "start_time": "2023-04-15T06:25:51.939Z"
   },
   {
    "duration": 104,
    "start_time": "2023-04-15T06:25:52.531Z"
   },
   {
    "duration": 74,
    "start_time": "2023-04-15T06:25:52.637Z"
   },
   {
    "duration": 5,
    "start_time": "2023-04-15T06:25:52.713Z"
   },
   {
    "duration": 24,
    "start_time": "2023-04-15T06:25:52.720Z"
   },
   {
    "duration": 165,
    "start_time": "2023-04-15T06:25:52.745Z"
   },
   {
    "duration": 158,
    "start_time": "2023-04-15T06:25:52.912Z"
   },
   {
    "duration": 57,
    "start_time": "2023-04-15T06:25:53.072Z"
   },
   {
    "duration": 9,
    "start_time": "2023-04-15T06:25:53.131Z"
   },
   {
    "duration": 51,
    "start_time": "2023-04-15T06:25:53.144Z"
   },
   {
    "duration": 26,
    "start_time": "2023-04-15T06:25:53.197Z"
   },
   {
    "duration": 569,
    "start_time": "2023-04-15T06:25:53.225Z"
   },
   {
    "duration": 8,
    "start_time": "2023-04-15T06:25:53.795Z"
   },
   {
    "duration": 36,
    "start_time": "2023-04-15T06:25:53.805Z"
   },
   {
    "duration": 20,
    "start_time": "2023-04-15T06:25:53.843Z"
   },
   {
    "duration": 40,
    "start_time": "2023-04-15T06:25:53.888Z"
   },
   {
    "duration": 10,
    "start_time": "2023-04-15T06:25:53.930Z"
   },
   {
    "duration": 71,
    "start_time": "2023-04-15T06:25:53.942Z"
   },
   {
    "duration": 21,
    "start_time": "2023-04-15T06:25:54.015Z"
   },
   {
    "duration": 52,
    "start_time": "2023-04-15T06:25:54.038Z"
   },
   {
    "duration": 448,
    "start_time": "2023-04-15T06:25:54.093Z"
   },
   {
    "duration": 74,
    "start_time": "2023-04-15T06:25:54.544Z"
   },
   {
    "duration": 403,
    "start_time": "2023-04-15T06:25:54.621Z"
   },
   {
    "duration": 20,
    "start_time": "2023-04-15T06:25:55.026Z"
   },
   {
    "duration": 17,
    "start_time": "2023-04-15T06:25:55.048Z"
   },
   {
    "duration": 48,
    "start_time": "2023-04-15T06:25:55.067Z"
   },
   {
    "duration": 193,
    "start_time": "2023-04-15T06:25:55.116Z"
   },
   {
    "duration": 21,
    "start_time": "2023-04-15T06:25:55.311Z"
   },
   {
    "duration": 12,
    "start_time": "2023-04-15T06:25:55.334Z"
   },
   {
    "duration": 8,
    "start_time": "2023-04-15T06:25:55.347Z"
   },
   {
    "duration": 32,
    "start_time": "2023-04-15T06:25:55.357Z"
   },
   {
    "duration": 141,
    "start_time": "2023-04-15T06:25:55.392Z"
   },
   {
    "duration": 76,
    "start_time": "2023-04-15T06:25:55.535Z"
   },
   {
    "duration": 14,
    "start_time": "2023-04-15T06:25:55.614Z"
   },
   {
    "duration": 39,
    "start_time": "2023-04-15T06:25:55.633Z"
   },
   {
    "duration": 61,
    "start_time": "2023-04-15T06:25:55.677Z"
   },
   {
    "duration": 74,
    "start_time": "2023-04-15T06:25:55.743Z"
   },
   {
    "duration": 13,
    "start_time": "2023-04-15T06:25:55.819Z"
   },
   {
    "duration": 39,
    "start_time": "2023-04-15T06:25:55.834Z"
   },
   {
    "duration": 76,
    "start_time": "2023-04-15T06:25:55.875Z"
   },
   {
    "duration": 55,
    "start_time": "2023-04-15T06:25:55.954Z"
   },
   {
    "duration": 1464,
    "start_time": "2023-04-15T18:31:43.968Z"
   },
   {
    "duration": 3,
    "start_time": "2023-04-15T18:31:45.434Z"
   },
   {
    "duration": 10,
    "start_time": "2023-04-15T18:31:45.439Z"
   },
   {
    "duration": 11,
    "start_time": "2023-04-15T18:31:45.451Z"
   },
   {
    "duration": 974,
    "start_time": "2023-04-15T18:31:45.463Z"
   },
   {
    "duration": 107,
    "start_time": "2023-04-15T18:31:46.439Z"
   },
   {
    "duration": 75,
    "start_time": "2023-04-15T18:31:46.548Z"
   },
   {
    "duration": 8,
    "start_time": "2023-04-15T18:31:46.625Z"
   },
   {
    "duration": 79,
    "start_time": "2023-04-15T18:31:46.634Z"
   },
   {
    "duration": 163,
    "start_time": "2023-04-15T18:31:46.716Z"
   },
   {
    "duration": 169,
    "start_time": "2023-04-15T18:31:46.881Z"
   },
   {
    "duration": 56,
    "start_time": "2023-04-15T18:31:47.053Z"
   },
   {
    "duration": 9,
    "start_time": "2023-04-15T18:31:47.111Z"
   },
   {
    "duration": 28,
    "start_time": "2023-04-15T18:31:47.122Z"
   },
   {
    "duration": 5,
    "start_time": "2023-04-15T18:31:47.152Z"
   },
   {
    "duration": 489,
    "start_time": "2023-04-15T18:31:47.159Z"
   },
   {
    "duration": 7,
    "start_time": "2023-04-15T18:31:47.649Z"
   },
   {
    "duration": 45,
    "start_time": "2023-04-15T18:31:47.658Z"
   },
   {
    "duration": 49,
    "start_time": "2023-04-15T18:31:47.704Z"
   },
   {
    "duration": 58,
    "start_time": "2023-04-15T18:31:47.755Z"
   },
   {
    "duration": 20,
    "start_time": "2023-04-15T18:31:47.815Z"
   },
   {
    "duration": 135,
    "start_time": "2023-04-15T18:31:47.837Z"
   },
   {
    "duration": 32,
    "start_time": "2023-04-15T18:31:47.974Z"
   },
   {
    "duration": 100,
    "start_time": "2023-04-15T18:31:48.008Z"
   },
   {
    "duration": 439,
    "start_time": "2023-04-15T18:31:48.113Z"
   },
   {
    "duration": 76,
    "start_time": "2023-04-15T18:31:48.554Z"
   },
   {
    "duration": 379,
    "start_time": "2023-04-15T18:31:48.632Z"
   },
   {
    "duration": 14,
    "start_time": "2023-04-15T18:31:49.024Z"
   },
   {
    "duration": 15,
    "start_time": "2023-04-15T18:31:49.040Z"
   },
   {
    "duration": 48,
    "start_time": "2023-04-15T18:31:49.057Z"
   },
   {
    "duration": 182,
    "start_time": "2023-04-15T18:31:49.107Z"
   },
   {
    "duration": 23,
    "start_time": "2023-04-15T18:31:49.291Z"
   },
   {
    "duration": 36,
    "start_time": "2023-04-15T18:31:49.319Z"
   },
   {
    "duration": 48,
    "start_time": "2023-04-15T18:31:49.357Z"
   },
   {
    "duration": 37,
    "start_time": "2023-04-15T18:31:49.412Z"
   },
   {
    "duration": 129,
    "start_time": "2023-04-15T18:31:49.451Z"
   },
   {
    "duration": 44,
    "start_time": "2023-04-15T18:31:49.583Z"
   },
   {
    "duration": 14,
    "start_time": "2023-04-15T18:31:49.629Z"
   },
   {
    "duration": 15,
    "start_time": "2023-04-15T18:31:49.645Z"
   },
   {
    "duration": 55,
    "start_time": "2023-04-15T18:31:49.662Z"
   },
   {
    "duration": 55,
    "start_time": "2023-04-15T18:31:49.720Z"
   },
   {
    "duration": 9,
    "start_time": "2023-04-15T18:31:49.777Z"
   },
   {
    "duration": 59,
    "start_time": "2023-04-15T18:31:49.788Z"
   },
   {
    "duration": 63,
    "start_time": "2023-04-15T18:31:49.849Z"
   },
   {
    "duration": 60,
    "start_time": "2023-04-15T18:31:49.914Z"
   },
   {
    "duration": 18,
    "start_time": "2023-04-15T18:33:16.414Z"
   },
   {
    "duration": 12,
    "start_time": "2023-04-15T18:35:01.831Z"
   },
   {
    "duration": 35,
    "start_time": "2023-04-15T18:51:30.518Z"
   },
   {
    "duration": 173,
    "start_time": "2023-04-15T18:51:54.609Z"
   },
   {
    "duration": 36,
    "start_time": "2023-04-15T18:52:16.114Z"
   },
   {
    "duration": 86,
    "start_time": "2023-04-15T18:52:26.960Z"
   },
   {
    "duration": 21,
    "start_time": "2023-04-15T18:53:37.821Z"
   },
   {
    "duration": 6,
    "start_time": "2023-04-15T18:55:37.017Z"
   },
   {
    "duration": 20,
    "start_time": "2023-04-15T18:55:48.039Z"
   },
   {
    "duration": 145,
    "start_time": "2023-04-15T18:57:14.478Z"
   },
   {
    "duration": 165,
    "start_time": "2023-04-15T18:57:22.665Z"
   },
   {
    "duration": 166,
    "start_time": "2023-04-15T18:59:59.220Z"
   },
   {
    "duration": 152,
    "start_time": "2023-04-15T19:00:02.813Z"
   },
   {
    "duration": 244,
    "start_time": "2023-04-15T19:00:06.812Z"
   },
   {
    "duration": 183,
    "start_time": "2023-04-15T19:00:12.570Z"
   },
   {
    "duration": 125,
    "start_time": "2023-04-15T19:00:20.851Z"
   },
   {
    "duration": 338,
    "start_time": "2023-04-15T19:01:44.938Z"
   },
   {
    "duration": 306,
    "start_time": "2023-04-15T19:01:57.964Z"
   },
   {
    "duration": 265,
    "start_time": "2023-04-15T19:02:02.206Z"
   },
   {
    "duration": 274,
    "start_time": "2023-04-15T19:02:13.554Z"
   },
   {
    "duration": 296,
    "start_time": "2023-04-15T19:02:24.966Z"
   },
   {
    "duration": 70,
    "start_time": "2023-04-15T19:02:33.606Z"
   },
   {
    "duration": 283,
    "start_time": "2023-04-15T19:02:42.442Z"
   },
   {
    "duration": 1477,
    "start_time": "2023-04-15T19:04:12.582Z"
   },
   {
    "duration": 5,
    "start_time": "2023-04-15T19:04:14.061Z"
   },
   {
    "duration": 13,
    "start_time": "2023-04-15T19:04:14.068Z"
   },
   {
    "duration": 69,
    "start_time": "2023-04-15T19:04:14.084Z"
   },
   {
    "duration": 224,
    "start_time": "2023-04-15T19:04:14.156Z"
   },
   {
    "duration": 135,
    "start_time": "2023-04-15T19:04:14.382Z"
   },
   {
    "duration": 74,
    "start_time": "2023-04-15T19:04:14.524Z"
   },
   {
    "duration": 5,
    "start_time": "2023-04-15T19:04:14.600Z"
   },
   {
    "duration": 65,
    "start_time": "2023-04-15T19:04:14.607Z"
   },
   {
    "duration": 210,
    "start_time": "2023-04-15T19:04:14.676Z"
   },
   {
    "duration": 191,
    "start_time": "2023-04-15T19:04:14.888Z"
   },
   {
    "duration": 56,
    "start_time": "2023-04-15T19:04:15.080Z"
   },
   {
    "duration": 60,
    "start_time": "2023-04-15T19:04:15.137Z"
   },
   {
    "duration": 78,
    "start_time": "2023-04-15T19:04:15.202Z"
   },
   {
    "duration": 357,
    "start_time": "2023-04-15T19:04:15.282Z"
   },
   {
    "duration": 7,
    "start_time": "2023-04-15T19:04:15.642Z"
   },
   {
    "duration": 815,
    "start_time": "2023-04-15T19:04:15.651Z"
   },
   {
    "duration": 8,
    "start_time": "2023-04-15T19:04:16.468Z"
   },
   {
    "duration": 102,
    "start_time": "2023-04-15T19:04:16.477Z"
   },
   {
    "duration": 38,
    "start_time": "2023-04-15T19:04:16.581Z"
   },
   {
    "duration": 81,
    "start_time": "2023-04-15T19:04:16.621Z"
   },
   {
    "duration": 14,
    "start_time": "2023-04-15T19:04:16.704Z"
   },
   {
    "duration": 98,
    "start_time": "2023-04-15T19:04:16.719Z"
   },
   {
    "duration": 29,
    "start_time": "2023-04-15T19:04:16.820Z"
   },
   {
    "duration": 25,
    "start_time": "2023-04-15T19:04:16.850Z"
   },
   {
    "duration": 354,
    "start_time": "2023-04-15T19:04:16.876Z"
   },
   {
    "duration": 87,
    "start_time": "2023-04-15T19:04:17.236Z"
   },
   {
    "duration": 325,
    "start_time": "2023-04-15T19:04:17.328Z"
   },
   {
    "duration": 12,
    "start_time": "2023-04-15T19:04:17.655Z"
   },
   {
    "duration": 26,
    "start_time": "2023-04-15T19:04:17.669Z"
   },
   {
    "duration": 38,
    "start_time": "2023-04-15T19:04:17.697Z"
   },
   {
    "duration": 151,
    "start_time": "2023-04-15T19:04:17.737Z"
   },
   {
    "duration": 19,
    "start_time": "2023-04-15T19:04:17.892Z"
   },
   {
    "duration": 41,
    "start_time": "2023-04-15T19:04:17.915Z"
   },
   {
    "duration": 18,
    "start_time": "2023-04-15T19:04:17.957Z"
   },
   {
    "duration": 68,
    "start_time": "2023-04-15T19:04:17.977Z"
   },
   {
    "duration": 147,
    "start_time": "2023-04-15T19:04:18.047Z"
   },
   {
    "duration": 53,
    "start_time": "2023-04-15T19:04:18.196Z"
   },
   {
    "duration": 10,
    "start_time": "2023-04-15T19:04:18.251Z"
   },
   {
    "duration": 44,
    "start_time": "2023-04-15T19:04:18.263Z"
   },
   {
    "duration": 71,
    "start_time": "2023-04-15T19:04:18.309Z"
   },
   {
    "duration": 50,
    "start_time": "2023-04-15T19:04:18.382Z"
   },
   {
    "duration": 33,
    "start_time": "2023-04-15T19:04:18.435Z"
   },
   {
    "duration": 17,
    "start_time": "2023-04-15T19:04:18.470Z"
   },
   {
    "duration": 111,
    "start_time": "2023-04-15T19:04:18.489Z"
   },
   {
    "duration": 54,
    "start_time": "2023-04-15T19:04:18.603Z"
   },
   {
    "duration": 221,
    "start_time": "2023-04-15T19:04:38.528Z"
   },
   {
    "duration": 539,
    "start_time": "2023-04-15T19:04:54.080Z"
   },
   {
    "duration": 480,
    "start_time": "2023-04-15T19:05:00.824Z"
   },
   {
    "duration": 396,
    "start_time": "2023-04-15T19:05:08.846Z"
   },
   {
    "duration": 1487,
    "start_time": "2023-04-15T19:05:14.875Z"
   },
   {
    "duration": 4,
    "start_time": "2023-04-15T19:05:16.364Z"
   },
   {
    "duration": 42,
    "start_time": "2023-04-15T19:05:16.370Z"
   },
   {
    "duration": 51,
    "start_time": "2023-04-15T19:05:16.414Z"
   },
   {
    "duration": 362,
    "start_time": "2023-04-15T19:05:16.466Z"
   },
   {
    "duration": 126,
    "start_time": "2023-04-15T19:05:16.830Z"
   },
   {
    "duration": 95,
    "start_time": "2023-04-15T19:05:16.957Z"
   },
   {
    "duration": 6,
    "start_time": "2023-04-15T19:05:17.054Z"
   },
   {
    "duration": 88,
    "start_time": "2023-04-15T19:05:17.062Z"
   },
   {
    "duration": 156,
    "start_time": "2023-04-15T19:05:17.153Z"
   },
   {
    "duration": 166,
    "start_time": "2023-04-15T19:05:17.311Z"
   },
   {
    "duration": 66,
    "start_time": "2023-04-15T19:05:17.479Z"
   },
   {
    "duration": 18,
    "start_time": "2023-04-15T19:05:17.547Z"
   },
   {
    "duration": 114,
    "start_time": "2023-04-15T19:05:17.566Z"
   },
   {
    "duration": 495,
    "start_time": "2023-04-15T19:05:17.682Z"
   },
   {
    "duration": 25,
    "start_time": "2023-04-15T19:05:18.187Z"
   },
   {
    "duration": 551,
    "start_time": "2023-04-15T19:05:18.216Z"
   },
   {
    "duration": 18,
    "start_time": "2023-04-15T19:05:18.769Z"
   },
   {
    "duration": 67,
    "start_time": "2023-04-15T19:05:18.796Z"
   },
   {
    "duration": 104,
    "start_time": "2023-04-15T19:05:18.865Z"
   },
   {
    "duration": 72,
    "start_time": "2023-04-15T19:05:18.971Z"
   },
   {
    "duration": 23,
    "start_time": "2023-04-15T19:05:19.045Z"
   },
   {
    "duration": 64,
    "start_time": "2023-04-15T19:05:19.070Z"
   },
   {
    "duration": 22,
    "start_time": "2023-04-15T19:05:19.139Z"
   },
   {
    "duration": 35,
    "start_time": "2023-04-15T19:05:19.163Z"
   },
   {
    "duration": 348,
    "start_time": "2023-04-15T19:05:19.199Z"
   },
   {
    "duration": 74,
    "start_time": "2023-04-15T19:05:19.550Z"
   },
   {
    "duration": 330,
    "start_time": "2023-04-15T19:05:19.627Z"
   },
   {
    "duration": 29,
    "start_time": "2023-04-15T19:05:19.959Z"
   },
   {
    "duration": 56,
    "start_time": "2023-04-15T19:05:19.990Z"
   },
   {
    "duration": 19,
    "start_time": "2023-04-15T19:05:20.048Z"
   },
   {
    "duration": 180,
    "start_time": "2023-04-15T19:05:20.069Z"
   },
   {
    "duration": 20,
    "start_time": "2023-04-15T19:05:20.251Z"
   },
   {
    "duration": 297,
    "start_time": "2023-04-15T19:05:20.285Z"
   },
   {
    "duration": 62,
    "start_time": "2023-04-15T19:05:20.584Z"
   },
   {
    "duration": 19,
    "start_time": "2023-04-15T19:05:20.648Z"
   },
   {
    "duration": 119,
    "start_time": "2023-04-15T19:05:20.669Z"
   },
   {
    "duration": 47,
    "start_time": "2023-04-15T19:05:20.790Z"
   },
   {
    "duration": 28,
    "start_time": "2023-04-15T19:05:20.839Z"
   },
   {
    "duration": 74,
    "start_time": "2023-04-15T19:05:20.869Z"
   },
   {
    "duration": 80,
    "start_time": "2023-04-15T19:05:20.945Z"
   },
   {
    "duration": 105,
    "start_time": "2023-04-15T19:05:21.029Z"
   },
   {
    "duration": 11,
    "start_time": "2023-04-15T19:05:21.135Z"
   },
   {
    "duration": 33,
    "start_time": "2023-04-15T19:05:21.147Z"
   },
   {
    "duration": 100,
    "start_time": "2023-04-15T19:05:21.182Z"
   },
   {
    "duration": 59,
    "start_time": "2023-04-15T19:05:21.295Z"
   },
   {
    "duration": 479,
    "start_time": "2023-04-15T19:05:58.169Z"
   },
   {
    "duration": 309,
    "start_time": "2023-04-15T19:06:03.640Z"
   },
   {
    "duration": 376,
    "start_time": "2023-04-15T19:06:13.034Z"
   },
   {
    "duration": 273,
    "start_time": "2023-04-15T19:09:52.679Z"
   },
   {
    "duration": 332,
    "start_time": "2023-04-15T19:10:02.204Z"
   },
   {
    "duration": 396,
    "start_time": "2023-04-15T19:12:06.911Z"
   },
   {
    "duration": 239,
    "start_time": "2023-04-15T19:41:48.733Z"
   },
   {
    "duration": 207,
    "start_time": "2023-04-15T19:41:59.313Z"
   },
   {
    "duration": 203,
    "start_time": "2023-04-15T19:46:05.254Z"
   },
   {
    "duration": 205,
    "start_time": "2023-04-15T19:46:23.474Z"
   },
   {
    "duration": 247,
    "start_time": "2023-04-15T19:46:31.544Z"
   },
   {
    "duration": 229,
    "start_time": "2023-04-15T19:46:37.599Z"
   },
   {
    "duration": 354,
    "start_time": "2023-04-15T19:47:32.903Z"
   },
   {
    "duration": 254,
    "start_time": "2023-04-15T19:49:52.079Z"
   },
   {
    "duration": 37,
    "start_time": "2023-04-15T19:50:52.620Z"
   },
   {
    "duration": 1331,
    "start_time": "2023-04-16T06:03:25.119Z"
   },
   {
    "duration": 4,
    "start_time": "2023-04-16T06:03:26.451Z"
   },
   {
    "duration": 12,
    "start_time": "2023-04-16T06:03:26.457Z"
   },
   {
    "duration": 10,
    "start_time": "2023-04-16T06:03:26.471Z"
   },
   {
    "duration": 657,
    "start_time": "2023-04-16T06:03:26.483Z"
   },
   {
    "duration": 85,
    "start_time": "2023-04-16T06:03:27.141Z"
   },
   {
    "duration": 65,
    "start_time": "2023-04-16T06:03:27.228Z"
   },
   {
    "duration": 4,
    "start_time": "2023-04-16T06:03:27.295Z"
   },
   {
    "duration": 19,
    "start_time": "2023-04-16T06:03:27.300Z"
   },
   {
    "duration": 135,
    "start_time": "2023-04-16T06:03:27.322Z"
   },
   {
    "duration": 135,
    "start_time": "2023-04-16T06:03:27.459Z"
   },
   {
    "duration": 29,
    "start_time": "2023-04-16T06:03:27.596Z"
   },
   {
    "duration": 22,
    "start_time": "2023-04-16T06:03:27.627Z"
   },
   {
    "duration": 22,
    "start_time": "2023-04-16T06:03:27.651Z"
   },
   {
    "duration": 136,
    "start_time": "2023-04-16T06:03:27.675Z"
   },
   {
    "duration": 23,
    "start_time": "2023-04-16T06:03:27.813Z"
   },
   {
    "duration": 6,
    "start_time": "2023-04-16T06:03:27.848Z"
   },
   {
    "duration": 485,
    "start_time": "2023-04-16T06:03:27.855Z"
   },
   {
    "duration": 10,
    "start_time": "2023-04-16T06:03:28.342Z"
   },
   {
    "duration": 31,
    "start_time": "2023-04-16T06:03:28.354Z"
   },
   {
    "duration": 16,
    "start_time": "2023-04-16T06:03:28.388Z"
   },
   {
    "duration": 54,
    "start_time": "2023-04-16T06:03:28.406Z"
   },
   {
    "duration": 6,
    "start_time": "2023-04-16T06:03:28.462Z"
   },
   {
    "duration": 51,
    "start_time": "2023-04-16T06:03:28.469Z"
   },
   {
    "duration": 18,
    "start_time": "2023-04-16T06:03:28.522Z"
   },
   {
    "duration": 30,
    "start_time": "2023-04-16T06:03:28.541Z"
   },
   {
    "duration": 305,
    "start_time": "2023-04-16T06:03:28.572Z"
   },
   {
    "duration": 52,
    "start_time": "2023-04-16T06:03:28.881Z"
   },
   {
    "duration": 331,
    "start_time": "2023-04-16T06:03:28.935Z"
   },
   {
    "duration": 10,
    "start_time": "2023-04-16T06:03:29.268Z"
   },
   {
    "duration": 10,
    "start_time": "2023-04-16T06:03:29.280Z"
   },
   {
    "duration": 12,
    "start_time": "2023-04-16T06:03:29.292Z"
   },
   {
    "duration": 146,
    "start_time": "2023-04-16T06:03:29.305Z"
   },
   {
    "duration": 14,
    "start_time": "2023-04-16T06:03:29.452Z"
   },
   {
    "duration": 9,
    "start_time": "2023-04-16T06:03:29.467Z"
   },
   {
    "duration": 6,
    "start_time": "2023-04-16T06:03:29.478Z"
   },
   {
    "duration": 4,
    "start_time": "2023-04-16T06:03:29.486Z"
   },
   {
    "duration": 104,
    "start_time": "2023-04-16T06:03:29.492Z"
   },
   {
    "duration": 56,
    "start_time": "2023-04-16T06:03:29.598Z"
   },
   {
    "duration": 7,
    "start_time": "2023-04-16T06:03:29.655Z"
   },
   {
    "duration": 13,
    "start_time": "2023-04-16T06:03:29.663Z"
   },
   {
    "duration": 32,
    "start_time": "2023-04-16T06:03:29.678Z"
   },
   {
    "duration": 56,
    "start_time": "2023-04-16T06:03:29.712Z"
   },
   {
    "duration": 8,
    "start_time": "2023-04-16T06:03:29.770Z"
   },
   {
    "duration": 23,
    "start_time": "2023-04-16T06:03:29.780Z"
   },
   {
    "duration": 52,
    "start_time": "2023-04-16T06:03:29.805Z"
   },
   {
    "duration": 29,
    "start_time": "2023-04-16T06:03:29.858Z"
   },
   {
    "duration": 1430,
    "start_time": "2023-04-17T20:18:10.913Z"
   },
   {
    "duration": 5,
    "start_time": "2023-04-17T20:18:12.346Z"
   },
   {
    "duration": 8,
    "start_time": "2023-04-17T20:18:12.353Z"
   },
   {
    "duration": 21,
    "start_time": "2023-04-17T20:18:12.372Z"
   },
   {
    "duration": 541,
    "start_time": "2023-04-17T20:18:12.395Z"
   },
   {
    "duration": 94,
    "start_time": "2023-04-17T20:18:12.938Z"
   },
   {
    "duration": 66,
    "start_time": "2023-04-17T20:18:13.034Z"
   },
   {
    "duration": 4,
    "start_time": "2023-04-17T20:18:13.102Z"
   },
   {
    "duration": 19,
    "start_time": "2023-04-17T20:18:13.107Z"
   },
   {
    "duration": 139,
    "start_time": "2023-04-17T20:18:13.128Z"
   },
   {
    "duration": 126,
    "start_time": "2023-04-17T20:18:13.271Z"
   },
   {
    "duration": 35,
    "start_time": "2023-04-17T20:18:13.399Z"
   },
   {
    "duration": 6,
    "start_time": "2023-04-17T20:18:13.436Z"
   },
   {
    "duration": 46,
    "start_time": "2023-04-17T20:18:13.443Z"
   },
   {
    "duration": 126,
    "start_time": "2023-04-17T20:18:13.491Z"
   },
   {
    "duration": 20,
    "start_time": "2023-04-17T20:18:13.618Z"
   },
   {
    "duration": 5,
    "start_time": "2023-04-17T20:18:13.640Z"
   },
   {
    "duration": 436,
    "start_time": "2023-04-17T20:18:13.647Z"
   },
   {
    "duration": 10,
    "start_time": "2023-04-17T20:18:14.085Z"
   },
   {
    "duration": 28,
    "start_time": "2023-04-17T20:18:14.096Z"
   },
   {
    "duration": 24,
    "start_time": "2023-04-17T20:18:14.126Z"
   },
   {
    "duration": 52,
    "start_time": "2023-04-17T20:18:14.152Z"
   },
   {
    "duration": 7,
    "start_time": "2023-04-17T20:18:14.205Z"
   },
   {
    "duration": 58,
    "start_time": "2023-04-17T20:18:14.213Z"
   },
   {
    "duration": 24,
    "start_time": "2023-04-17T20:18:14.278Z"
   },
   {
    "duration": 24,
    "start_time": "2023-04-17T20:18:14.303Z"
   },
   {
    "duration": 404,
    "start_time": "2023-04-17T20:18:14.329Z"
   },
   {
    "duration": 67,
    "start_time": "2023-04-17T20:18:14.736Z"
   },
   {
    "duration": 286,
    "start_time": "2023-04-17T20:18:14.805Z"
   },
   {
    "duration": 24,
    "start_time": "2023-04-17T20:18:15.094Z"
   },
   {
    "duration": 11,
    "start_time": "2023-04-17T20:18:15.120Z"
   },
   {
    "duration": 18,
    "start_time": "2023-04-17T20:18:15.133Z"
   },
   {
    "duration": 186,
    "start_time": "2023-04-17T20:18:15.154Z"
   },
   {
    "duration": 19,
    "start_time": "2023-04-17T20:18:15.342Z"
   },
   {
    "duration": 15,
    "start_time": "2023-04-17T20:18:15.363Z"
   },
   {
    "duration": 21,
    "start_time": "2023-04-17T20:18:15.391Z"
   },
   {
    "duration": 7,
    "start_time": "2023-04-17T20:18:15.413Z"
   },
   {
    "duration": 98,
    "start_time": "2023-04-17T20:18:15.422Z"
   },
   {
    "duration": 33,
    "start_time": "2023-04-17T20:18:15.522Z"
   },
   {
    "duration": 19,
    "start_time": "2023-04-17T20:18:15.572Z"
   },
   {
    "duration": 18,
    "start_time": "2023-04-17T20:18:15.592Z"
   },
   {
    "duration": 33,
    "start_time": "2023-04-17T20:18:15.611Z"
   },
   {
    "duration": 69,
    "start_time": "2023-04-17T20:18:15.646Z"
   },
   {
    "duration": 7,
    "start_time": "2023-04-17T20:18:15.717Z"
   },
   {
    "duration": 14,
    "start_time": "2023-04-17T20:18:15.725Z"
   },
   {
    "duration": 49,
    "start_time": "2023-04-17T20:18:15.740Z"
   },
   {
    "duration": 45,
    "start_time": "2023-04-17T20:18:15.791Z"
   },
   {
    "duration": 1136,
    "start_time": "2023-04-17T20:20:40.551Z"
   },
   {
    "duration": 4,
    "start_time": "2023-04-17T20:20:41.688Z"
   },
   {
    "duration": 18,
    "start_time": "2023-04-17T20:20:41.693Z"
   },
   {
    "duration": 18,
    "start_time": "2023-04-17T20:20:41.713Z"
   },
   {
    "duration": 182,
    "start_time": "2023-04-17T20:20:41.732Z"
   },
   {
    "duration": 89,
    "start_time": "2023-04-17T20:20:41.916Z"
   },
   {
    "duration": 69,
    "start_time": "2023-04-17T20:20:42.007Z"
   },
   {
    "duration": 4,
    "start_time": "2023-04-17T20:20:42.078Z"
   },
   {
    "duration": 28,
    "start_time": "2023-04-17T20:20:42.083Z"
   },
   {
    "duration": 132,
    "start_time": "2023-04-17T20:20:42.114Z"
   },
   {
    "duration": 132,
    "start_time": "2023-04-17T20:20:42.248Z"
   },
   {
    "duration": 28,
    "start_time": "2023-04-17T20:20:42.381Z"
   },
   {
    "duration": 6,
    "start_time": "2023-04-17T20:20:42.411Z"
   },
   {
    "duration": 16,
    "start_time": "2023-04-17T20:20:42.419Z"
   },
   {
    "duration": 137,
    "start_time": "2023-04-17T20:20:42.437Z"
   },
   {
    "duration": 33,
    "start_time": "2023-04-17T20:20:42.577Z"
   },
   {
    "duration": 6,
    "start_time": "2023-04-17T20:20:42.612Z"
   },
   {
    "duration": 428,
    "start_time": "2023-04-17T20:20:42.619Z"
   },
   {
    "duration": 9,
    "start_time": "2023-04-17T20:20:43.049Z"
   },
   {
    "duration": 395,
    "start_time": "2023-04-17T20:20:43.059Z"
   },
   {
    "duration": 18,
    "start_time": "2023-04-17T20:20:43.456Z"
   },
   {
    "duration": 36,
    "start_time": "2023-04-17T20:20:43.475Z"
   },
   {
    "duration": 7,
    "start_time": "2023-04-17T20:20:43.513Z"
   },
   {
    "duration": 53,
    "start_time": "2023-04-17T20:20:43.522Z"
   },
   {
    "duration": 20,
    "start_time": "2023-04-17T20:20:43.576Z"
   },
   {
    "duration": 42,
    "start_time": "2023-04-17T20:20:43.598Z"
   },
   {
    "duration": 320,
    "start_time": "2023-04-17T20:20:43.642Z"
   },
   {
    "duration": 53,
    "start_time": "2023-04-17T20:20:43.973Z"
   },
   {
    "duration": 320,
    "start_time": "2023-04-17T20:20:44.028Z"
   },
   {
    "duration": 11,
    "start_time": "2023-04-17T20:20:44.349Z"
   },
   {
    "duration": 49,
    "start_time": "2023-04-17T20:20:44.372Z"
   },
   {
    "duration": 12,
    "start_time": "2023-04-17T20:20:44.429Z"
   },
   {
    "duration": 136,
    "start_time": "2023-04-17T20:20:44.445Z"
   },
   {
    "duration": 16,
    "start_time": "2023-04-17T20:20:44.583Z"
   },
   {
    "duration": 9,
    "start_time": "2023-04-17T20:20:44.601Z"
   },
   {
    "duration": 26,
    "start_time": "2023-04-17T20:20:44.611Z"
   },
   {
    "duration": 10,
    "start_time": "2023-04-17T20:20:44.639Z"
   },
   {
    "duration": 87,
    "start_time": "2023-04-17T20:20:44.651Z"
   },
   {
    "duration": 43,
    "start_time": "2023-04-17T20:20:44.740Z"
   },
   {
    "duration": 7,
    "start_time": "2023-04-17T20:20:44.785Z"
   },
   {
    "duration": 18,
    "start_time": "2023-04-17T20:20:44.794Z"
   },
   {
    "duration": 32,
    "start_time": "2023-04-17T20:20:44.813Z"
   },
   {
    "duration": 64,
    "start_time": "2023-04-17T20:20:44.846Z"
   },
   {
    "duration": 8,
    "start_time": "2023-04-17T20:20:44.912Z"
   },
   {
    "duration": 13,
    "start_time": "2023-04-17T20:20:44.921Z"
   },
   {
    "duration": 37,
    "start_time": "2023-04-17T20:20:44.936Z"
   },
   {
    "duration": 30,
    "start_time": "2023-04-17T20:20:44.974Z"
   },
   {
    "duration": 323,
    "start_time": "2023-04-17T20:31:01.713Z"
   },
   {
    "duration": 302,
    "start_time": "2023-04-17T20:31:08.882Z"
   },
   {
    "duration": 407,
    "start_time": "2023-04-17T20:31:22.834Z"
   },
   {
    "duration": 1450,
    "start_time": "2023-04-17T20:31:49.642Z"
   },
   {
    "duration": 4,
    "start_time": "2023-04-17T20:31:51.094Z"
   },
   {
    "duration": 14,
    "start_time": "2023-04-17T20:31:51.099Z"
   },
   {
    "duration": 15,
    "start_time": "2023-04-17T20:31:51.114Z"
   },
   {
    "duration": 208,
    "start_time": "2023-04-17T20:31:51.131Z"
   },
   {
    "duration": 85,
    "start_time": "2023-04-17T20:31:51.341Z"
   },
   {
    "duration": 58,
    "start_time": "2023-04-17T20:31:51.428Z"
   },
   {
    "duration": 4,
    "start_time": "2023-04-17T20:31:51.488Z"
   },
   {
    "duration": 25,
    "start_time": "2023-04-17T20:31:51.493Z"
   },
   {
    "duration": 117,
    "start_time": "2023-04-17T20:31:51.519Z"
   },
   {
    "duration": 105,
    "start_time": "2023-04-17T20:31:51.638Z"
   },
   {
    "duration": 35,
    "start_time": "2023-04-17T20:31:51.744Z"
   },
   {
    "duration": 5,
    "start_time": "2023-04-17T20:31:51.781Z"
   },
   {
    "duration": 15,
    "start_time": "2023-04-17T20:31:51.789Z"
   },
   {
    "duration": 117,
    "start_time": "2023-04-17T20:31:51.805Z"
   },
   {
    "duration": 18,
    "start_time": "2023-04-17T20:31:51.924Z"
   },
   {
    "duration": 5,
    "start_time": "2023-04-17T20:31:51.944Z"
   },
   {
    "duration": 463,
    "start_time": "2023-04-17T20:31:51.950Z"
   },
   {
    "duration": 8,
    "start_time": "2023-04-17T20:31:52.415Z"
   },
   {
    "duration": 31,
    "start_time": "2023-04-17T20:31:52.424Z"
   },
   {
    "duration": 32,
    "start_time": "2023-04-17T20:31:52.456Z"
   },
   {
    "duration": 35,
    "start_time": "2023-04-17T20:31:52.490Z"
   },
   {
    "duration": 7,
    "start_time": "2023-04-17T20:31:52.527Z"
   },
   {
    "duration": 58,
    "start_time": "2023-04-17T20:31:52.536Z"
   },
   {
    "duration": 23,
    "start_time": "2023-04-17T20:31:52.596Z"
   },
   {
    "duration": 21,
    "start_time": "2023-04-17T20:31:52.620Z"
   },
   {
    "duration": 331,
    "start_time": "2023-04-17T20:31:52.643Z"
   },
   {
    "duration": 54,
    "start_time": "2023-04-17T20:31:52.975Z"
   },
   {
    "duration": 322,
    "start_time": "2023-04-17T20:31:53.031Z"
   },
   {
    "duration": 17,
    "start_time": "2023-04-17T20:31:53.355Z"
   },
   {
    "duration": 8,
    "start_time": "2023-04-17T20:31:53.373Z"
   },
   {
    "duration": 12,
    "start_time": "2023-04-17T20:31:53.382Z"
   },
   {
    "duration": 122,
    "start_time": "2023-04-17T20:31:53.395Z"
   },
   {
    "duration": 13,
    "start_time": "2023-04-17T20:31:53.519Z"
   },
   {
    "duration": 8,
    "start_time": "2023-04-17T20:31:53.533Z"
   },
   {
    "duration": 5,
    "start_time": "2023-04-17T20:31:53.542Z"
   },
   {
    "duration": 52,
    "start_time": "2023-04-17T20:31:53.548Z"
   },
   {
    "duration": 78,
    "start_time": "2023-04-17T20:31:53.601Z"
   },
   {
    "duration": 34,
    "start_time": "2023-04-17T20:31:53.681Z"
   },
   {
    "duration": 6,
    "start_time": "2023-04-17T20:31:53.716Z"
   },
   {
    "duration": 10,
    "start_time": "2023-04-17T20:31:53.726Z"
   },
   {
    "duration": 53,
    "start_time": "2023-04-17T20:31:53.737Z"
   },
   {
    "duration": 30,
    "start_time": "2023-04-17T20:31:53.792Z"
   },
   {
    "duration": 7,
    "start_time": "2023-04-17T20:31:53.823Z"
   },
   {
    "duration": 42,
    "start_time": "2023-04-17T20:31:53.831Z"
   },
   {
    "duration": 31,
    "start_time": "2023-04-17T20:31:53.874Z"
   },
   {
    "duration": 29,
    "start_time": "2023-04-17T20:31:53.907Z"
   },
   {
    "duration": 332,
    "start_time": "2023-04-17T20:32:20.276Z"
   },
   {
    "duration": 2084,
    "start_time": "2023-04-17T20:32:25.594Z"
   },
   {
    "duration": 4,
    "start_time": "2023-04-17T20:32:27.679Z"
   },
   {
    "duration": 8,
    "start_time": "2023-04-17T20:32:27.685Z"
   },
   {
    "duration": 12,
    "start_time": "2023-04-17T20:32:27.695Z"
   },
   {
    "duration": 145,
    "start_time": "2023-04-17T20:32:27.708Z"
   },
   {
    "duration": 79,
    "start_time": "2023-04-17T20:32:27.855Z"
   },
   {
    "duration": 64,
    "start_time": "2023-04-17T20:32:27.936Z"
   },
   {
    "duration": 4,
    "start_time": "2023-04-17T20:32:28.001Z"
   },
   {
    "duration": 17,
    "start_time": "2023-04-17T20:32:28.006Z"
   },
   {
    "duration": 128,
    "start_time": "2023-04-17T20:32:28.025Z"
   },
   {
    "duration": 128,
    "start_time": "2023-04-17T20:32:28.154Z"
   },
   {
    "duration": 34,
    "start_time": "2023-04-17T20:32:28.284Z"
   },
   {
    "duration": 9,
    "start_time": "2023-04-17T20:32:28.320Z"
   },
   {
    "duration": 17,
    "start_time": "2023-04-17T20:32:28.330Z"
   },
   {
    "duration": 131,
    "start_time": "2023-04-17T20:32:28.372Z"
   },
   {
    "duration": 19,
    "start_time": "2023-04-17T20:32:28.505Z"
   },
   {
    "duration": 4,
    "start_time": "2023-04-17T20:32:28.526Z"
   },
   {
    "duration": 425,
    "start_time": "2023-04-17T20:32:28.532Z"
   },
   {
    "duration": 13,
    "start_time": "2023-04-17T20:32:28.959Z"
   },
   {
    "duration": 26,
    "start_time": "2023-04-17T20:32:28.973Z"
   },
   {
    "duration": 19,
    "start_time": "2023-04-17T20:32:29.000Z"
   },
   {
    "duration": 52,
    "start_time": "2023-04-17T20:32:29.021Z"
   },
   {
    "duration": 7,
    "start_time": "2023-04-17T20:32:29.074Z"
   },
   {
    "duration": 38,
    "start_time": "2023-04-17T20:32:29.082Z"
   },
   {
    "duration": 16,
    "start_time": "2023-04-17T20:32:29.122Z"
   },
   {
    "duration": 39,
    "start_time": "2023-04-17T20:32:29.139Z"
   },
   {
    "duration": 278,
    "start_time": "2023-04-17T20:32:29.180Z"
   },
   {
    "duration": 53,
    "start_time": "2023-04-17T20:32:29.461Z"
   },
   {
    "duration": 257,
    "start_time": "2023-04-17T20:32:29.515Z"
   },
   {
    "duration": 11,
    "start_time": "2023-04-17T20:32:29.773Z"
   },
   {
    "duration": 7,
    "start_time": "2023-04-17T20:32:29.786Z"
   },
   {
    "duration": 13,
    "start_time": "2023-04-17T20:32:29.794Z"
   },
   {
    "duration": 129,
    "start_time": "2023-04-17T20:32:29.808Z"
   },
   {
    "duration": 17,
    "start_time": "2023-04-17T20:32:29.938Z"
   },
   {
    "duration": 19,
    "start_time": "2023-04-17T20:32:29.956Z"
   },
   {
    "duration": 5,
    "start_time": "2023-04-17T20:32:29.977Z"
   },
   {
    "duration": 4,
    "start_time": "2023-04-17T20:32:29.984Z"
   },
   {
    "duration": 105,
    "start_time": "2023-04-17T20:32:29.990Z"
   },
   {
    "duration": 30,
    "start_time": "2023-04-17T20:32:30.096Z"
   },
   {
    "duration": 6,
    "start_time": "2023-04-17T20:32:30.127Z"
   },
   {
    "duration": 20,
    "start_time": "2023-04-17T20:32:30.134Z"
   },
   {
    "duration": 48,
    "start_time": "2023-04-17T20:32:30.156Z"
   },
   {
    "duration": 61,
    "start_time": "2023-04-17T20:32:30.206Z"
   },
   {
    "duration": 17,
    "start_time": "2023-04-17T20:32:30.268Z"
   },
   {
    "duration": 49,
    "start_time": "2023-04-17T20:32:30.287Z"
   },
   {
    "duration": 69,
    "start_time": "2023-04-17T20:32:30.338Z"
   },
   {
    "duration": 47,
    "start_time": "2023-04-17T20:32:30.409Z"
   },
   {
    "duration": 1256,
    "start_time": "2023-04-17T20:33:22.697Z"
   },
   {
    "duration": 4,
    "start_time": "2023-04-17T20:33:23.955Z"
   },
   {
    "duration": 12,
    "start_time": "2023-04-17T20:33:23.960Z"
   },
   {
    "duration": 16,
    "start_time": "2023-04-17T20:33:23.973Z"
   },
   {
    "duration": 150,
    "start_time": "2023-04-17T20:33:23.991Z"
   },
   {
    "duration": 91,
    "start_time": "2023-04-17T20:33:24.143Z"
   },
   {
    "duration": 64,
    "start_time": "2023-04-17T20:33:24.235Z"
   },
   {
    "duration": 4,
    "start_time": "2023-04-17T20:33:24.300Z"
   },
   {
    "duration": 35,
    "start_time": "2023-04-17T20:33:24.306Z"
   },
   {
    "duration": 116,
    "start_time": "2023-04-17T20:33:24.343Z"
   },
   {
    "duration": 99,
    "start_time": "2023-04-17T20:33:24.460Z"
   },
   {
    "duration": 35,
    "start_time": "2023-04-17T20:33:24.560Z"
   },
   {
    "duration": 5,
    "start_time": "2023-04-17T20:33:24.597Z"
   },
   {
    "duration": 33,
    "start_time": "2023-04-17T20:33:24.605Z"
   },
   {
    "duration": 106,
    "start_time": "2023-04-17T20:33:24.639Z"
   },
   {
    "duration": 17,
    "start_time": "2023-04-17T20:33:24.747Z"
   },
   {
    "duration": 4,
    "start_time": "2023-04-17T20:33:24.771Z"
   },
   {
    "duration": 437,
    "start_time": "2023-04-17T20:33:24.777Z"
   },
   {
    "duration": 6,
    "start_time": "2023-04-17T20:33:25.216Z"
   },
   {
    "duration": 32,
    "start_time": "2023-04-17T20:33:25.224Z"
   },
   {
    "duration": 26,
    "start_time": "2023-04-17T20:33:25.257Z"
   },
   {
    "duration": 42,
    "start_time": "2023-04-17T20:33:25.285Z"
   },
   {
    "duration": 6,
    "start_time": "2023-04-17T20:33:25.329Z"
   },
   {
    "duration": 44,
    "start_time": "2023-04-17T20:33:25.337Z"
   },
   {
    "duration": 17,
    "start_time": "2023-04-17T20:33:25.382Z"
   },
   {
    "duration": 28,
    "start_time": "2023-04-17T20:33:25.400Z"
   },
   {
    "duration": 307,
    "start_time": "2023-04-17T20:33:25.429Z"
   },
   {
    "duration": 62,
    "start_time": "2023-04-17T20:33:25.737Z"
   },
   {
    "duration": 287,
    "start_time": "2023-04-17T20:33:25.801Z"
   },
   {
    "duration": 15,
    "start_time": "2023-04-17T20:33:26.089Z"
   },
   {
    "duration": 21,
    "start_time": "2023-04-17T20:33:26.106Z"
   },
   {
    "duration": 29,
    "start_time": "2023-04-17T20:33:26.130Z"
   },
   {
    "duration": 124,
    "start_time": "2023-04-17T20:33:26.160Z"
   },
   {
    "duration": 14,
    "start_time": "2023-04-17T20:33:26.285Z"
   },
   {
    "duration": 13,
    "start_time": "2023-04-17T20:33:26.300Z"
   },
   {
    "duration": 10,
    "start_time": "2023-04-17T20:33:26.315Z"
   },
   {
    "duration": 4,
    "start_time": "2023-04-17T20:33:26.327Z"
   },
   {
    "duration": 91,
    "start_time": "2023-04-17T20:33:26.332Z"
   },
   {
    "duration": 29,
    "start_time": "2023-04-17T20:33:26.424Z"
   },
   {
    "duration": 20,
    "start_time": "2023-04-17T20:33:26.455Z"
   },
   {
    "duration": 20,
    "start_time": "2023-04-17T20:33:26.479Z"
   },
   {
    "duration": 32,
    "start_time": "2023-04-17T20:33:26.501Z"
   },
   {
    "duration": 50,
    "start_time": "2023-04-17T20:33:26.535Z"
   },
   {
    "duration": 7,
    "start_time": "2023-04-17T20:33:26.587Z"
   },
   {
    "duration": 15,
    "start_time": "2023-04-17T20:33:26.596Z"
   },
   {
    "duration": 45,
    "start_time": "2023-04-17T20:33:26.612Z"
   },
   {
    "duration": 37,
    "start_time": "2023-04-17T20:33:26.659Z"
   },
   {
    "duration": 1080,
    "start_time": "2023-04-17T20:33:43.902Z"
   },
   {
    "duration": 3,
    "start_time": "2023-04-17T20:33:44.984Z"
   },
   {
    "duration": 8,
    "start_time": "2023-04-17T20:33:44.989Z"
   },
   {
    "duration": 40,
    "start_time": "2023-04-17T20:33:44.999Z"
   },
   {
    "duration": 199,
    "start_time": "2023-04-17T20:33:45.040Z"
   },
   {
    "duration": 89,
    "start_time": "2023-04-17T20:33:45.241Z"
   },
   {
    "duration": 63,
    "start_time": "2023-04-17T20:33:45.331Z"
   },
   {
    "duration": 4,
    "start_time": "2023-04-17T20:33:45.395Z"
   },
   {
    "duration": 31,
    "start_time": "2023-04-17T20:33:45.400Z"
   },
   {
    "duration": 114,
    "start_time": "2023-04-17T20:33:45.433Z"
   },
   {
    "duration": 105,
    "start_time": "2023-04-17T20:33:45.548Z"
   },
   {
    "duration": 37,
    "start_time": "2023-04-17T20:33:45.654Z"
   },
   {
    "duration": 6,
    "start_time": "2023-04-17T20:33:45.693Z"
   },
   {
    "duration": 25,
    "start_time": "2023-04-17T20:33:45.700Z"
   },
   {
    "duration": 118,
    "start_time": "2023-04-17T20:33:45.727Z"
   },
   {
    "duration": 18,
    "start_time": "2023-04-17T20:33:45.846Z"
   },
   {
    "duration": 9,
    "start_time": "2023-04-17T20:33:45.865Z"
   },
   {
    "duration": 437,
    "start_time": "2023-04-17T20:33:45.875Z"
   },
   {
    "duration": 7,
    "start_time": "2023-04-17T20:33:46.313Z"
   },
   {
    "duration": 51,
    "start_time": "2023-04-17T20:33:46.322Z"
   },
   {
    "duration": 16,
    "start_time": "2023-04-17T20:33:46.374Z"
   },
   {
    "duration": 33,
    "start_time": "2023-04-17T20:33:46.392Z"
   },
   {
    "duration": 5,
    "start_time": "2023-04-17T20:33:46.427Z"
   },
   {
    "duration": 60,
    "start_time": "2023-04-17T20:33:46.434Z"
   },
   {
    "duration": 21,
    "start_time": "2023-04-17T20:33:46.496Z"
   },
   {
    "duration": 38,
    "start_time": "2023-04-17T20:33:46.519Z"
   },
   {
    "duration": 313,
    "start_time": "2023-04-17T20:33:46.559Z"
   },
   {
    "duration": 50,
    "start_time": "2023-04-17T20:33:46.875Z"
   },
   {
    "duration": 275,
    "start_time": "2023-04-17T20:33:46.926Z"
   },
   {
    "duration": 11,
    "start_time": "2023-04-17T20:33:47.203Z"
   },
   {
    "duration": 6,
    "start_time": "2023-04-17T20:33:47.216Z"
   },
   {
    "duration": 12,
    "start_time": "2023-04-17T20:33:47.223Z"
   },
   {
    "duration": 129,
    "start_time": "2023-04-17T20:33:47.236Z"
   },
   {
    "duration": 13,
    "start_time": "2023-04-17T20:33:47.372Z"
   },
   {
    "duration": 8,
    "start_time": "2023-04-17T20:33:47.387Z"
   },
   {
    "duration": 7,
    "start_time": "2023-04-17T20:33:47.396Z"
   },
   {
    "duration": 4,
    "start_time": "2023-04-17T20:33:47.405Z"
   },
   {
    "duration": 94,
    "start_time": "2023-04-17T20:33:47.410Z"
   },
   {
    "duration": 32,
    "start_time": "2023-04-17T20:33:47.506Z"
   },
   {
    "duration": 6,
    "start_time": "2023-04-17T20:33:47.539Z"
   },
   {
    "duration": 31,
    "start_time": "2023-04-17T20:33:47.547Z"
   },
   {
    "duration": 29,
    "start_time": "2023-04-17T20:33:47.579Z"
   },
   {
    "duration": 27,
    "start_time": "2023-04-17T20:33:47.610Z"
   },
   {
    "duration": 12,
    "start_time": "2023-04-17T20:33:47.639Z"
   },
   {
    "duration": 28,
    "start_time": "2023-04-17T20:33:47.653Z"
   },
   {
    "duration": 31,
    "start_time": "2023-04-17T20:33:47.682Z"
   },
   {
    "duration": 34,
    "start_time": "2023-04-17T20:33:47.715Z"
   },
   {
    "duration": 1149,
    "start_time": "2023-04-17T20:34:13.353Z"
   },
   {
    "duration": 4,
    "start_time": "2023-04-17T20:34:14.503Z"
   },
   {
    "duration": 7,
    "start_time": "2023-04-17T20:34:14.509Z"
   },
   {
    "duration": 12,
    "start_time": "2023-04-17T20:34:14.518Z"
   },
   {
    "duration": 152,
    "start_time": "2023-04-17T20:34:14.532Z"
   },
   {
    "duration": 91,
    "start_time": "2023-04-17T20:34:14.685Z"
   },
   {
    "duration": 55,
    "start_time": "2023-04-17T20:34:14.778Z"
   },
   {
    "duration": 3,
    "start_time": "2023-04-17T20:34:14.835Z"
   },
   {
    "duration": 33,
    "start_time": "2023-04-17T20:34:14.839Z"
   },
   {
    "duration": 119,
    "start_time": "2023-04-17T20:34:14.875Z"
   },
   {
    "duration": 117,
    "start_time": "2023-04-17T20:34:14.996Z"
   },
   {
    "duration": 29,
    "start_time": "2023-04-17T20:34:15.115Z"
   },
   {
    "duration": 6,
    "start_time": "2023-04-17T20:34:15.145Z"
   },
   {
    "duration": 33,
    "start_time": "2023-04-17T20:34:15.153Z"
   },
   {
    "duration": 119,
    "start_time": "2023-04-17T20:34:15.187Z"
   },
   {
    "duration": 20,
    "start_time": "2023-04-17T20:34:15.308Z"
   },
   {
    "duration": 6,
    "start_time": "2023-04-17T20:34:15.329Z"
   },
   {
    "duration": 425,
    "start_time": "2023-04-17T20:34:15.336Z"
   },
   {
    "duration": 14,
    "start_time": "2023-04-17T20:34:15.763Z"
   },
   {
    "duration": 26,
    "start_time": "2023-04-17T20:34:15.778Z"
   },
   {
    "duration": 16,
    "start_time": "2023-04-17T20:34:15.806Z"
   },
   {
    "duration": 53,
    "start_time": "2023-04-17T20:34:15.824Z"
   },
   {
    "duration": 7,
    "start_time": "2023-04-17T20:34:15.878Z"
   },
   {
    "duration": 35,
    "start_time": "2023-04-17T20:34:15.886Z"
   },
   {
    "duration": 18,
    "start_time": "2023-04-17T20:34:15.923Z"
   },
   {
    "duration": 46,
    "start_time": "2023-04-17T20:34:15.942Z"
   },
   {
    "duration": 309,
    "start_time": "2023-04-17T20:34:15.991Z"
   },
   {
    "duration": 55,
    "start_time": "2023-04-17T20:34:16.303Z"
   },
   {
    "duration": 342,
    "start_time": "2023-04-17T20:34:16.360Z"
   },
   {
    "duration": 12,
    "start_time": "2023-04-17T20:34:16.703Z"
   },
   {
    "duration": 7,
    "start_time": "2023-04-17T20:34:16.717Z"
   },
   {
    "duration": 14,
    "start_time": "2023-04-17T20:34:16.726Z"
   },
   {
    "duration": 149,
    "start_time": "2023-04-17T20:34:16.742Z"
   },
   {
    "duration": 16,
    "start_time": "2023-04-17T20:34:16.892Z"
   },
   {
    "duration": 10,
    "start_time": "2023-04-17T20:34:16.909Z"
   },
   {
    "duration": 7,
    "start_time": "2023-04-17T20:34:16.921Z"
   },
   {
    "duration": 7,
    "start_time": "2023-04-17T20:34:16.929Z"
   },
   {
    "duration": 107,
    "start_time": "2023-04-17T20:34:16.938Z"
   },
   {
    "duration": 53,
    "start_time": "2023-04-17T20:34:17.047Z"
   },
   {
    "duration": 11,
    "start_time": "2023-04-17T20:34:17.102Z"
   },
   {
    "duration": 25,
    "start_time": "2023-04-17T20:34:17.115Z"
   },
   {
    "duration": 53,
    "start_time": "2023-04-17T20:34:17.142Z"
   },
   {
    "duration": 33,
    "start_time": "2023-04-17T20:34:17.197Z"
   },
   {
    "duration": 7,
    "start_time": "2023-04-17T20:34:17.232Z"
   },
   {
    "duration": 44,
    "start_time": "2023-04-17T20:34:17.240Z"
   },
   {
    "duration": 34,
    "start_time": "2023-04-17T20:34:17.285Z"
   },
   {
    "duration": 30,
    "start_time": "2023-04-17T20:34:17.321Z"
   },
   {
    "duration": 1375,
    "start_time": "2023-04-17T20:35:23.431Z"
   },
   {
    "duration": 4,
    "start_time": "2023-04-17T20:35:24.807Z"
   },
   {
    "duration": 8,
    "start_time": "2023-04-17T20:35:24.812Z"
   },
   {
    "duration": 13,
    "start_time": "2023-04-17T20:35:24.822Z"
   },
   {
    "duration": 167,
    "start_time": "2023-04-17T20:35:24.836Z"
   },
   {
    "duration": 94,
    "start_time": "2023-04-17T20:35:25.004Z"
   },
   {
    "duration": 58,
    "start_time": "2023-04-17T20:35:25.100Z"
   },
   {
    "duration": 4,
    "start_time": "2023-04-17T20:35:25.171Z"
   },
   {
    "duration": 21,
    "start_time": "2023-04-17T20:35:25.177Z"
   },
   {
    "duration": 130,
    "start_time": "2023-04-17T20:35:25.201Z"
   },
   {
    "duration": 107,
    "start_time": "2023-04-17T20:35:25.332Z"
   },
   {
    "duration": 37,
    "start_time": "2023-04-17T20:35:25.440Z"
   },
   {
    "duration": 6,
    "start_time": "2023-04-17T20:35:25.478Z"
   },
   {
    "duration": 26,
    "start_time": "2023-04-17T20:35:25.485Z"
   },
   {
    "duration": 124,
    "start_time": "2023-04-17T20:35:25.512Z"
   },
   {
    "duration": 20,
    "start_time": "2023-04-17T20:35:25.638Z"
   },
   {
    "duration": 13,
    "start_time": "2023-04-17T20:35:25.659Z"
   },
   {
    "duration": 467,
    "start_time": "2023-04-17T20:35:25.673Z"
   },
   {
    "duration": 9,
    "start_time": "2023-04-17T20:35:26.142Z"
   },
   {
    "duration": 40,
    "start_time": "2023-04-17T20:35:26.153Z"
   },
   {
    "duration": 18,
    "start_time": "2023-04-17T20:35:26.195Z"
   },
   {
    "duration": 42,
    "start_time": "2023-04-17T20:35:26.215Z"
   },
   {
    "duration": 17,
    "start_time": "2023-04-17T20:35:26.259Z"
   },
   {
    "duration": 52,
    "start_time": "2023-04-17T20:35:26.278Z"
   },
   {
    "duration": 18,
    "start_time": "2023-04-17T20:35:26.332Z"
   },
   {
    "duration": 32,
    "start_time": "2023-04-17T20:35:26.351Z"
   },
   {
    "duration": 278,
    "start_time": "2023-04-17T20:35:26.385Z"
   },
   {
    "duration": 57,
    "start_time": "2023-04-17T20:35:26.671Z"
   },
   {
    "duration": 318,
    "start_time": "2023-04-17T20:35:26.730Z"
   },
   {
    "duration": 12,
    "start_time": "2023-04-17T20:35:27.049Z"
   },
   {
    "duration": 26,
    "start_time": "2023-04-17T20:35:27.062Z"
   },
   {
    "duration": 27,
    "start_time": "2023-04-17T20:35:27.090Z"
   },
   {
    "duration": 123,
    "start_time": "2023-04-17T20:35:27.119Z"
   },
   {
    "duration": 13,
    "start_time": "2023-04-17T20:35:27.244Z"
   },
   {
    "duration": 14,
    "start_time": "2023-04-17T20:35:27.271Z"
   },
   {
    "duration": 23,
    "start_time": "2023-04-17T20:35:27.287Z"
   },
   {
    "duration": 25,
    "start_time": "2023-04-17T20:35:27.311Z"
   },
   {
    "duration": 86,
    "start_time": "2023-04-17T20:35:27.338Z"
   },
   {
    "duration": 33,
    "start_time": "2023-04-17T20:35:27.425Z"
   },
   {
    "duration": 16,
    "start_time": "2023-04-17T20:35:27.460Z"
   },
   {
    "duration": 29,
    "start_time": "2023-04-17T20:35:27.478Z"
   },
   {
    "duration": 30,
    "start_time": "2023-04-17T20:35:27.508Z"
   },
   {
    "duration": 43,
    "start_time": "2023-04-17T20:35:27.540Z"
   },
   {
    "duration": 7,
    "start_time": "2023-04-17T20:35:27.584Z"
   },
   {
    "duration": 16,
    "start_time": "2023-04-17T20:35:27.592Z"
   },
   {
    "duration": 40,
    "start_time": "2023-04-17T20:35:27.609Z"
   },
   {
    "duration": 34,
    "start_time": "2023-04-17T20:35:27.651Z"
   },
   {
    "duration": 1042,
    "start_time": "2023-04-17T20:35:50.919Z"
   },
   {
    "duration": 9,
    "start_time": "2023-04-17T20:35:51.963Z"
   },
   {
    "duration": 18,
    "start_time": "2023-04-17T20:35:51.974Z"
   },
   {
    "duration": 11,
    "start_time": "2023-04-17T20:35:51.994Z"
   },
   {
    "duration": 150,
    "start_time": "2023-04-17T20:35:52.007Z"
   },
   {
    "duration": 80,
    "start_time": "2023-04-17T20:35:52.158Z"
   },
   {
    "duration": 63,
    "start_time": "2023-04-17T20:35:52.240Z"
   },
   {
    "duration": 4,
    "start_time": "2023-04-17T20:35:52.304Z"
   },
   {
    "duration": 17,
    "start_time": "2023-04-17T20:35:52.310Z"
   },
   {
    "duration": 128,
    "start_time": "2023-04-17T20:35:52.328Z"
   },
   {
    "duration": 100,
    "start_time": "2023-04-17T20:35:52.457Z"
   },
   {
    "duration": 38,
    "start_time": "2023-04-17T20:35:52.558Z"
   },
   {
    "duration": 7,
    "start_time": "2023-04-17T20:35:52.597Z"
   },
   {
    "duration": 20,
    "start_time": "2023-04-17T20:35:52.607Z"
   },
   {
    "duration": 113,
    "start_time": "2023-04-17T20:35:52.629Z"
   },
   {
    "duration": 30,
    "start_time": "2023-04-17T20:35:52.743Z"
   },
   {
    "duration": 6,
    "start_time": "2023-04-17T20:35:52.774Z"
   },
   {
    "duration": 461,
    "start_time": "2023-04-17T20:35:52.781Z"
   },
   {
    "duration": 8,
    "start_time": "2023-04-17T20:35:53.243Z"
   },
   {
    "duration": 39,
    "start_time": "2023-04-17T20:35:53.253Z"
   },
   {
    "duration": 16,
    "start_time": "2023-04-17T20:35:53.294Z"
   },
   {
    "duration": 34,
    "start_time": "2023-04-17T20:35:53.312Z"
   },
   {
    "duration": 29,
    "start_time": "2023-04-17T20:35:53.348Z"
   },
   {
    "duration": 34,
    "start_time": "2023-04-17T20:35:53.378Z"
   },
   {
    "duration": 17,
    "start_time": "2023-04-17T20:35:53.414Z"
   },
   {
    "duration": 41,
    "start_time": "2023-04-17T20:35:53.433Z"
   },
   {
    "duration": 288,
    "start_time": "2023-04-17T20:35:53.476Z"
   },
   {
    "duration": 52,
    "start_time": "2023-04-17T20:35:53.765Z"
   },
   {
    "duration": 260,
    "start_time": "2023-04-17T20:35:53.819Z"
   },
   {
    "duration": 11,
    "start_time": "2023-04-17T20:35:54.081Z"
   },
   {
    "duration": 7,
    "start_time": "2023-04-17T20:35:54.094Z"
   },
   {
    "duration": 13,
    "start_time": "2023-04-17T20:35:54.102Z"
   },
   {
    "duration": 134,
    "start_time": "2023-04-17T20:35:54.116Z"
   },
   {
    "duration": 22,
    "start_time": "2023-04-17T20:35:54.251Z"
   },
   {
    "duration": 14,
    "start_time": "2023-04-17T20:35:54.275Z"
   },
   {
    "duration": 13,
    "start_time": "2023-04-17T20:35:54.290Z"
   },
   {
    "duration": 12,
    "start_time": "2023-04-17T20:35:54.305Z"
   },
   {
    "duration": 87,
    "start_time": "2023-04-17T20:35:54.319Z"
   },
   {
    "duration": 30,
    "start_time": "2023-04-17T20:35:54.408Z"
   },
   {
    "duration": 6,
    "start_time": "2023-04-17T20:35:54.440Z"
   },
   {
    "duration": 26,
    "start_time": "2023-04-17T20:35:54.449Z"
   },
   {
    "duration": 35,
    "start_time": "2023-04-17T20:35:54.476Z"
   },
   {
    "duration": 49,
    "start_time": "2023-04-17T20:35:54.512Z"
   },
   {
    "duration": 13,
    "start_time": "2023-04-17T20:35:54.562Z"
   },
   {
    "duration": 25,
    "start_time": "2023-04-17T20:35:54.576Z"
   },
   {
    "duration": 34,
    "start_time": "2023-04-17T20:35:54.602Z"
   },
   {
    "duration": 43,
    "start_time": "2023-04-17T20:35:54.637Z"
   },
   {
    "duration": 283,
    "start_time": "2023-04-17T20:38:20.676Z"
   },
   {
    "duration": 1310,
    "start_time": "2023-04-17T20:38:25.416Z"
   },
   {
    "duration": 3,
    "start_time": "2023-04-17T20:38:26.728Z"
   },
   {
    "duration": 12,
    "start_time": "2023-04-17T20:38:26.733Z"
   },
   {
    "duration": 15,
    "start_time": "2023-04-17T20:38:26.747Z"
   },
   {
    "duration": 186,
    "start_time": "2023-04-17T20:38:26.764Z"
   },
   {
    "duration": 91,
    "start_time": "2023-04-17T20:38:26.951Z"
   },
   {
    "duration": 64,
    "start_time": "2023-04-17T20:38:27.043Z"
   },
   {
    "duration": 4,
    "start_time": "2023-04-17T20:38:27.108Z"
   },
   {
    "duration": 18,
    "start_time": "2023-04-17T20:38:27.113Z"
   },
   {
    "duration": 128,
    "start_time": "2023-04-17T20:38:27.133Z"
   },
   {
    "duration": 110,
    "start_time": "2023-04-17T20:38:27.263Z"
   },
   {
    "duration": 25,
    "start_time": "2023-04-17T20:38:27.374Z"
   },
   {
    "duration": 9,
    "start_time": "2023-04-17T20:38:27.401Z"
   },
   {
    "duration": 15,
    "start_time": "2023-04-17T20:38:27.411Z"
   },
   {
    "duration": 118,
    "start_time": "2023-04-17T20:38:27.427Z"
   },
   {
    "duration": 26,
    "start_time": "2023-04-17T20:38:27.547Z"
   },
   {
    "duration": 6,
    "start_time": "2023-04-17T20:38:27.574Z"
   },
   {
    "duration": 422,
    "start_time": "2023-04-17T20:38:27.581Z"
   },
   {
    "duration": 7,
    "start_time": "2023-04-17T20:38:28.005Z"
   },
   {
    "duration": 24,
    "start_time": "2023-04-17T20:38:28.014Z"
   },
   {
    "duration": 35,
    "start_time": "2023-04-17T20:38:28.040Z"
   },
   {
    "duration": 34,
    "start_time": "2023-04-17T20:38:28.076Z"
   },
   {
    "duration": 6,
    "start_time": "2023-04-17T20:38:28.111Z"
   },
   {
    "duration": 31,
    "start_time": "2023-04-17T20:38:28.119Z"
   },
   {
    "duration": 34,
    "start_time": "2023-04-17T20:38:28.151Z"
   },
   {
    "duration": 22,
    "start_time": "2023-04-17T20:38:28.186Z"
   },
   {
    "duration": 263,
    "start_time": "2023-04-17T20:38:28.209Z"
   },
   {
    "duration": 51,
    "start_time": "2023-04-17T20:38:28.475Z"
   },
   {
    "duration": 324,
    "start_time": "2023-04-17T20:38:28.528Z"
   },
   {
    "duration": 11,
    "start_time": "2023-04-17T20:38:28.854Z"
   },
   {
    "duration": 27,
    "start_time": "2023-04-17T20:38:28.866Z"
   },
   {
    "duration": 15,
    "start_time": "2023-04-17T20:38:28.894Z"
   },
   {
    "duration": 115,
    "start_time": "2023-04-17T20:38:28.910Z"
   },
   {
    "duration": 14,
    "start_time": "2023-04-17T20:38:29.026Z"
   },
   {
    "duration": 38,
    "start_time": "2023-04-17T20:38:29.042Z"
   },
   {
    "duration": 32,
    "start_time": "2023-04-17T20:38:29.082Z"
   },
   {
    "duration": 27,
    "start_time": "2023-04-17T20:38:29.115Z"
   },
   {
    "duration": 86,
    "start_time": "2023-04-17T20:38:29.143Z"
   },
   {
    "duration": 42,
    "start_time": "2023-04-17T20:38:29.230Z"
   },
   {
    "duration": 6,
    "start_time": "2023-04-17T20:38:29.274Z"
   },
   {
    "duration": 18,
    "start_time": "2023-04-17T20:38:29.281Z"
   },
   {
    "duration": 33,
    "start_time": "2023-04-17T20:38:29.301Z"
   },
   {
    "duration": 44,
    "start_time": "2023-04-17T20:38:29.335Z"
   },
   {
    "duration": 11,
    "start_time": "2023-04-17T20:38:29.381Z"
   },
   {
    "duration": 37,
    "start_time": "2023-04-17T20:38:29.394Z"
   },
   {
    "duration": 85,
    "start_time": "2023-04-17T20:38:29.432Z"
   },
   {
    "duration": 43,
    "start_time": "2023-04-17T20:38:29.519Z"
   },
   {
    "duration": 265,
    "start_time": "2023-04-17T20:40:26.502Z"
   },
   {
    "duration": 1111,
    "start_time": "2023-04-17T20:40:32.890Z"
   },
   {
    "duration": 4,
    "start_time": "2023-04-17T20:40:34.003Z"
   },
   {
    "duration": 9,
    "start_time": "2023-04-17T20:40:34.008Z"
   },
   {
    "duration": 10,
    "start_time": "2023-04-17T20:40:34.018Z"
   },
   {
    "duration": 150,
    "start_time": "2023-04-17T20:40:34.030Z"
   },
   {
    "duration": 80,
    "start_time": "2023-04-17T20:40:34.181Z"
   },
   {
    "duration": 64,
    "start_time": "2023-04-17T20:40:34.262Z"
   },
   {
    "duration": 4,
    "start_time": "2023-04-17T20:40:34.328Z"
   },
   {
    "duration": 39,
    "start_time": "2023-04-17T20:40:34.334Z"
   },
   {
    "duration": 122,
    "start_time": "2023-04-17T20:40:34.375Z"
   },
   {
    "duration": 115,
    "start_time": "2023-04-17T20:40:34.499Z"
   },
   {
    "duration": 31,
    "start_time": "2023-04-17T20:40:34.615Z"
   },
   {
    "duration": 26,
    "start_time": "2023-04-17T20:40:34.647Z"
   },
   {
    "duration": 16,
    "start_time": "2023-04-17T20:40:34.676Z"
   },
   {
    "duration": 111,
    "start_time": "2023-04-17T20:40:34.693Z"
   },
   {
    "duration": 18,
    "start_time": "2023-04-17T20:40:34.805Z"
   },
   {
    "duration": 4,
    "start_time": "2023-04-17T20:40:34.825Z"
   },
   {
    "duration": 397,
    "start_time": "2023-04-17T20:40:34.831Z"
   },
   {
    "duration": 7,
    "start_time": "2023-04-17T20:40:35.229Z"
   },
   {
    "duration": 38,
    "start_time": "2023-04-17T20:40:35.237Z"
   },
   {
    "duration": 16,
    "start_time": "2023-04-17T20:40:35.277Z"
   },
   {
    "duration": 34,
    "start_time": "2023-04-17T20:40:35.294Z"
   },
   {
    "duration": 6,
    "start_time": "2023-04-17T20:40:35.329Z"
   },
   {
    "duration": 53,
    "start_time": "2023-04-17T20:40:35.337Z"
   },
   {
    "duration": 17,
    "start_time": "2023-04-17T20:40:35.391Z"
   },
   {
    "duration": 22,
    "start_time": "2023-04-17T20:40:35.409Z"
   },
   {
    "duration": 343,
    "start_time": "2023-04-17T20:40:35.432Z"
   },
   {
    "duration": 53,
    "start_time": "2023-04-17T20:40:35.778Z"
   },
   {
    "duration": 317,
    "start_time": "2023-04-17T20:40:35.833Z"
   },
   {
    "duration": 22,
    "start_time": "2023-04-17T20:40:36.152Z"
   },
   {
    "duration": 8,
    "start_time": "2023-04-17T20:40:36.176Z"
   },
   {
    "duration": 23,
    "start_time": "2023-04-17T20:40:36.186Z"
   },
   {
    "duration": 144,
    "start_time": "2023-04-17T20:40:36.211Z"
   },
   {
    "duration": 25,
    "start_time": "2023-04-17T20:40:36.357Z"
   },
   {
    "duration": 16,
    "start_time": "2023-04-17T20:40:36.384Z"
   },
   {
    "duration": 12,
    "start_time": "2023-04-17T20:40:36.401Z"
   },
   {
    "duration": 8,
    "start_time": "2023-04-17T20:40:36.415Z"
   },
   {
    "duration": 83,
    "start_time": "2023-04-17T20:40:36.424Z"
   },
   {
    "duration": 31,
    "start_time": "2023-04-17T20:40:36.508Z"
   },
   {
    "duration": 8,
    "start_time": "2023-04-17T20:40:36.541Z"
   },
   {
    "duration": 45,
    "start_time": "2023-04-17T20:40:36.552Z"
   },
   {
    "duration": 54,
    "start_time": "2023-04-17T20:40:36.598Z"
   },
   {
    "duration": 37,
    "start_time": "2023-04-17T20:40:36.653Z"
   },
   {
    "duration": 18,
    "start_time": "2023-04-17T20:40:36.692Z"
   },
   {
    "duration": 19,
    "start_time": "2023-04-17T20:40:36.711Z"
   },
   {
    "duration": 36,
    "start_time": "2023-04-17T20:40:36.732Z"
   },
   {
    "duration": 39,
    "start_time": "2023-04-17T20:40:36.769Z"
   },
   {
    "duration": 1539,
    "start_time": "2023-04-19T12:59:11.748Z"
   },
   {
    "duration": 5,
    "start_time": "2023-04-19T12:59:13.290Z"
   },
   {
    "duration": 16,
    "start_time": "2023-04-19T12:59:13.299Z"
   },
   {
    "duration": 15,
    "start_time": "2023-04-19T12:59:13.317Z"
   },
   {
    "duration": 1304,
    "start_time": "2023-04-19T12:59:13.334Z"
   },
   {
    "duration": 104,
    "start_time": "2023-04-19T12:59:14.640Z"
   },
   {
    "duration": 79,
    "start_time": "2023-04-19T12:59:14.746Z"
   },
   {
    "duration": 4,
    "start_time": "2023-04-19T12:59:14.827Z"
   },
   {
    "duration": 44,
    "start_time": "2023-04-19T12:59:14.834Z"
   },
   {
    "duration": 156,
    "start_time": "2023-04-19T12:59:14.880Z"
   },
   {
    "duration": 159,
    "start_time": "2023-04-19T12:59:15.038Z"
   },
   {
    "duration": 29,
    "start_time": "2023-04-19T12:59:15.198Z"
   },
   {
    "duration": 19,
    "start_time": "2023-04-19T12:59:15.228Z"
   },
   {
    "duration": 46,
    "start_time": "2023-04-19T12:59:15.249Z"
   },
   {
    "duration": 143,
    "start_time": "2023-04-19T12:59:15.297Z"
   },
   {
    "duration": 31,
    "start_time": "2023-04-19T12:59:15.442Z"
   },
   {
    "duration": 9,
    "start_time": "2023-04-19T12:59:15.476Z"
   },
   {
    "duration": 523,
    "start_time": "2023-04-19T12:59:15.490Z"
   },
   {
    "duration": 8,
    "start_time": "2023-04-19T12:59:16.015Z"
   },
   {
    "duration": 85,
    "start_time": "2023-04-19T12:59:16.024Z"
   },
   {
    "duration": 19,
    "start_time": "2023-04-19T12:59:16.111Z"
   },
   {
    "duration": 52,
    "start_time": "2023-04-19T12:59:16.131Z"
   },
   {
    "duration": 11,
    "start_time": "2023-04-19T12:59:16.186Z"
   },
   {
    "duration": 38,
    "start_time": "2023-04-19T12:59:16.198Z"
   },
   {
    "duration": 33,
    "start_time": "2023-04-19T12:59:16.237Z"
   },
   {
    "duration": 39,
    "start_time": "2023-04-19T12:59:16.273Z"
   },
   {
    "duration": 425,
    "start_time": "2023-04-19T12:59:16.315Z"
   },
   {
    "duration": 68,
    "start_time": "2023-04-19T12:59:16.742Z"
   },
   {
    "duration": 310,
    "start_time": "2023-04-19T12:59:16.811Z"
   },
   {
    "duration": 12,
    "start_time": "2023-04-19T12:59:17.123Z"
   },
   {
    "duration": 7,
    "start_time": "2023-04-19T12:59:17.137Z"
   },
   {
    "duration": 26,
    "start_time": "2023-04-19T12:59:17.145Z"
   },
   {
    "duration": 162,
    "start_time": "2023-04-19T12:59:17.172Z"
   },
   {
    "duration": 14,
    "start_time": "2023-04-19T12:59:17.335Z"
   },
   {
    "duration": 22,
    "start_time": "2023-04-19T12:59:17.350Z"
   },
   {
    "duration": 12,
    "start_time": "2023-04-19T12:59:17.374Z"
   },
   {
    "duration": 4,
    "start_time": "2023-04-19T12:59:17.389Z"
   },
   {
    "duration": 119,
    "start_time": "2023-04-19T12:59:17.395Z"
   },
   {
    "duration": 55,
    "start_time": "2023-04-19T12:59:17.516Z"
   },
   {
    "duration": 16,
    "start_time": "2023-04-19T12:59:17.574Z"
   },
   {
    "duration": 13,
    "start_time": "2023-04-19T12:59:17.593Z"
   },
   {
    "duration": 34,
    "start_time": "2023-04-19T12:59:17.608Z"
   },
   {
    "duration": 72,
    "start_time": "2023-04-19T12:59:17.643Z"
   },
   {
    "duration": 7,
    "start_time": "2023-04-19T12:59:17.717Z"
   },
   {
    "duration": 22,
    "start_time": "2023-04-19T12:59:17.725Z"
   },
   {
    "duration": 63,
    "start_time": "2023-04-19T12:59:17.749Z"
   },
   {
    "duration": 30,
    "start_time": "2023-04-19T12:59:17.814Z"
   },
   {
    "duration": 11,
    "start_time": "2023-04-19T13:02:00.013Z"
   },
   {
    "duration": 1401,
    "start_time": "2023-04-26T14:47:06.703Z"
   },
   {
    "duration": 5,
    "start_time": "2023-04-26T14:47:08.107Z"
   },
   {
    "duration": 10,
    "start_time": "2023-04-26T14:47:08.113Z"
   },
   {
    "duration": 16,
    "start_time": "2023-04-26T14:47:08.126Z"
   },
   {
    "duration": 863,
    "start_time": "2023-04-26T14:47:08.144Z"
   },
   {
    "duration": 86,
    "start_time": "2023-04-26T14:47:09.009Z"
   },
   {
    "duration": 65,
    "start_time": "2023-04-26T14:47:09.097Z"
   },
   {
    "duration": 5,
    "start_time": "2023-04-26T14:47:09.164Z"
   },
   {
    "duration": 21,
    "start_time": "2023-04-26T14:47:09.170Z"
   },
   {
    "duration": 143,
    "start_time": "2023-04-26T14:47:09.194Z"
   },
   {
    "duration": 129,
    "start_time": "2023-04-26T14:47:09.338Z"
   },
   {
    "duration": 25,
    "start_time": "2023-04-26T14:47:09.469Z"
   },
   {
    "duration": 6,
    "start_time": "2023-04-26T14:47:09.496Z"
   },
   {
    "duration": 21,
    "start_time": "2023-04-26T14:47:09.504Z"
   },
   {
    "duration": 126,
    "start_time": "2023-04-26T14:47:09.527Z"
   },
   {
    "duration": 20,
    "start_time": "2023-04-26T14:47:09.656Z"
   },
   {
    "duration": 5,
    "start_time": "2023-04-26T14:47:09.678Z"
   },
   {
    "duration": 527,
    "start_time": "2023-04-26T14:47:09.685Z"
   },
   {
    "duration": 8,
    "start_time": "2023-04-26T14:47:10.214Z"
   },
   {
    "duration": 62,
    "start_time": "2023-04-26T14:47:10.224Z"
   },
   {
    "duration": 21,
    "start_time": "2023-04-26T14:47:10.288Z"
   },
   {
    "duration": 58,
    "start_time": "2023-04-26T14:47:10.311Z"
   },
   {
    "duration": 8,
    "start_time": "2023-04-26T14:47:10.370Z"
   },
   {
    "duration": 75,
    "start_time": "2023-04-26T14:47:10.379Z"
   },
   {
    "duration": 18,
    "start_time": "2023-04-26T14:47:10.456Z"
   },
   {
    "duration": 51,
    "start_time": "2023-04-26T14:47:10.476Z"
   },
   {
    "duration": 378,
    "start_time": "2023-04-26T14:47:10.529Z"
   },
   {
    "duration": 65,
    "start_time": "2023-04-26T14:47:10.910Z"
   },
   {
    "duration": 280,
    "start_time": "2023-04-26T14:47:10.976Z"
   },
   {
    "duration": 12,
    "start_time": "2023-04-26T14:47:11.257Z"
   },
   {
    "duration": 8,
    "start_time": "2023-04-26T14:47:11.271Z"
   },
   {
    "duration": 25,
    "start_time": "2023-04-26T14:47:11.280Z"
   },
   {
    "duration": 127,
    "start_time": "2023-04-26T14:47:11.307Z"
   },
   {
    "duration": 23,
    "start_time": "2023-04-26T14:47:11.436Z"
   },
   {
    "duration": 17,
    "start_time": "2023-04-26T14:47:11.460Z"
   },
   {
    "duration": 9,
    "start_time": "2023-04-26T14:47:11.478Z"
   },
   {
    "duration": 9,
    "start_time": "2023-04-26T14:47:11.489Z"
   },
   {
    "duration": 88,
    "start_time": "2023-04-26T14:47:11.499Z"
   },
   {
    "duration": 34,
    "start_time": "2023-04-26T14:47:11.589Z"
   },
   {
    "duration": 6,
    "start_time": "2023-04-26T14:47:11.625Z"
   },
   {
    "duration": 32,
    "start_time": "2023-04-26T14:47:11.633Z"
   },
   {
    "duration": 33,
    "start_time": "2023-04-26T14:47:11.666Z"
   },
   {
    "duration": 57,
    "start_time": "2023-04-26T14:47:11.701Z"
   },
   {
    "duration": 7,
    "start_time": "2023-04-26T14:47:11.760Z"
   },
   {
    "duration": 13,
    "start_time": "2023-04-26T14:47:11.769Z"
   },
   {
    "duration": 41,
    "start_time": "2023-04-26T14:47:11.784Z"
   },
   {
    "duration": 56,
    "start_time": "2023-04-26T14:47:11.827Z"
   },
   {
    "duration": 1310,
    "start_time": "2023-04-26T18:13:00.493Z"
   },
   {
    "duration": 5,
    "start_time": "2023-04-26T18:13:01.805Z"
   },
   {
    "duration": 85,
    "start_time": "2023-04-26T18:13:01.813Z"
   },
   {
    "duration": 136,
    "start_time": "2023-04-26T18:13:01.900Z"
   },
   {
    "duration": 242,
    "start_time": "2023-04-26T18:13:02.039Z"
   },
   {
    "duration": 120,
    "start_time": "2023-04-26T18:13:02.285Z"
   },
   {
    "duration": 69,
    "start_time": "2023-04-26T18:13:02.406Z"
   },
   {
    "duration": 5,
    "start_time": "2023-04-26T18:13:02.477Z"
   },
   {
    "duration": 48,
    "start_time": "2023-04-26T18:13:02.485Z"
   },
   {
    "duration": 129,
    "start_time": "2023-04-26T18:13:02.535Z"
   },
   {
    "duration": 114,
    "start_time": "2023-04-26T18:13:02.666Z"
   },
   {
    "duration": 46,
    "start_time": "2023-04-26T18:13:02.781Z"
   },
   {
    "duration": 9,
    "start_time": "2023-04-26T18:13:02.829Z"
   },
   {
    "duration": 35,
    "start_time": "2023-04-26T18:13:02.841Z"
   },
   {
    "duration": 133,
    "start_time": "2023-04-26T18:13:02.878Z"
   },
   {
    "duration": 19,
    "start_time": "2023-04-26T18:13:03.013Z"
   },
   {
    "duration": 5,
    "start_time": "2023-04-26T18:13:03.034Z"
   },
   {
    "duration": 434,
    "start_time": "2023-04-26T18:13:03.041Z"
   },
   {
    "duration": 9,
    "start_time": "2023-04-26T18:13:03.476Z"
   },
   {
    "duration": 40,
    "start_time": "2023-04-26T18:13:03.487Z"
   },
   {
    "duration": 42,
    "start_time": "2023-04-26T18:13:03.528Z"
   },
   {
    "duration": 37,
    "start_time": "2023-04-26T18:13:03.571Z"
   },
   {
    "duration": 8,
    "start_time": "2023-04-26T18:13:03.610Z"
   },
   {
    "duration": 59,
    "start_time": "2023-04-26T18:13:03.620Z"
   },
   {
    "duration": 24,
    "start_time": "2023-04-26T18:13:03.681Z"
   },
   {
    "duration": 49,
    "start_time": "2023-04-26T18:13:03.707Z"
   },
   {
    "duration": 324,
    "start_time": "2023-04-26T18:13:03.758Z"
   },
   {
    "duration": 71,
    "start_time": "2023-04-26T18:13:04.084Z"
   },
   {
    "duration": 287,
    "start_time": "2023-04-26T18:13:04.158Z"
   },
   {
    "duration": 20,
    "start_time": "2023-04-26T18:13:04.446Z"
   },
   {
    "duration": 7,
    "start_time": "2023-04-26T18:13:04.467Z"
   },
   {
    "duration": 12,
    "start_time": "2023-04-26T18:13:04.476Z"
   },
   {
    "duration": 134,
    "start_time": "2023-04-26T18:13:04.489Z"
   },
   {
    "duration": 14,
    "start_time": "2023-04-26T18:13:04.625Z"
   },
   {
    "duration": 18,
    "start_time": "2023-04-26T18:13:04.641Z"
   },
   {
    "duration": 7,
    "start_time": "2023-04-26T18:13:04.661Z"
   },
   {
    "duration": 5,
    "start_time": "2023-04-26T18:13:04.669Z"
   },
   {
    "duration": 103,
    "start_time": "2023-04-26T18:13:04.675Z"
   },
   {
    "duration": 33,
    "start_time": "2023-04-26T18:13:04.780Z"
   },
   {
    "duration": 6,
    "start_time": "2023-04-26T18:13:04.815Z"
   },
   {
    "duration": 37,
    "start_time": "2023-04-26T18:13:04.825Z"
   },
   {
    "duration": 39,
    "start_time": "2023-04-26T18:13:04.864Z"
   },
   {
    "duration": 53,
    "start_time": "2023-04-26T18:13:04.905Z"
   },
   {
    "duration": 8,
    "start_time": "2023-04-26T18:13:04.960Z"
   },
   {
    "duration": 30,
    "start_time": "2023-04-26T18:13:04.969Z"
   },
   {
    "duration": 45,
    "start_time": "2023-04-26T18:13:05.000Z"
   },
   {
    "duration": 43,
    "start_time": "2023-04-26T18:13:05.047Z"
   },
   {
    "duration": 1320,
    "start_time": "2023-04-26T18:13:30.128Z"
   },
   {
    "duration": 1140,
    "start_time": "2023-04-26T18:13:41.085Z"
   },
   {
    "duration": 7,
    "start_time": "2023-04-26T18:13:42.229Z"
   },
   {
    "duration": 59,
    "start_time": "2023-04-26T18:13:42.238Z"
   },
   {
    "duration": 36,
    "start_time": "2023-04-26T18:13:42.299Z"
   },
   {
    "duration": 155,
    "start_time": "2023-04-26T18:13:42.337Z"
   },
   {
    "duration": 7,
    "start_time": "2023-04-26T18:13:42.494Z"
   },
   {
    "duration": 106,
    "start_time": "2023-04-26T18:13:42.503Z"
   },
   {
    "duration": 76,
    "start_time": "2023-04-26T18:13:42.611Z"
   },
   {
    "duration": 5,
    "start_time": "2023-04-26T18:13:42.689Z"
   },
   {
    "duration": 18,
    "start_time": "2023-04-26T18:13:42.697Z"
   },
   {
    "duration": 144,
    "start_time": "2023-04-26T18:13:42.717Z"
   },
   {
    "duration": 123,
    "start_time": "2023-04-26T18:13:42.863Z"
   },
   {
    "duration": 25,
    "start_time": "2023-04-26T18:13:42.987Z"
   },
   {
    "duration": 33,
    "start_time": "2023-04-26T18:13:43.014Z"
   },
   {
    "duration": 29,
    "start_time": "2023-04-26T18:13:43.048Z"
   },
   {
    "duration": 107,
    "start_time": "2023-04-26T18:13:43.079Z"
   },
   {
    "duration": 19,
    "start_time": "2023-04-26T18:13:43.188Z"
   },
   {
    "duration": 5,
    "start_time": "2023-04-26T18:13:43.209Z"
   },
   {
    "duration": 442,
    "start_time": "2023-04-26T18:13:43.216Z"
   },
   {
    "duration": 10,
    "start_time": "2023-04-26T18:13:43.661Z"
   },
   {
    "duration": 30,
    "start_time": "2023-04-26T18:13:43.673Z"
   },
   {
    "duration": 19,
    "start_time": "2023-04-26T18:13:43.705Z"
   },
   {
    "duration": 56,
    "start_time": "2023-04-26T18:13:43.726Z"
   },
   {
    "duration": 8,
    "start_time": "2023-04-26T18:13:43.784Z"
   },
   {
    "duration": 64,
    "start_time": "2023-04-26T18:13:43.794Z"
   },
   {
    "duration": 15,
    "start_time": "2023-04-26T18:13:43.860Z"
   },
   {
    "duration": 32,
    "start_time": "2023-04-26T18:13:43.877Z"
   },
   {
    "duration": 353,
    "start_time": "2023-04-26T18:13:43.915Z"
   },
   {
    "duration": 54,
    "start_time": "2023-04-26T18:13:44.270Z"
   },
   {
    "duration": 374,
    "start_time": "2023-04-26T18:13:44.326Z"
   },
   {
    "duration": 13,
    "start_time": "2023-04-26T18:13:44.702Z"
   },
   {
    "duration": 8,
    "start_time": "2023-04-26T18:13:44.717Z"
   },
   {
    "duration": 37,
    "start_time": "2023-04-26T18:13:44.727Z"
   },
   {
    "duration": 140,
    "start_time": "2023-04-26T18:13:44.767Z"
   },
   {
    "duration": 17,
    "start_time": "2023-04-26T18:13:44.909Z"
   },
   {
    "duration": 9,
    "start_time": "2023-04-26T18:13:44.929Z"
   },
   {
    "duration": 8,
    "start_time": "2023-04-26T18:13:44.957Z"
   },
   {
    "duration": 9,
    "start_time": "2023-04-26T18:13:44.967Z"
   },
   {
    "duration": 127,
    "start_time": "2023-04-26T18:13:44.978Z"
   },
   {
    "duration": 50,
    "start_time": "2023-04-26T18:13:45.107Z"
   },
   {
    "duration": 8,
    "start_time": "2023-04-26T18:13:45.159Z"
   },
   {
    "duration": 19,
    "start_time": "2023-04-26T18:13:45.169Z"
   },
   {
    "duration": 40,
    "start_time": "2023-04-26T18:13:45.190Z"
   },
   {
    "duration": 38,
    "start_time": "2023-04-26T18:13:45.256Z"
   },
   {
    "duration": 7,
    "start_time": "2023-04-26T18:13:45.296Z"
   },
   {
    "duration": 16,
    "start_time": "2023-04-26T18:13:45.305Z"
   },
   {
    "duration": 66,
    "start_time": "2023-04-26T18:13:45.323Z"
   },
   {
    "duration": 41,
    "start_time": "2023-04-26T18:13:45.392Z"
   },
   {
    "duration": 1269,
    "start_time": "2023-04-26T18:14:16.971Z"
   },
   {
    "duration": 1158,
    "start_time": "2023-04-26T18:14:22.000Z"
   },
   {
    "duration": 4,
    "start_time": "2023-04-26T18:14:23.160Z"
   },
   {
    "duration": 8,
    "start_time": "2023-04-26T18:14:23.166Z"
   },
   {
    "duration": 13,
    "start_time": "2023-04-26T18:14:23.176Z"
   },
   {
    "duration": 164,
    "start_time": "2023-04-26T18:14:23.192Z"
   },
   {
    "duration": 13,
    "start_time": "2023-04-26T18:14:23.358Z"
   },
   {
    "duration": 107,
    "start_time": "2023-04-26T18:14:23.372Z"
   },
   {
    "duration": 75,
    "start_time": "2023-04-26T18:14:23.481Z"
   },
   {
    "duration": 5,
    "start_time": "2023-04-26T18:14:23.558Z"
   },
   {
    "duration": 19,
    "start_time": "2023-04-26T18:14:23.565Z"
   },
   {
    "duration": 145,
    "start_time": "2023-04-26T18:14:23.586Z"
   },
   {
    "duration": 113,
    "start_time": "2023-04-26T18:14:23.733Z"
   },
   {
    "duration": 27,
    "start_time": "2023-04-26T18:14:23.855Z"
   },
   {
    "duration": 7,
    "start_time": "2023-04-26T18:14:23.887Z"
   },
   {
    "duration": 20,
    "start_time": "2023-04-26T18:14:23.896Z"
   },
   {
    "duration": 172,
    "start_time": "2023-04-26T18:14:23.918Z"
   },
   {
    "duration": 27,
    "start_time": "2023-04-26T18:14:24.092Z"
   },
   {
    "duration": 7,
    "start_time": "2023-04-26T18:14:24.121Z"
   },
   {
    "duration": 457,
    "start_time": "2023-04-26T18:14:24.130Z"
   },
   {
    "duration": 8,
    "start_time": "2023-04-26T18:14:24.589Z"
   },
   {
    "duration": 28,
    "start_time": "2023-04-26T18:14:24.598Z"
   },
   {
    "duration": 42,
    "start_time": "2023-04-26T18:14:24.627Z"
   },
   {
    "duration": 35,
    "start_time": "2023-04-26T18:14:24.671Z"
   },
   {
    "duration": 7,
    "start_time": "2023-04-26T18:14:24.708Z"
   },
   {
    "duration": 58,
    "start_time": "2023-04-26T18:14:24.716Z"
   },
   {
    "duration": 16,
    "start_time": "2023-04-26T18:14:24.775Z"
   },
   {
    "duration": 37,
    "start_time": "2023-04-26T18:14:24.792Z"
   },
   {
    "duration": 314,
    "start_time": "2023-04-26T18:14:24.831Z"
   },
   {
    "duration": 57,
    "start_time": "2023-04-26T18:14:25.147Z"
   },
   {
    "duration": 338,
    "start_time": "2023-04-26T18:14:25.207Z"
   },
   {
    "duration": 17,
    "start_time": "2023-04-26T18:14:25.547Z"
   },
   {
    "duration": 7,
    "start_time": "2023-04-26T18:14:25.566Z"
   },
   {
    "duration": 36,
    "start_time": "2023-04-26T18:14:25.576Z"
   },
   {
    "duration": 130,
    "start_time": "2023-04-26T18:14:25.614Z"
   },
   {
    "duration": 19,
    "start_time": "2023-04-26T18:14:25.755Z"
   },
   {
    "duration": 11,
    "start_time": "2023-04-26T18:14:25.776Z"
   },
   {
    "duration": 10,
    "start_time": "2023-04-26T18:14:25.788Z"
   },
   {
    "duration": 7,
    "start_time": "2023-04-26T18:14:25.800Z"
   },
   {
    "duration": 109,
    "start_time": "2023-04-26T18:14:25.809Z"
   },
   {
    "duration": 51,
    "start_time": "2023-04-26T18:14:25.919Z"
   },
   {
    "duration": 10,
    "start_time": "2023-04-26T18:14:25.975Z"
   },
   {
    "duration": 17,
    "start_time": "2023-04-26T18:14:25.987Z"
   },
   {
    "duration": 61,
    "start_time": "2023-04-26T18:14:26.006Z"
   },
   {
    "duration": 52,
    "start_time": "2023-04-26T18:14:26.069Z"
   },
   {
    "duration": 8,
    "start_time": "2023-04-26T18:14:26.123Z"
   },
   {
    "duration": 14,
    "start_time": "2023-04-26T18:14:26.156Z"
   },
   {
    "duration": 56,
    "start_time": "2023-04-26T18:14:26.171Z"
   },
   {
    "duration": 49,
    "start_time": "2023-04-26T18:14:26.230Z"
   },
   {
    "duration": 1657,
    "start_time": "2023-04-26T18:14:41.203Z"
   },
   {
    "duration": 4,
    "start_time": "2023-04-26T18:14:42.862Z"
   },
   {
    "duration": 11,
    "start_time": "2023-04-26T18:14:42.868Z"
   },
   {
    "duration": 48,
    "start_time": "2023-04-26T18:14:42.881Z"
   },
   {
    "duration": 192,
    "start_time": "2023-04-26T18:14:42.932Z"
   },
   {
    "duration": 13,
    "start_time": "2023-04-26T18:14:43.125Z"
   },
   {
    "duration": 122,
    "start_time": "2023-04-26T18:14:43.140Z"
   },
   {
    "duration": 62,
    "start_time": "2023-04-26T18:14:43.263Z"
   },
   {
    "duration": 4,
    "start_time": "2023-04-26T18:14:43.327Z"
   },
   {
    "duration": 40,
    "start_time": "2023-04-26T18:14:43.332Z"
   },
   {
    "duration": 140,
    "start_time": "2023-04-26T18:14:43.374Z"
   },
   {
    "duration": 117,
    "start_time": "2023-04-26T18:14:43.516Z"
   },
   {
    "duration": 35,
    "start_time": "2023-04-26T18:14:43.635Z"
   },
   {
    "duration": 7,
    "start_time": "2023-04-26T18:14:43.674Z"
   },
   {
    "duration": 15,
    "start_time": "2023-04-26T18:14:43.683Z"
   },
   {
    "duration": 151,
    "start_time": "2023-04-26T18:14:43.700Z"
   },
   {
    "duration": 21,
    "start_time": "2023-04-26T18:14:43.853Z"
   },
   {
    "duration": 8,
    "start_time": "2023-04-26T18:14:43.875Z"
   },
   {
    "duration": 489,
    "start_time": "2023-04-26T18:14:43.885Z"
   },
   {
    "duration": 8,
    "start_time": "2023-04-26T18:14:44.376Z"
   },
   {
    "duration": 39,
    "start_time": "2023-04-26T18:14:44.386Z"
   },
   {
    "duration": 34,
    "start_time": "2023-04-26T18:14:44.427Z"
   },
   {
    "duration": 38,
    "start_time": "2023-04-26T18:14:44.463Z"
   },
   {
    "duration": 9,
    "start_time": "2023-04-26T18:14:44.503Z"
   },
   {
    "duration": 56,
    "start_time": "2023-04-26T18:14:44.514Z"
   },
   {
    "duration": 15,
    "start_time": "2023-04-26T18:14:44.571Z"
   },
   {
    "duration": 22,
    "start_time": "2023-04-26T18:14:44.588Z"
   },
   {
    "duration": 330,
    "start_time": "2023-04-26T18:14:44.611Z"
   },
   {
    "duration": 51,
    "start_time": "2023-04-26T18:14:44.943Z"
   },
   {
    "duration": 277,
    "start_time": "2023-04-26T18:14:44.995Z"
   },
   {
    "duration": 13,
    "start_time": "2023-04-26T18:14:45.274Z"
   },
   {
    "duration": 7,
    "start_time": "2023-04-26T18:14:45.289Z"
   },
   {
    "duration": 11,
    "start_time": "2023-04-26T18:14:45.298Z"
   },
   {
    "duration": 150,
    "start_time": "2023-04-26T18:14:45.310Z"
   },
   {
    "duration": 14,
    "start_time": "2023-04-26T18:14:45.462Z"
   },
   {
    "duration": 8,
    "start_time": "2023-04-26T18:14:45.478Z"
   },
   {
    "duration": 7,
    "start_time": "2023-04-26T18:14:45.488Z"
   },
   {
    "duration": 5,
    "start_time": "2023-04-26T18:14:45.497Z"
   },
   {
    "duration": 108,
    "start_time": "2023-04-26T18:14:45.504Z"
   },
   {
    "duration": 45,
    "start_time": "2023-04-26T18:14:45.614Z"
   },
   {
    "duration": 7,
    "start_time": "2023-04-26T18:14:45.663Z"
   },
   {
    "duration": 13,
    "start_time": "2023-04-26T18:14:45.672Z"
   },
   {
    "duration": 31,
    "start_time": "2023-04-26T18:14:45.687Z"
   },
   {
    "duration": 63,
    "start_time": "2023-04-26T18:14:45.719Z"
   },
   {
    "duration": 7,
    "start_time": "2023-04-26T18:14:45.784Z"
   },
   {
    "duration": 13,
    "start_time": "2023-04-26T18:14:45.792Z"
   },
   {
    "duration": 52,
    "start_time": "2023-04-26T18:14:45.806Z"
   },
   {
    "duration": 32,
    "start_time": "2023-04-26T18:14:45.859Z"
   },
   {
    "duration": 1161,
    "start_time": "2023-04-26T18:17:02.046Z"
   },
   {
    "duration": 4,
    "start_time": "2023-04-26T18:17:03.209Z"
   },
   {
    "duration": 19,
    "start_time": "2023-04-26T18:17:03.214Z"
   },
   {
    "duration": 24,
    "start_time": "2023-04-26T18:17:03.235Z"
   },
   {
    "duration": 170,
    "start_time": "2023-04-26T18:17:03.261Z"
   },
   {
    "duration": 96,
    "start_time": "2023-04-26T18:17:03.432Z"
   },
   {
    "duration": 0,
    "start_time": "2023-04-26T18:17:03.531Z"
   },
   {
    "duration": 0,
    "start_time": "2023-04-26T18:17:03.532Z"
   },
   {
    "duration": 0,
    "start_time": "2023-04-26T18:17:03.533Z"
   },
   {
    "duration": 0,
    "start_time": "2023-04-26T18:17:03.535Z"
   },
   {
    "duration": 0,
    "start_time": "2023-04-26T18:17:03.535Z"
   },
   {
    "duration": 0,
    "start_time": "2023-04-26T18:17:03.536Z"
   },
   {
    "duration": 0,
    "start_time": "2023-04-26T18:17:03.538Z"
   },
   {
    "duration": 0,
    "start_time": "2023-04-26T18:17:03.539Z"
   },
   {
    "duration": 0,
    "start_time": "2023-04-26T18:17:03.539Z"
   },
   {
    "duration": 0,
    "start_time": "2023-04-26T18:17:03.555Z"
   },
   {
    "duration": 0,
    "start_time": "2023-04-26T18:17:03.556Z"
   },
   {
    "duration": 0,
    "start_time": "2023-04-26T18:17:03.557Z"
   },
   {
    "duration": 0,
    "start_time": "2023-04-26T18:17:03.558Z"
   },
   {
    "duration": 0,
    "start_time": "2023-04-26T18:17:03.559Z"
   },
   {
    "duration": 0,
    "start_time": "2023-04-26T18:17:03.560Z"
   },
   {
    "duration": 0,
    "start_time": "2023-04-26T18:17:03.561Z"
   },
   {
    "duration": 0,
    "start_time": "2023-04-26T18:17:03.562Z"
   },
   {
    "duration": 0,
    "start_time": "2023-04-26T18:17:03.563Z"
   },
   {
    "duration": 0,
    "start_time": "2023-04-26T18:17:03.564Z"
   },
   {
    "duration": 0,
    "start_time": "2023-04-26T18:17:03.565Z"
   },
   {
    "duration": 0,
    "start_time": "2023-04-26T18:17:03.565Z"
   },
   {
    "duration": 0,
    "start_time": "2023-04-26T18:17:03.566Z"
   },
   {
    "duration": 0,
    "start_time": "2023-04-26T18:17:03.567Z"
   },
   {
    "duration": 0,
    "start_time": "2023-04-26T18:17:03.568Z"
   },
   {
    "duration": 0,
    "start_time": "2023-04-26T18:17:03.569Z"
   },
   {
    "duration": 0,
    "start_time": "2023-04-26T18:17:03.570Z"
   },
   {
    "duration": 0,
    "start_time": "2023-04-26T18:17:03.571Z"
   },
   {
    "duration": 0,
    "start_time": "2023-04-26T18:17:03.572Z"
   },
   {
    "duration": 0,
    "start_time": "2023-04-26T18:17:03.573Z"
   },
   {
    "duration": 0,
    "start_time": "2023-04-26T18:17:03.574Z"
   },
   {
    "duration": 0,
    "start_time": "2023-04-26T18:17:03.574Z"
   },
   {
    "duration": 0,
    "start_time": "2023-04-26T18:17:03.575Z"
   },
   {
    "duration": 0,
    "start_time": "2023-04-26T18:17:03.576Z"
   },
   {
    "duration": 0,
    "start_time": "2023-04-26T18:17:03.577Z"
   },
   {
    "duration": 0,
    "start_time": "2023-04-26T18:17:03.578Z"
   },
   {
    "duration": 0,
    "start_time": "2023-04-26T18:17:03.579Z"
   },
   {
    "duration": 0,
    "start_time": "2023-04-26T18:17:03.580Z"
   },
   {
    "duration": 0,
    "start_time": "2023-04-26T18:17:03.581Z"
   },
   {
    "duration": 0,
    "start_time": "2023-04-26T18:17:03.582Z"
   },
   {
    "duration": 0,
    "start_time": "2023-04-26T18:17:03.583Z"
   },
   {
    "duration": 0,
    "start_time": "2023-04-26T18:17:03.584Z"
   },
   {
    "duration": 0,
    "start_time": "2023-04-26T18:17:03.585Z"
   },
   {
    "duration": 7,
    "start_time": "2023-04-26T18:17:16.396Z"
   },
   {
    "duration": 5,
    "start_time": "2023-04-26T18:17:47.214Z"
   },
   {
    "duration": 6,
    "start_time": "2023-04-26T18:17:54.172Z"
   }
  ],
  "kernelspec": {
   "display_name": "Python 3 (ipykernel)",
   "language": "python",
   "name": "python3"
  },
  "language_info": {
   "codemirror_mode": {
    "name": "ipython",
    "version": 3
   },
   "file_extension": ".py",
   "mimetype": "text/x-python",
   "name": "python",
   "nbconvert_exporter": "python",
   "pygments_lexer": "ipython3",
   "version": "3.9.15"
  },
  "toc": {
   "base_numbering": 1,
   "nav_menu": {},
   "number_sections": true,
   "sideBar": true,
   "skip_h1_title": true,
   "title_cell": "Table of Contents",
   "title_sidebar": "Contents",
   "toc_cell": false,
   "toc_position": {
    "height": "calc(100% - 180px)",
    "left": "10px",
    "top": "150px",
    "width": "349.091px"
   },
   "toc_section_display": true,
   "toc_window_display": true
  }
 },
 "nbformat": 4,
 "nbformat_minor": 2
}
